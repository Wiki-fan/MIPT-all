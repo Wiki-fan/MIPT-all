{
 "cells": [
  {
   "cell_type": "code",
   "execution_count": 1,
   "metadata": {},
   "outputs": [
    {
     "name": "stderr",
     "output_type": "stream",
     "text": [
      "/home/sharik/.pyenv/versions/3.6.0/lib/python3.6/site-packages/sklearn/cross_validation.py:41: DeprecationWarning: This module was deprecated in version 0.18 in favor of the model_selection module into which all the refactored classes and functions are moved. Also note that the interface of the new CV iterators are different from that of this module. This module will be removed in 0.20.\n",
      "  \"This module will be removed in 0.20.\", DeprecationWarning)\n"
     ]
    },
    {
     "data": {
      "text/plain": [
       "'0.19.1'"
      ]
     },
     "execution_count": 1,
     "metadata": {},
     "output_type": "execute_result"
    }
   ],
   "source": [
    "\n",
    "import numpy as np \n",
    "import matplotlib.pyplot as plt\n",
    "%matplotlib inline\n",
    "\n",
    "import math\n",
    "from sklearn.datasets import load_digits\n",
    "from sklearn.cross_validation import train_test_split\n",
    "import tqdm\n",
    "\n",
    "import scipy as sp\n",
    "sp.__version__"
   ]
  },
  {
   "cell_type": "code",
   "execution_count": 59,
   "metadata": {},
   "outputs": [
    {
     "name": "stdout",
     "output_type": "stream",
     "text": [
      "2960\n"
     ]
    }
   ],
   "source": [
    "X_train_color = []\n",
    "y_train_color = []\n",
    "X_test_color = []\n",
    "import os\n",
    "d = os.listdir('train/')\n",
    "\n",
    "for fname in d:\n",
    "    if fname.find('indoor'):\n",
    "        X_train_color.append(sp.misc.imread('train/'+fname))\n",
    "        y_train_color.append(0)\n",
    "    else:\n",
    "        X_train_color.append(sp.misc.imread('train/'+fname))\n",
    "        y_train_color.append(1)\n",
    "\n",
    "d = os.listdir('test/')\n",
    "for fname in d:\n",
    "    X_test_color.append(sp.misc.imread('test/'+fname))\n",
    "\n",
    "X_train_color = np.array(X_train_color)\n",
    "y_train_color = np.array(y_train_color)\n",
    "X_test_color = np.array(X_test_color)\n",
    "print(X_test_color.shape[0])"
   ]
  },
  {
   "cell_type": "code",
   "execution_count": 78,
   "metadata": {},
   "outputs": [
    {
     "name": "stdout",
     "output_type": "stream",
     "text": [
      "(6905, 32, 32, 3)\n",
      "[[174 166 151 ...,  45  42  38]\n",
      " [187 179 167 ...,  52  49  48]\n",
      " [179 175 168 ...,  57  54  52]\n",
      " ..., \n",
      " [ 34  42  39 ...,  63  59  56]\n",
      " [ 26  39  44 ...,  56  56  53]\n",
      " [ 68  37  45 ...,  60  48  48]]\n",
      "(1024, 3)\n",
      "(6905, 3072)\n"
     ]
    }
   ],
   "source": [
    "print(X_train_color.shape)\n",
    "print(X_train_color[0][:,:,0])\n",
    "X_train_color_flattened = []\n",
    "for x in X_train_color:\n",
    "    #print(x.shape)\n",
    "    X_train_color_flattened.append(np.vstack([x[:,:,0].flatten(),x[:,:,1].flatten(), x[:,:,2].flatten()]).T)\n",
    "print(X_train_color_flattened[0].shape)\n",
    "X_train_color_flattened = np.array(X_train_color_flattened)\n",
    "R = X_train_color_flattened[:, :, 0]\n",
    "G = X_train_color_flattened[:, :, 1]\n",
    "B = X_train_color_flattened[:, :, 2]\n",
    "#X_train_bw = R * 299/1000 + G * 587/1000 + B * 114/1000\n",
    "X_train_bw = np.hstack([R, G, B])\n",
    "print(X_train_bw.shape)"
   ]
  },
  {
   "cell_type": "code",
   "execution_count": 80,
   "metadata": {},
   "outputs": [
    {
     "name": "stdout",
     "output_type": "stream",
     "text": [
      "(1024, 3)\n",
      "(2960, 3072)\n"
     ]
    }
   ],
   "source": [
    "\n",
    "X_test_color_flattened = []\n",
    "for x in X_test_color:\n",
    "    #print(x.shape)\n",
    "    X_test_color_flattened.append(np.vstack([x[:,:,0].flatten(),x[:,:,1].flatten(), x[:,:,2].flatten()]).T)\n",
    "print(X_test_color_flattened[0].shape)\n",
    "X_test_color_flattened = np.array(X_test_color_flattened)\n",
    "R = X_test_color_flattened[:, :, 0]\n",
    "G = X_test_color_flattened[:, :, 1]\n",
    "B = X_test_color_flattened[:, :, 2]\n",
    "#X_test_bw = R * 299/1000 + G * 587/1000 + B * 114/1000\n",
    "X_test_bw = np.hstack([R, G, B])\n",
    "print(X_test_bw.shape)"
   ]
  },
  {
   "cell_type": "code",
   "execution_count": 81,
   "metadata": {},
   "outputs": [],
   "source": [
    "from sklearn.metrics import log_loss\n",
    "class LR:\n",
    "    def get_Xn(self, X):\n",
    "        return np.hstack((X, np.ones(X.shape[0]).reshape(-1,1)))\n",
    "    \n",
    "    def fit(self, X_train, Y_train, X_test, Y_test, itrs=5000, step=1000, report_cost=False, reg=0, \n",
    "            armijo=False, alpha=0.5, beta=0.5):\n",
    "        Xn = self.get_Xn(X_train)\n",
    "        \n",
    "        self.reg=reg\n",
    "        \n",
    "        self.K = Y_train.shape[1] if len(Y_train.shape) > 1 else 1\n",
    "        self.W = np.zeros((self.K, Xn.shape[1])) \n",
    "        #self.W = np.random.uniform(-0.1, 0.1, (Y_train.shape[1], Xn.shape[1]))\n",
    "        \n",
    "        train_loss = []\n",
    "        test_loss = []\n",
    "        self.step_stats = dict()\n",
    "        for i in tqdm.tqdm_notebook(range(itrs)):\n",
    "            grad = self.grad(Xn, Y_train, self.W)\n",
    "            if armijo == True:\n",
    "                s = self.armijo(self.W, X_train, Y_train, grad, step, alpha=alpha, beta=beta)\n",
    "            else:\n",
    "                s = step\n",
    "            self.W = self.W - s*grad\n",
    "            \n",
    "            if report_cost:\n",
    "                train_loss.append(self.loss(X_train, Y_train))\n",
    "                test_loss.append(self.loss(X_test, Y_test))\n",
    "        \n",
    "        return np.array(train_loss), np.array(test_loss)\n",
    "    \n",
    "    def softmax(self, W):\n",
    "        \"\"\"Вычисляет softmax от произвольной матрицы W\"\"\"\n",
    "        # Чтобы при промежуточных операциях (суммировании e^z) не возникло переполнения, \n",
    "        # используем logsumexp, пытаясь сделать все операции с логарифмами, \n",
    "        # и только потом возвести e в степень.\n",
    "        good = np.exp(W - sp.misc.logsumexp(W, axis=1).reshape(-1,1))\n",
    "        # Впрочем, ни разу во время тестовых запусков следующий ассерт не сработал.\n",
    "        #tmp = np.exp(W)\n",
    "        #bad = tmp / np.sum(tmp, axis=1).reshape((-1,1))\n",
    "        #assert((np.isclose(bad, good)).all())\n",
    "            \n",
    "        return good\n",
    "    \n",
    "    def predict(self, X, W=None):\n",
    "        \"\"\"Предсказывает значения по выборке. Возвращает вероятности принадлежности тому или иному классу\"\"\"\n",
    "        if W is None:\n",
    "            W = self.W\n",
    "        Xn = self.get_Xn(X)\n",
    "        return self.softmax(np.dot(Xn, W.T))\n",
    "    \n",
    "    def grad(self, Xn, Y, W):\n",
    "        X = Xn[:, :-1]\n",
    "        Yh = self.softmax(np.dot(Xn, W.T))\n",
    "        gradient = np.dot(Yh.T-Y.T,Xn)/Xn.shape[0] + self.reg*W\n",
    "        # Проверка градиента на правильность. Всё хорошо.\n",
    "        #assert(sp.optimize.check_grad(lambda W: self.loss(X, Y, W=W.reshape(10, 65)), \n",
    "        #                            lambda W: np.dot(self.softmax(np.dot(Xn, W.reshape(10, 65).T)).T-Y.T,Xn).flatten()/Xn.shape[0], \n",
    "        #                            W.flatten()) < 1e-5)\n",
    "        return gradient\n",
    "    \n",
    "    def armijo (self, W, X, Y, dW, s, alpha, beta):\n",
    "        while True:\n",
    "            deltaW = -dW\n",
    "            f_new = self.loss(X, Y, W=(W+s*deltaW))\n",
    "            f_old = self.loss(X, Y, W=(W))\n",
    "            move = alpha*s*(deltaW*dW).sum()\n",
    "\n",
    "            if f_new <= f_old+move:\n",
    "                break\n",
    "            s = beta*s\n",
    "\n",
    "        #print('s=', s)\n",
    "        if s not in self.step_stats:\n",
    "            self.step_stats[s] = 0\n",
    "        self.step_stats[s] += 1\n",
    "        return s\n",
    "    \n",
    "    def cross_entropy(self, Y_t, Y_p):\n",
    "        return -np.sum(np.mean(Y_t*np.log(Y_p), axis=0), axis=0)\n",
    "    \n",
    "    def loss(self, X, Y, W=None):\n",
    "        if W is None:\n",
    "            W = self.W\n",
    "        Y_p = self.predict(X, W=W)\n",
    "        #print(log_loss(Y, Y_p), self.cross_entropy(Y, Y_p) - self.reg*np.trace(np.dot(W, W.T))/W.shape[0])\n",
    "        #assert(np.isclose(log_loss(Y, Y_p), self.cross_entropy(Y, Y_p) - self.reg*np.trace(np.dot(W, W.T))/W.shape[0]))\n",
    "        # Или +?\n",
    "        return self.cross_entropy(Y, Y_p) + self.reg*np.trace(np.dot(W, W.T))/W.shape[0]\n",
    "    "
   ]
  },
  {
   "cell_type": "code",
   "execution_count": 82,
   "metadata": {},
   "outputs": [],
   "source": [
    "def one_hot(y, n_classes):\n",
    "    # делаем вектор из 10 координат с 0 везде кроме правильного ответа\n",
    "    tmp = np.zeros(\n",
    "        (len(y), n_classes), \n",
    "        dtype=np.uint8\n",
    "    )\n",
    "    tmp[range(len(tmp)), y] = 1\n",
    "    return tmp\n",
    "\n",
    "X_train_big = (X_train_bw-128)/256\n",
    "y_train_big = one_hot(y_train_color, 2)\n",
    "X_train, X_test, y_train, y_test = train_test_split(\n",
    "    X_train_big,\n",
    "    one_hot(y_train_color, 2),\n",
    "    test_size=0.33,\n",
    "    random_state=0\n",
    ")"
   ]
  },
  {
   "cell_type": "code",
   "execution_count": 83,
   "metadata": {},
   "outputs": [
    {
     "data": {
      "application/vnd.jupyter.widget-view+json": {
       "model_id": "bdeea1793df94586a41c1323e1e94cd5",
       "version_major": 2,
       "version_minor": 0
      },
      "text/html": [
       "<p>Failed to display Jupyter Widget of type <code>HBox</code>.</p>\n",
       "<p>\n",
       "  If you're reading this message in Jupyter Notebook or JupyterLab, it may mean\n",
       "  that the widgets JavaScript is still loading. If this message persists, it\n",
       "  likely means that the widgets JavaScript library is either not installed or\n",
       "  not enabled. See the <a href=\"https://ipywidgets.readthedocs.io/en/stable/user_install.html\">Jupyter\n",
       "  Widgets Documentation</a> for setup instructions.\n",
       "</p>\n",
       "<p>\n",
       "  If you're reading this message in another notebook frontend (for example, a static\n",
       "  rendering on GitHub or <a href=\"https://nbviewer.jupyter.org/\">NBViewer</a>),\n",
       "  it may mean that your frontend doesn't currently support widgets.\n",
       "</p>\n"
      ],
      "text/plain": [
       "HBox(children=(IntProgress(value=0), HTML(value='')))"
      ]
     },
     "metadata": {},
     "output_type": "display_data"
    },
    {
     "name": "stdout",
     "output_type": "stream",
     "text": [
      "\n",
      "Armijo = True\n",
      "Error rate on train: 0.238218763511\n",
      "Error rate on test: 0.286529179465\n",
      "Argmin loss on train: 99\n",
      "Argmin loss on test: 98\n"
     ]
    },
    {
     "data": {
      "application/vnd.jupyter.widget-view+json": {
       "model_id": "9890daa6024e46cf9e8bb6e85611b861",
       "version_major": 2,
       "version_minor": 0
      },
      "text/html": [
       "<p>Failed to display Jupyter Widget of type <code>HBox</code>.</p>\n",
       "<p>\n",
       "  If you're reading this message in Jupyter Notebook or JupyterLab, it may mean\n",
       "  that the widgets JavaScript is still loading. If this message persists, it\n",
       "  likely means that the widgets JavaScript library is either not installed or\n",
       "  not enabled. See the <a href=\"https://ipywidgets.readthedocs.io/en/stable/user_install.html\">Jupyter\n",
       "  Widgets Documentation</a> for setup instructions.\n",
       "</p>\n",
       "<p>\n",
       "  If you're reading this message in another notebook frontend (for example, a static\n",
       "  rendering on GitHub or <a href=\"https://nbviewer.jupyter.org/\">NBViewer</a>),\n",
       "  it may mean that your frontend doesn't currently support widgets.\n",
       "</p>\n"
      ],
      "text/plain": [
       "HBox(children=(IntProgress(value=0), HTML(value='')))"
      ]
     },
     "metadata": {},
     "output_type": "display_data"
    },
    {
     "name": "stdout",
     "output_type": "stream",
     "text": [
      "\n",
      "Armijo = True\n",
      "Error rate on train: 0.238002594034\n",
      "Error rate on test: 0.285212812637\n",
      "Argmin loss on train: 99\n",
      "Argmin loss on test: 84\n"
     ]
    },
    {
     "data": {
      "application/vnd.jupyter.widget-view+json": {
       "model_id": "bae4f20b5dd3432584b99c078070e967",
       "version_major": 2,
       "version_minor": 0
      },
      "text/html": [
       "<p>Failed to display Jupyter Widget of type <code>HBox</code>.</p>\n",
       "<p>\n",
       "  If you're reading this message in Jupyter Notebook or JupyterLab, it may mean\n",
       "  that the widgets JavaScript is still loading. If this message persists, it\n",
       "  likely means that the widgets JavaScript library is either not installed or\n",
       "  not enabled. See the <a href=\"https://ipywidgets.readthedocs.io/en/stable/user_install.html\">Jupyter\n",
       "  Widgets Documentation</a> for setup instructions.\n",
       "</p>\n",
       "<p>\n",
       "  If you're reading this message in another notebook frontend (for example, a static\n",
       "  rendering on GitHub or <a href=\"https://nbviewer.jupyter.org/\">NBViewer</a>),\n",
       "  it may mean that your frontend doesn't currently support widgets.\n",
       "</p>\n"
      ],
      "text/plain": [
       "HBox(children=(IntProgress(value=0), HTML(value='')))"
      ]
     },
     "metadata": {},
     "output_type": "display_data"
    },
    {
     "name": "stdout",
     "output_type": "stream",
     "text": [
      "\n",
      "Armijo = True\n",
      "Error rate on train: 0.239083441418\n",
      "Error rate on test: 0.286090390522\n",
      "Argmin loss on train: 99\n",
      "Argmin loss on test: 56\n"
     ]
    },
    {
     "data": {
      "application/vnd.jupyter.widget-view+json": {
       "model_id": "f23ccff5cdc348e28ba42e775625c0c3",
       "version_major": 2,
       "version_minor": 0
      },
      "text/html": [
       "<p>Failed to display Jupyter Widget of type <code>HBox</code>.</p>\n",
       "<p>\n",
       "  If you're reading this message in Jupyter Notebook or JupyterLab, it may mean\n",
       "  that the widgets JavaScript is still loading. If this message persists, it\n",
       "  likely means that the widgets JavaScript library is either not installed or\n",
       "  not enabled. See the <a href=\"https://ipywidgets.readthedocs.io/en/stable/user_install.html\">Jupyter\n",
       "  Widgets Documentation</a> for setup instructions.\n",
       "</p>\n",
       "<p>\n",
       "  If you're reading this message in another notebook frontend (for example, a static\n",
       "  rendering on GitHub or <a href=\"https://nbviewer.jupyter.org/\">NBViewer</a>),\n",
       "  it may mean that your frontend doesn't currently support widgets.\n",
       "</p>\n"
      ],
      "text/plain": [
       "HBox(children=(IntProgress(value=0), HTML(value='')))"
      ]
     },
     "metadata": {},
     "output_type": "display_data"
    },
    {
     "name": "stdout",
     "output_type": "stream",
     "text": [
      "\n",
      "Armijo = True\n",
      "Error rate on train: 0.238434932987\n",
      "Error rate on test: 0.286967968407\n",
      "Argmin loss on train: 99\n",
      "Argmin loss on test: 96\n",
      "{0.0015625: 4, 0.003125: 48, 0.025: 18, 0.0125: 4, 0.05: 8, 0.1: 5, 0.2: 13}\n"
     ]
    },
    {
     "data": {
      "image/png": "[encoded data removed]",
      "text/plain": [
       "<matplotlib.figure.Figure at 0x7febee335400>"
      ]
     },
     "metadata": {},
     "output_type": "display_data"
    }
   ],
   "source": [
    "lr = LR()\n",
    "\n",
    "def error_rate(Y_t, Y_p):\n",
    "    if len(Y_t.shape)>1:\n",
    "        return np.sum( np.not_equal(np.argmax(Y_t,axis=1), np.argmax(Y_p,axis=1))) / float(Y_p.shape[0])\n",
    "    else:\n",
    "        return np.sum( np.not_equal(np.argmax(Y_t), np.argmax(Y_p))) / float(Y_p.shape[0])\n",
    "\n",
    "def run_and_report(armijo, itrs, step, reg=0):\n",
    "    loss_train, loss_test = lr.fit(X_train, y_train, X_test, y_test, report_cost=True, \n",
    "                                                 itrs=itrs, step=step, armijo=armijo, reg=reg)\n",
    "    print('Armijo =', armijo)\n",
    "    print('Error rate on train:', error_rate(y_train, lr.predict(X_train)))\n",
    "    print('Error rate on test:', error_rate(y_test, lr.predict(X_test)))\n",
    "    \n",
    "    cm = plt.cm.get_cmap('Paired')\n",
    "    plt.plot(\n",
    "        loss_train, \n",
    "        color=cm(plt.cmap_index),\n",
    "        label='Step %d Armijo=%s reg=%f train'%(step, armijo, reg)\n",
    "    )\n",
    "    plt.cmap_index += 1\n",
    "    \n",
    "    plt.plot(\n",
    "        loss_test,\n",
    "        color=cm(plt.cmap_index),\n",
    "        label='Step %d Armijo=%s reg=%f test'%(step, armijo, reg)\n",
    "        )\n",
    "    plt.cmap_index += 1\n",
    "\n",
    "    plt.xlabel('Gradient descent iteration')\n",
    "    plt.ylabel('Loss')\n",
    "    plt.legend()\n",
    "    \n",
    "    print('Argmin loss on train:', np.argmin(loss_train))\n",
    "    print('Argmin loss on test:', np.argmin(loss_test))\n",
    "    \n",
    "    return loss_train, loss_test\n",
    "\n",
    "plt.figure(figsize=(10, 7))\n",
    "plt.cmap_index = 0\n",
    "loss_train, loss_test = run_and_report(True, 100, 0.2, reg=0.001)\n",
    "loss_train, loss_test = run_and_report(True, 100, 0.2, reg=0.01)\n",
    "loss_train, loss_test = run_and_report(True, 100, 0.2, reg=0.1)\n",
    "loss_train, loss_test = run_and_report(True, 100, 0.2, reg=0)\n",
    "#loss_train, loss_test = run_and_report(True, 1000, 0.2, reg=0)\n",
    "print(lr.step_stats)\n",
    "#print(loss_train, loss_test)\n",
    "plt.show()"
   ]
  },
  {
   "cell_type": "code",
   "execution_count": null,
   "metadata": {},
   "outputs": [],
   "source": [
    "print(lr.predict(X_train)[:, 0] == y_train)\n",
    "print(y_train)"
   ]
  },
  {
   "cell_type": "code",
   "execution_count": 91,
   "metadata": {},
   "outputs": [
    {
     "data": {
      "application/vnd.jupyter.widget-view+json": {
       "model_id": "237732dbea1e4604a8830234e75b84c0",
       "version_major": 2,
       "version_minor": 0
      },
      "text/html": [
       "<p>Failed to display Jupyter Widget of type <code>HBox</code>.</p>\n",
       "<p>\n",
       "  If you're reading this message in Jupyter Notebook or JupyterLab, it may mean\n",
       "  that the widgets JavaScript is still loading. If this message persists, it\n",
       "  likely means that the widgets JavaScript library is either not installed or\n",
       "  not enabled. See the <a href=\"https://ipywidgets.readthedocs.io/en/stable/user_install.html\">Jupyter\n",
       "  Widgets Documentation</a> for setup instructions.\n",
       "</p>\n",
       "<p>\n",
       "  If you're reading this message in another notebook frontend (for example, a static\n",
       "  rendering on GitHub or <a href=\"https://nbviewer.jupyter.org/\">NBViewer</a>),\n",
       "  it may mean that your frontend doesn't currently support widgets.\n",
       "</p>\n"
      ],
      "text/plain": [
       "HBox(children=(IntProgress(value=0), HTML(value='')))"
      ]
     },
     "metadata": {},
     "output_type": "display_data"
    },
    {
     "name": "stdout",
     "output_type": "stream",
     "text": [
      "\n"
     ]
    }
   ],
   "source": [
    "lr.fit(X_train_big, y_train_big, [], [], report_cost=False, itrs=100, armijo=True, step=0.5)\n",
    "y_p_prob = lr.predict(X_test_bw)\n",
    "y_p = np.argmax(y_p_prob, axis=1)"
   ]
  },
  {
   "cell_type": "code",
   "execution_count": 92,
   "metadata": {},
   "outputs": [
    {
     "name": "stdout",
     "output_type": "stream",
     "text": [
      "2055 2960\n"
     ]
    }
   ],
   "source": [
    "y_p = np.argmax(y_p_prob, axis=1)\n",
    "print(y_p.sum(), y_p.shape[0])"
   ]
  },
  {
   "cell_type": "code",
   "execution_count": 94,
   "metadata": {},
   "outputs": [],
   "source": [
    "with open('out.csv', 'w') as f:\n",
    "    f.write('id,res\\n')\n",
    "    for i, ans in enumerate(y_p):\n",
    "        f.write('%s,%s\\n'%(i,ans))"
   ]
  },
  {
   "cell_type": "code",
   "execution_count": null,
   "metadata": {},
   "outputs": [],
   "source": []
  }
 ],
 "metadata": {
  "kernelspec": {
   "display_name": "Python 3",
   "language": "python",
   "name": "python3"
  },
  "language_info": {
   "codemirror_mode": {
    "name": "ipython",
    "version": 3
   },
   "file_extension": ".py",
   "mimetype": "text/x-python",
   "name": "python",
   "nbconvert_exporter": "python",
   "pygments_lexer": "ipython3",
   "version": "3.6.0"
  }
 },
 "nbformat": 4,
 "nbformat_minor": 2
}
