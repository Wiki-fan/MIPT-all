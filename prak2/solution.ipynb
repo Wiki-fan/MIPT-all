{
 "cells": [
  {
   "cell_type": "markdown",
   "metadata": {},
   "source": [
    "# Вам предстоит решать задачу классификации изображений методом логистической регрессии. \n",
    "\n",
    "В итоге вы должны получить  функцию $f(x) \\to [0,1]^{10}$, которая на вход получает картинку с написанной от руки цифрой, а на выход дает 10 вероятностей от 0 до 1 принадлежности к каждому из классов (цифре). Картинка это вектор из (8*8) = 64 чисел. Мы будем рассматривать параметрическое семейство функций $F(c)$, таких,  что если $f_с \\in F$, то она удовлетворяет нашим требованиям. Кроме того, для каждой функции  $f_c \\in F$ мы можем посчитать, насколько она хорошо работает на некотором наборе картинок - это будет функционал качества этой функции $loss(f_c, images)$. Чем он меньше, тем лучше: в идеале $loss$ будет давать $0$ в том случае, если наша функция на всех картинках, на которых нарисована цифра $i$ выдала вектор, где все числа отличны от $1$ и только на $i-м$ месте стоит $1$. Иначе это будет некоторое положительное число, которое тем больше, чем хуже работает классификатор (потеря)\n",
    "\n",
    "Итак, возьмем функцию $g(c) = loss(f_c, images)$ и будем ее минимизировать. Если мы найдем глобальный минимум, то научимся максимально качественно решать задачу классификации с помощью того семейства функций, которое мы выбрали. Глобальный минимум мы, конечно, не сможем аналитически найти, поэтому будем решать задачу минимизации методом градиентного спуска."
   ]
  },
  {
   "cell_type": "markdown",
   "metadata": {},
   "source": [
    "# Возьмем датасет нарисованных от руки картинок"
   ]
  },
  {
   "cell_type": "code",
   "execution_count": 12,
   "metadata": {},
   "outputs": [],
   "source": [
    "\n",
    "import numpy as np \n",
    "import matplotlib.pyplot as plt\n",
    "%matplotlib inline\n",
    "\n",
    "import math\n",
    "from sklearn.datasets import load_digits\n",
    "from sklearn.cross_validation import train_test_split\n",
    "\n",
    "import tqdm\n",
    "\n",
    "digits = load_digits()"
   ]
  },
  {
   "cell_type": "code",
   "execution_count": 2,
   "metadata": {},
   "outputs": [
    {
     "data": {
      "text/plain": [
       "(1797, 64)"
      ]
     },
     "execution_count": 2,
     "metadata": {},
     "output_type": "execute_result"
    }
   ],
   "source": [
    "digits.data.shape"
   ]
  },
  {
   "cell_type": "markdown",
   "metadata": {},
   "source": [
    "# Пример содержимого датасета"
   ]
  },
  {
   "cell_type": "code",
   "execution_count": 3,
   "metadata": {},
   "outputs": [
    {
     "data": {
      "image/png": "[encoded data removed]",
      "text/plain": [
       "<matplotlib.figure.Figure at 0x7f6118ad0400>"
      ]
     },
     "metadata": {},
     "output_type": "display_data"
    }
   ],
   "source": [
    "plt.figure(figsize=(20,4))\n",
    "\n",
    "for index, (image, label) in enumerate(zip(digits.data[0:5], digits.target[0:5])):\n",
    "    plt.subplot(1, 5, index+1)\n",
    "    plt.imshow(np.reshape(image, (8,8)), cmap=plt.cm.gray)\n",
    "    plt.title('Training: %i\\n' % label, fontsize = 20)"
   ]
  },
  {
   "cell_type": "markdown",
   "metadata": {},
   "source": [
    "# Разделим датасет на 2 части - train и validate\n",
    "1. На первой мы будем решать оптимизационную задачу - искать такую функцию, которая по картинке выдает правильную цифру. \n",
    "2. На второй будем независимо проверять, насколько качественно работает наша функция\n",
    "\n",
    "Это необходимо для того, чтобы понимать, насколько наша функция реально умеет решать поставленную задачу: понимать, где какая цифра. У нас ограниченная выборка - всего 1797 картинок. Но в реальности нарисованных цифр может быть значительно больше! Если даже наша функция безошибочно работает на всех 1797 картинках, но ошибается вне - это плохо. Обычно график обучения должен выглядит примерно так, если зеленое - обучающая выборка, а красное - валидационная"
   ]
  },
  {
   "cell_type": "code",
   "execution_count": 4,
   "metadata": {},
   "outputs": [
    {
     "data": {
      "image/png": "[encoded data removed]",
      "text/plain": [
       "<matplotlib.figure.Figure at 0x7f61165da940>"
      ]
     },
     "metadata": {},
     "output_type": "display_data"
    }
   ],
   "source": [
    "plt.plot(\n",
    "    [1/math.log(i+2) for i in range(100)], \n",
    "    color='green', \n",
    "    label='train'\n",
    ")\n",
    "\n",
    "plt.plot(\n",
    "    [1/math.log(i+2)*1.1+( (i/50.0-1)**2./5. if i>50 else 0.) for i in range(100)],\n",
    "    color='red',\n",
    "    label='validate')\n",
    "\n",
    "plt.xlabel('Gradient descent iteration')\n",
    "plt.ylabel('Loss')\n",
    "plt.legend()\n",
    "plt.show()"
   ]
  },
  {
   "cell_type": "markdown",
   "metadata": {},
   "source": [
    "То есть с каждым шагом мы уменьшаем наш loss на обучающей выборке за счет градиентного спуска, но в какой-то момент функция может начать хорошо работать только на обучающей выборке. Этот эффект (в данном примере около 55 итерации по оси x) назвается переобучением."
   ]
  },
  {
   "cell_type": "markdown",
   "metadata": {},
   "source": [
    "# Вернемся к задаче\n",
    "## Преобразуем числа от 0 до 9 в вектора из 10 элементов, где на i-m месте стоит 1, если цифра равна i и 0 иначе. \n",
    "\n",
    "## Также нормализуем картинки: все пиксели - это числа от 0 до 16. Сделаем их от -1 до 1, это улучшит качество нашей модели"
   ]
  },
  {
   "cell_type": "code",
   "execution_count": 5,
   "metadata": {},
   "outputs": [],
   "source": [
    "def one_hot(y, n_classes):\n",
    "    # делаем вектор из 10 координат с 0 везде кроме правильного ответа\n",
    "    tmp = np.zeros(\n",
    "        (len(y), n_classes), \n",
    "        dtype=np.uint8\n",
    "    )\n",
    "    tmp[range(len(tmp)), y] = 1\n",
    "    return tmp\n",
    "\n",
    "x_train, x_test, y_train, y_test = train_test_split(\n",
    "    (digits.data-8)/16,\n",
    "    one_hot(digits.target,10),\n",
    "    test_size=0.33,\n",
    "    random_state=0\n",
    ")"
   ]
  },
  {
   "cell_type": "markdown",
   "metadata": {},
   "source": [
    "# Задание: реализовать методом градиентного спуска логистическую регрессию. Начиная с этой ячейки и ниже разрешено использовать только стандартные функции  python и библиотеки numpy и  matplotlib"
   ]
  },
  {
   "cell_type": "markdown",
   "metadata": {},
   "source": [
    "Для каждой картинки мы хотим найти вектор $(p_0,\\ldots,p_{10})$, вероятностей, такой, что $p_i$ - вероятность того, что на картинка цифра $i$.\n",
    "\n",
    "Реализуя логистическую регрессию, мы хотим приближать вероятности к их настоящему распределению. \n",
    "\n",
    "Выражение выдает ответ вида \n",
    "$$\n",
    "W x + b\n",
    "$$\n",
    "\n",
    "\n",
    "где x - наш вектор картинки, а результат - числовой вектор размерности 10 с какими-то числами. Для того, чтобы эти числа стали вероятностями от 0 до 1, реализуем функцию \n",
    "$$\n",
    "softmax(x) = \\frac{e^x}{\\sum(e^x)}\n",
    "$$\n",
    "и полученные значения будут как раз давать в сумме 1 и ими мы будем приближать вероятности. \n",
    "\n",
    "Оценивать качество нашей модели будем с помощью кросс-энтропии, см https://en.wikipedia.org/wiki/Cross_entropy "
   ]
  },
  {
   "cell_type": "code",
   "execution_count": 6,
   "metadata": {},
   "outputs": [],
   "source": [
    "def softmax(W,b,x):\n",
    "    #todo - а можно ли написать лучше? и чем ваше решение лучше?\n",
    "    tmp = np.exp(np.dot(x, W.T)+b)\n",
    "    print('tmp',tmp.shape)\n",
    "    return (tmp.T/tmp.sum(axis=1)).T\n",
    "\n",
    "#todo - реализовать кросс-энтропию от предсказанного вектора pred и данного вектора y\n",
    "def loss (y, pred):\n",
    "    pass"
   ]
  },
  {
   "cell_type": "markdown",
   "metadata": {},
   "source": [
    "# В данной точке x нужно научиться считать градиент. Выведите правила и посчитайте градиент в точке. Для того, чтобы выбирать градиент по всем точкам, можно его усреднить."
   ]
  },
  {
   "cell_type": "code",
   "execution_count": 7,
   "metadata": {},
   "outputs": [],
   "source": [
    "#todo - расчитать градиент\n",
    "def compute_gradients(out,y,x):\n",
    "    pass\n",
    "\n",
    "#усредняем по всем точкам\n",
    "def gradients(W, b, x, y):\n",
    "    sm = softmax(W,b,x)\n",
    "    print(sm)\n",
    "    e = [ compute_gradients(a,c,b) for a,c,b in zip(sm,y,x) ]\n",
    "    return np.mean(e,axis=0).T.flatten()"
   ]
  },
  {
   "cell_type": "markdown",
   "metadata": {},
   "source": [
    "# Методом градиентного спуска с постоянным шагом минимизируйте loss на обучающей выборке."
   ]
  },
  {
   "cell_type": "code",
   "execution_count": 15,
   "metadata": {},
   "outputs": [],
   "source": [
    "import scipy as sp\n",
    "\n",
    "class LR:\n",
    "    def get_Xn(self, X):\n",
    "        return np.hstack((X, np.ones(X.shape[0]).reshape(-1,1)))\n",
    "    \n",
    "    def fit(self, X_train, Y_train, X_test, Y_test, itrs=5000, step=1000, report_cost=False, reg=0, \n",
    "            armijo=False, alpha=0.5, beta=0.5):\n",
    "        Xn = self.get_Xn(X_train)\n",
    "        \n",
    "        self.reg=reg\n",
    "        self.K = Y_train.shape[1]\n",
    "        self.W = np.zeros((Y_train.shape[1], Xn.shape[1])) \n",
    "        #self.W = np.random.uniform(-0.1, 0.1, (Y_train.shape[1], Xn.shape[1]))\n",
    "        \n",
    "        train_loss = []\n",
    "        test_loss = []\n",
    "        for i in tqdm.tqdm_notebook(range(itrs)):\n",
    "            grad = self.grad(Xn, Y_train)\n",
    "            if armijo == True:\n",
    "                step = self.armijo(self.W, X_train, Y_train, grad, step, alpha=alpha, beta=beta)\n",
    "            self.W = self.W - step*grad\n",
    "            \n",
    "            if report_cost:\n",
    "                train_loss.append(self.loss(X_train, Y_train))\n",
    "                test_loss.append(self.loss(X_test, Y_test))\n",
    "        \n",
    "        return np.array(train_loss), np.array(test_loss)\n",
    "    \n",
    "    def softmax(self, Z):\n",
    "        # Чтобы при промежуточных операциях (суммировании e^z) не возникло переполнения, \n",
    "        # используем logsumexp, пытаясь сделать все операции с логарифмами, \n",
    "        # и только потом возвести e в степень.\n",
    "        good = np.exp(Z - sp.misc.logsumexp(Z, axis=1).reshape(-1,1))\n",
    "        # Впрочем, ни разу во время тестовых запусков следующий ассерт не сработал.\n",
    "#       # tmp = np.exp(Z)\n",
    "#       # bad = tmp / np.sum(tmp, axis=1).reshape((-1,1))\n",
    "        # assert((np.isclose(bad, good)).all())\n",
    "            \n",
    "        return good\n",
    "    \n",
    "    def predict(self, X, W=None):\n",
    "        \"\"\"Предсказывает значения по выборке. Возвращает вероятности принадлежности тому или иному классу\"\"\"\n",
    "        if W is None:\n",
    "            W = self.W\n",
    "        Xn = self.get_Xn(X)\n",
    "        return self.softmax(np.dot(Xn, W.T))\n",
    "    \n",
    "    def grad(self, Xn, Y):\n",
    "        Yh = self.softmax(np.dot(Xn, self.W.T))\n",
    "        gradient = -np.dot(Y.T-Yh.T,Xn)/Xn.shape[0] + self.reg*self.W\n",
    "        return gradient\n",
    "    \n",
    "    def armijo (self, W, X, Y, dW, s, alpha=0.5, beta=0.5):\n",
    "        while True:\n",
    "            f_new = self.loss(X, Y, W=(W-s*dW))\n",
    "            f_old = self.loss(X, Y, W=(W))\n",
    "            move = alpha*s*np.sum(dW*dW)\n",
    "            if f_new <= f_old-move:\n",
    "                break\n",
    "            s = beta*s\n",
    "        \n",
    "        #print('s=', s)\n",
    "        return s\n",
    "    \n",
    "    def cross_entropy(self, Y_t, Y_p):\n",
    "        return -np.sum(np.mean(Y_t*np.log(Y_p), axis=0), axis=0)\n",
    "    \n",
    "    def loss(self, X, Y, W=None):\n",
    "        Yh = self.predict(X, W=W)\n",
    "        return self.cross_entropy(Y, Yh) - self.reg*np.trace(np.dot(self.W,self.W.T))/self.W.shape[0]\n",
    "    "
   ]
  },
  {
   "cell_type": "code",
   "execution_count": 16,
   "metadata": {},
   "outputs": [
    {
     "data": {
      "application/vnd.jupyter.widget-view+json": {
       "model_id": "f7f966ec340e4a0f9539669725917147",
       "version_major": 2,
       "version_minor": 0
      },
      "text/html": [
       "<p>Failed to display Jupyter Widget of type <code>HBox</code>.</p>\n",
       "<p>\n",
       "  If you're reading this message in Jupyter Notebook or JupyterLab, it may mean\n",
       "  that the widgets JavaScript is still loading. If this message persists, it\n",
       "  likely means that the widgets JavaScript library is either not installed or\n",
       "  not enabled. See the <a href=\"https://ipywidgets.readthedocs.io/en/stable/user_install.html\">Jupyter\n",
       "  Widgets Documentation</a> for setup instructions.\n",
       "</p>\n",
       "<p>\n",
       "  If you're reading this message in another notebook frontend (for example, a static\n",
       "  rendering on GitHub or <a href=\"https://nbviewer.jupyter.org/\">NBViewer</a>),\n",
       "  it may mean that your frontend doesn't currently support widgets.\n",
       "</p>\n"
      ],
      "text/plain": [
       "HBox(children=(IntProgress(value=0, max=5000), HTML(value='')))"
      ]
     },
     "metadata": {},
     "output_type": "display_data"
    },
    {
     "name": "stdout",
     "output_type": "stream",
     "text": [
      "\n"
     ]
    },
    {
     "data": {
      "application/vnd.jupyter.widget-view+json": {
       "model_id": "0b29bd8d2d4341bc84af2b4fb4995620",
       "version_major": 2,
       "version_minor": 0
      },
      "text/html": [
       "<p>Failed to display Jupyter Widget of type <code>HBox</code>.</p>\n",
       "<p>\n",
       "  If you're reading this message in Jupyter Notebook or JupyterLab, it may mean\n",
       "  that the widgets JavaScript is still loading. If this message persists, it\n",
       "  likely means that the widgets JavaScript library is either not installed or\n",
       "  not enabled. See the <a href=\"https://ipywidgets.readthedocs.io/en/stable/user_install.html\">Jupyter\n",
       "  Widgets Documentation</a> for setup instructions.\n",
       "</p>\n",
       "<p>\n",
       "  If you're reading this message in another notebook frontend (for example, a static\n",
       "  rendering on GitHub or <a href=\"https://nbviewer.jupyter.org/\">NBViewer</a>),\n",
       "  it may mean that your frontend doesn't currently support widgets.\n",
       "</p>\n"
      ],
      "text/plain": [
       "HBox(children=(IntProgress(value=0, max=10000), HTML(value='')))"
      ]
     },
     "metadata": {},
     "output_type": "display_data"
    },
    {
     "name": "stdout",
     "output_type": "stream",
     "text": [
      "\n"
     ]
    }
   ],
   "source": [
    "eta = 1\n",
    "lr = LR()\n",
    "step=100\n",
    "\n",
    "loss_train_armijo, loss_test_armijo = lr.fit(x_train, y_train, x_test, y_test, report_cost=True, itrs=5000, \n",
    "                               step=step, armijo=True, reg=0)\n",
    "\n",
    "loss_train, loss_test = lr.fit(x_train, y_train, x_test, y_test, report_cost=True, itrs=10000, \n",
    "                               step=step, reg=0)\n"
   ]
  },
  {
   "cell_type": "code",
   "execution_count": 18,
   "metadata": {},
   "outputs": [
    {
     "name": "stdout",
     "output_type": "stream",
     "text": [
      "0.0\n",
      "0.0454545454545\n"
     ]
    }
   ],
   "source": [
    "def error_rate(Yh, Y):\n",
    "    return np.sum( np.not_equal(np.argmax(Yh,axis=1), np.argmax(Y,axis=1))) / float(Yh.shape[0]) \n",
    "\n",
    "print(error_rate(y_train, lr.predict(x_train)))\n",
    "print(error_rate(y_test, lr.predict(x_test)))\n"
   ]
  },
  {
   "cell_type": "markdown",
   "metadata": {},
   "source": [
    "# Нарисуйте графики ошибки (loss) от номера шага градиентного спуска. Как падала ошибка на обучающей и тестовой выборках? На каком шаге ошибка на обучающей выборке оказалась минимальной?"
   ]
  },
  {
   "cell_type": "code",
   "execution_count": 22,
   "metadata": {},
   "outputs": [
    {
     "name": "stdout",
     "output_type": "stream",
     "text": [
      "Loss on train and test: 4999 2444\n",
      "0.0\n",
      "0.0454545454545\n",
      "Loss on train and test: 9999 9999\n",
      "0.0\n",
      "0.0454545454545\n"
     ]
    },
    {
     "data": {
      "image/png": "[encoded data removed]",
      "text/plain": [
       "<matplotlib.figure.Figure at 0x7f61166d6eb8>"
      ]
     },
     "metadata": {},
     "output_type": "display_data"
    }
   ],
   "source": [
    "def plot_convergence(loss_train, loss_test):\n",
    "    \n",
    "    plt.plot(\n",
    "        loss_train, \n",
    "        color='green', \n",
    "        label='train'\n",
    "    )\n",
    "\n",
    "    plt.plot(\n",
    "        loss_test,\n",
    "        color='red',\n",
    "        label='test')\n",
    "\n",
    "    plt.xlabel('Gradient descent iteration')\n",
    "    plt.ylabel('Loss')\n",
    "    plt.legend()\n",
    "    \n",
    "    \n",
    "    print('Loss on train and test:', np.argmin(loss_train), np.argmin(loss_test))\n",
    "    \n",
    "plt.figure()\n",
    "plot_convergence(loss_train_armijo, loss_test_armijo)\n",
    "plot_convergence(loss_train, loss_test)\n",
    "plt.show()"
   ]
  },
  {
   "cell_type": "markdown",
   "metadata": {},
   "source": [
    "# Реализуйте выбор шага градиентного спуска методом Армихо. Ускорило ли использование метода Армихо с начальными параметрами\n",
    "$$ s=100, \\beta=\\alpha=0.5$$\n",
    "# достижение минимума на обучающей выборке по сравнению с фиксированным шагом 100? А на валидационной?"
   ]
  },
  {
   "cell_type": "code",
   "execution_count": null,
   "metadata": {},
   "outputs": [],
   "source": [
    "def armijo (W, x, y, dW, db, alpha=0.5, beta=0.5):\n",
    "    s = 1\n",
    "    while W+s*dW > W + alpha*s* "
   ]
  },
  {
   "cell_type": "markdown",
   "metadata": {},
   "source": [
    "# Какую долю картинок из валидационной выборки удается предсказать правильно? Приведите примеры из валидационной выборки, где модель ошибается и где работает правильно"
   ]
  },
  {
   "cell_type": "code",
   "execution_count": null,
   "metadata": {},
   "outputs": [],
   "source": [
    "def draw_samples(n=5):\n",
    "    y_pred = np.argmax(lr.predict(x_test), axis=1)\n",
    "    y_true = np.argmax(y_test, axis=1)\n",
    "    ans_mask = np.equal(y_pred, y_true)\n",
    "    right_ans = np.argwhere(ans_mask).flatten()\n",
    "    wrong_ans = np.argwhere(np.logical_not(ans_mask)).flatten()\n",
    "    \n",
    "    for indices, label in ((right_ans, 'Правильно угаданные'), \n",
    "                           (wrong_ans, 'Неправильно угаданные (первое число - истинный ответ, второе - предсказание)')): \n",
    "        plt.suptitle(label)\n",
    "        bins = np.arange(-0.5, 10.5, 1)\n",
    "        plt.hist(y_true[indices], bins=bins)\n",
    "        plt.show()\n",
    "        plt.figure(figsize=(10, 3))\n",
    "        for i, (index) in enumerate(indices[:n]):\n",
    "            image = x_test[index]\n",
    "            plt.subplot(1, n, i+1)\n",
    "            plt.imshow(np.reshape(image, (8,8)), cmap=plt.cm.gray)\n",
    "            plt.title('%d,%d\\n' % (y_true[index], y_pred[index]))\n",
    "        plt.show()\n",
    "draw_samples(20)"
   ]
  },
  {
   "cell_type": "code",
   "execution_count": null,
   "metadata": {},
   "outputs": [],
   "source": []
  }
 ],
 "metadata": {
  "kernelspec": {
   "display_name": "Python 3",
   "language": "python",
   "name": "python3"
  },
  "language_info": {
   "codemirror_mode": {
    "name": "ipython",
    "version": 3
   },
   "file_extension": ".py",
   "mimetype": "text/x-python",
   "name": "python",
   "nbconvert_exporter": "python",
   "pygments_lexer": "ipython3",
   "version": "3.6.0"
  }
 },
 "nbformat": 4,
 "nbformat_minor": 1
}
