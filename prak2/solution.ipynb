{
 "cells": [
  {
   "cell_type": "markdown",
   "metadata": {},
   "source": [
    "# Вам предстоит решать задачу классификации изображений методом логистической регрессии. \n",
    "\n",
    "В итоге вы должны получить  функцию $f(x) \\to [0,1]^{10}$, которая на вход получает картинку с написанной от руки цифрой, а на выход дает 10 вероятностей от 0 до 1 принадлежности к каждому из классов (цифре). Картинка это вектор из (8*8) = 64 чисел. Мы будем рассматривать параметрическое семейство функций $F(c)$, таких,  что если $f_с \\in F$, то она удовлетворяет нашим требованиям. Кроме того, для каждой функции  $f_c \\in F$ мы можем посчитать, насколько она хорошо работает на некотором наборе картинок - это будет функционал качества этой функции $loss(f_c, images)$. Чем он меньше, тем лучше: в идеале $loss$ будет давать $0$ в том случае, если наша функция на всех картинках, на которых нарисована цифра $i$ выдала вектор, где все числа отличны от $1$ и только на $i-м$ месте стоит $1$. Иначе это будет некоторое положительное число, которое тем больше, чем хуже работает классификатор (потеря)\n",
    "\n",
    "Итак, возьмем функцию $g(c) = loss(f_c, images)$ и будем ее минимизировать. Если мы найдем глобальный минимум, то научимся максимально качественно решать задачу классификации с помощью того семейства функций, которое мы выбрали. Глобальный минимум мы, конечно, не сможем аналитически найти, поэтому будем решать задачу минимизации методом градиентного спуска."
   ]
  },
  {
   "cell_type": "markdown",
   "metadata": {},
   "source": [
    "# Возьмем датасет нарисованных от руки картинок"
   ]
  },
  {
   "cell_type": "code",
   "execution_count": null,
   "metadata": {},
   "outputs": [],
   "source": [
    "\n",
    "import numpy as np \n",
    "import matplotlib.pyplot as plt\n",
    "%matplotlib inline\n",
    "\n",
    "import math\n",
    "from sklearn.datasets import load_digits\n",
    "from sklearn.cross_validation import train_test_split\n",
    "\n",
    "import tqdm \n",
    "\n",
    "digits = load_digits()"
   ]
  },
  {
   "cell_type": "code",
   "execution_count": null,
   "metadata": {},
   "outputs": [],
   "source": [
    "digits.data.shape"
   ]
  },
  {
   "cell_type": "markdown",
   "metadata": {},
   "source": [
    "# Пример содержимого датасета"
   ]
  },
  {
   "cell_type": "code",
   "execution_count": null,
   "metadata": {},
   "outputs": [],
   "source": [
    "plt.figure(figsize=(20,4))\n",
    "\n",
    "for index, (image, label) in enumerate(zip(digits.data[0:5], digits.target[0:5])):\n",
    "    plt.subplot(1, 5, index+1)\n",
    "    plt.imshow(np.reshape(image, (8,8)), cmap=plt.cm.gray)\n",
    "    plt.title('Training: %i\\n' % label, fontsize = 20)"
   ]
  },
  {
   "cell_type": "markdown",
   "metadata": {},
   "source": [
    "# Разделим датасет на 2 части - train и validate\n",
    "1. На первой мы будем решать оптимизационную задачу - искать такую функцию, которая по картинке выдает правильную цифру. \n",
    "2. На второй будем независимо проверять, насколько качественно работает наша функция\n",
    "\n",
    "Это необходимо для того, чтобы понимать, насколько наша функция реально умеет решать поставленную задачу: понимать, где какая цифра. У нас ограниченная выборка - всего 1797 картинок. Но в реальности нарисованных цифр может быть значительно больше! Если даже наша функция безошибочно работает на всех 1797 картинках, но ошибается вне - это плохо. Обычно график обучения должен выглядит примерно так, если зеленое - обучающая выборка, а красное - валидационная"
   ]
  },
  {
   "cell_type": "code",
   "execution_count": null,
   "metadata": {},
   "outputs": [],
   "source": [
    "plt.plot(\n",
    "    [1/math.log(i+2) for i in range(100)], \n",
    "    color='green', \n",
    "    label='train'\n",
    ")\n",
    "\n",
    "plt.plot(\n",
    "    [1/math.log(i+2)*1.1+( (i/50.0-1)**2./5. if i>50 else 0.) for i in range(100)],\n",
    "    color='red',\n",
    "    label='validate')\n",
    "\n",
    "plt.xlabel('Gradient descent iteration')\n",
    "plt.ylabel('Loss')\n",
    "plt.legend()\n",
    "plt.show()"
   ]
  },
  {
   "cell_type": "markdown",
   "metadata": {},
   "source": [
    "То есть с каждым шагом мы уменьшаем наш loss на обучающей выборке за счет градиентного спуска, но в какой-то момент функция может начать хорошо работать только на обучающей выборке. Этот эффект (в данном примере около 55 итерации по оси x) назвается переобучением."
   ]
  },
  {
   "cell_type": "markdown",
   "metadata": {},
   "source": [
    "# Вернемся к задаче\n",
    "## Преобразуем числа от 0 до 9 в вектора из 10 элементов, где на i-m месте стоит 1, если цифра равна i и 0 иначе. \n",
    "\n",
    "## Также нормализуем картинки: все пиксели - это числа от 0 до 16. Сделаем их от -1 до 1, это улучшит качество нашей модели"
   ]
  },
  {
   "cell_type": "code",
   "execution_count": 528,
   "metadata": {},
   "outputs": [],
   "source": [
    "def one_hot(y, n_classes):\n",
    "    # делаем вектор из 10 координат с 0 везде кроме правильного ответа\n",
    "    tmp = np.zeros(\n",
    "        (len(y), n_classes), \n",
    "        dtype=np.uint8\n",
    "    )\n",
    "    tmp[range(len(tmp)), y] = 1\n",
    "    return tmp\n",
    "\n",
    "x_train, x_test, y_train, y_test = train_test_split(\n",
    "    (digits.data-8)/16,\n",
    "    one_hot(digits.target,10),\n",
    "    test_size=0.33,\n",
    "    random_state=1\n",
    ")"
   ]
  },
  {
   "cell_type": "markdown",
   "metadata": {},
   "source": [
    "# Задание: реализовать методом градиентного спуска логистическую регрессию. Начиная с этой ячейки и ниже разрешено использовать только стандартные функции  python и библиотеки numpy и  matplotlib"
   ]
  },
  {
   "cell_type": "markdown",
   "metadata": {},
   "source": [
    "Для каждой картинки мы хотим найти вектор $(p_0,\\ldots,p_{10})$, вероятностей, такой, что $p_i$ - вероятность того, что на картинка цифра $i$.\n",
    "\n",
    "Реализуя логистическую регрессию, мы хотим приближать вероятности к их настоящему распределению. \n",
    "\n",
    "Выражение выдает ответ вида \n",
    "$$\n",
    "W x + b\n",
    "$$\n",
    "\n",
    "\n",
    "где x - наш вектор картинки, а результат - числовой вектор размерности 10 с какими-то числами. Для того, чтобы эти числа стали вероятностями от 0 до 1, реализуем функцию \n",
    "$$\n",
    "softmax(x) = \\frac{e^x}{\\sum(e^x)}\n",
    "$$\n",
    "и полученные значения будут как раз давать в сумме 1 и ими мы будем приближать вероятности. \n",
    "\n",
    "Оценивать качество нашей модели будем с помощью кросс-энтропии, см https://en.wikipedia.org/wiki/Cross_entropy "
   ]
  },
  {
   "cell_type": "code",
   "execution_count": 529,
   "metadata": {},
   "outputs": [],
   "source": [
    "def softmax(W,b,x):\n",
    "    #todo - а можно ли написать лучше? и чем ваше решение лучше?\n",
    "    tmp = np.exp(np.dot(x, W.T)+b)\n",
    "    print('tmp',tmp.shape)\n",
    "    return (tmp.T/tmp.sum(axis=1)).T\n",
    "\n",
    "#todo - реализовать кросс-энтропию от предсказанного вектора pred и данного вектора y\n",
    "def loss (y, pred):\n",
    "    ############################################ TODO\n",
    "    return log_loss(y, pred)\n",
    "    #return -(y*np.log(pred)+(1-y)*np.log(1-pred)).sum()"
   ]
  },
  {
   "cell_type": "markdown",
   "metadata": {},
   "source": [
    "# В данной точке x нужно научиться считать градиент. Выведите правила и посчитайте градиент в точке. Для того, чтобы выбирать градиент по всем точкам, можно его усреднить."
   ]
  },
  {
   "cell_type": "code",
   "execution_count": 530,
   "metadata": {},
   "outputs": [],
   "source": [
    "#todo - расчитать градиент\n",
    "def compute_gradients(out,y,x):\n",
    "    print(out.shape, x.shape, y.shape)\n",
    "    return out@y *(-x)\n",
    "    #return np.hstack([2*(sm@x-y)*x, 2*(sm@x-y)])\n",
    "\n",
    "#усредняем по всем точкам\n",
    "def gradients(W, b, x, y):\n",
    "    sm = softmax(W,b,x)\n",
    "    print(sm)\n",
    "    e = [ compute_gradients(a,c,b) for a,c,b in zip(sm,y,x) ]\n",
    "    return np.mean(e,axis=0).T.flatten()"
   ]
  },
  {
   "cell_type": "markdown",
   "metadata": {},
   "source": [
    "# Методом градиентного спуска с постоянным шагом минимизируйте loss на обучающей выборке."
   ]
  },
  {
   "cell_type": "code",
   "execution_count": null,
   "metadata": {},
   "outputs": [],
   "source": [
    "import scipy as sp\n",
    "\n",
    "class LR:\n",
    "    def get_Xn(self, X):\n",
    "        return np.hstack((X, np.ones(X.shape[0]).reshape(-1,1)))\n",
    "    \n",
    "    def fit(self, X_train, Y_train, X_test, Y_test, itrs=5000, step=1000, report_cost=False, reg=0, \n",
    "            armijo=False, alpha=0.5, beta=0.5):\n",
    "        Xn = self.get_Xn(X_train)\n",
    "        \n",
    "        self.reg=reg\n",
    "        self.K = Y_train.shape[1]\n",
    "        self.W = np.zeros((Y_train.shape[1], Xn.shape[1])) \n",
    "        #self.W = np.random.uniform(-0.1, 0.1, (Y_train.shape[1], Xn.shape[1]))\n",
    "        \n",
    "        train_loss = []\n",
    "        test_loss = []\n",
    "        for i in tqdm.tqdm(range(itrs)):\n",
    "            grad = self.grad(Xn, Y_train)\n",
    "            if armijo == True:\n",
    "                step = self.armijo(self.W, X_train, Y_train, grad, step, alpha=alpha, beta=beta)\n",
    "            self.W = self.W - step*grad\n",
    "            \n",
    "            if report_cost:\n",
    "                train_loss.append(self.loss(X_train, Y_train))\n",
    "                test_loss.append(self.loss(X_test, Y_test))\n",
    "        \n",
    "        return np.array(train_loss), np.array(test_loss)\n",
    "    \n",
    "    def softmax(self, Z):\n",
    "        # Чтобы при промежуточных операциях (суммировании e^z) не возникло переполнения, \n",
    "        # используем logsumexp, пытаясь сделать все операции с логарифмами, \n",
    "        # и только потом возвести e в степень.\n",
    "        #print('softmax', Z - sp.misc.logsumexp(Z, axis=1).reshape(-1,1))\n",
    "        if len(Z.shape)>1:\n",
    "            numerator = np.exp(Z)\n",
    "            #print('numer', numerator.shape)\n",
    "            nyash = numerator / np.sum(numerator, axis=1).reshape((-1,1))\n",
    "            hack = np.exp(Z - sp.misc.logsumexp(Z, axis=1).reshape(-1,1))\n",
    "#             try:\n",
    "#                 assert((np.isclose(nyash, hack)).all())\n",
    "#             except Exception:\n",
    "#                 print(nyash, hack)\n",
    "#                 assert(False)\n",
    "        else:\n",
    "            print('Never here')\n",
    "            #print('Z',Z)\n",
    "            #print(Z[:5], sp.misc.logsumexp(Z), (Z - sp.misc.logsumexp(Z))[:5])\n",
    "            hack = np.exp(Z - np.logaddexp(Z, 1))\n",
    "        #print(np.exp(Z - sp.misc.logsumexp(Z, axis=1).reshape(-1,1)))\n",
    "        #print('h',hack[0][0])\n",
    "        \n",
    "        \n",
    "        #print('n',nyash[0][0])\n",
    "        \n",
    "        return hack\n",
    "    \n",
    "    def predict(self, X, W=None):\n",
    "        if W is None:\n",
    "            W = self.W\n",
    "        #print('from predict2', W[0])\n",
    "        \"\"\"Предсказывает значения по выборке. Возвращает вероятности принадлежности тому или иному классу\"\"\"\n",
    "        Xn = self.get_Xn(X)\n",
    "        #print('Xn', Xn.shape)\n",
    "        #print('W.T', W.T.shape)\n",
    "        #print(np.dot(Xn, W.T).shape)\n",
    "        return self.softmax(np.dot(Xn, W.T))\n",
    "    \n",
    "    def grad(self, Xn, Y):\n",
    "        Yh = self.softmax(np.dot(Xn, self.W.T))\n",
    "        gradient = -np.dot(Y.T-Yh.T,Xn)/Xn.shape[0] + self.reg*self.W\n",
    "        #print(gradient)\n",
    "        return gradient\n",
    "    \n",
    "    def armijo (self, W, X, Y, dW, s, alpha=0.5, beta=0.5):\n",
    "        #print(W[0][0], dW[0][0])\n",
    "        \n",
    "        #print(X.shape, Y[:, 0].shape, (W-s*dW)[0].shape)\n",
    "#(W+s*dW)@Xn.T > W@Xn.T:# + alpha*s*dW.T@dW:\n",
    "        while True:\n",
    "            f_new = self.loss(X, Y, W=(W-s*dW))\n",
    "            f_old = self.loss(X, Y, W=(W))\n",
    "            move = alpha*s*np.sum(dW*dW)\n",
    "            #print(f_new, f_old, move, (f_new - f_old+move))\n",
    "            #print((W-s*dW)[0][0], W[0][0])\n",
    "            if f_new <= f_old-move:\n",
    "                break\n",
    "            s = beta*s\n",
    "        #print(dW.shape, Xn.shape)\n",
    "        #print(np.mean(Y*np.log(self.softmax(np.dot(Xn, (W+s*dW))))).shape, (W@Xn.T)[0].shape, (dW.T@dW)[0].shape )\n",
    "        #print(((W+s*dW)@Xn.T)[0] > (W@Xn.T)[0][0]+(alpha*s*dW.T[0]@dW[0]))\n",
    "        #while (W+s*dW)@Xn.T > W@Xn.T+(alpha*s*dW.T@dW):#(W+s*dW)@Xn.T > W@Xn.T:# + alpha*s*dW.T@dW:\n",
    "        #    s = beta*s\n",
    "        \n",
    "        #print('s=', s)\n",
    "        return s\n",
    "    \n",
    "    def cross_entropy(self, Y_t, Y_p):\n",
    "        return -np.sum(np.mean(Y_t*np.log(Y_p), axis=0), axis=0)\n",
    "    \n",
    "    def loss(self, X, Y, W=None):\n",
    "        Yh = self.predict(X, W=W)\n",
    "        #print('hypoth', Yh)\n",
    "        #print(-np.mean(np.mean(Y*np.log(Yh))) - reg*np.trace(np.dot(self.W,self.W.T))/self.W.shape[0])\n",
    "        #print(log_loss(Y, Yh))\n",
    "        #print(self.cross_entropy(Y, Yh))\n",
    "        return self.cross_entropy(Y, Yh) - self.reg*np.trace(np.dot(self.W,self.W.T))/self.W.shape[0]\n",
    "    "
   ]
  },
  {
   "cell_type": "code",
   "execution_count": null,
   "metadata": {},
   "outputs": [
    {
     "name": "stderr",
     "output_type": "stream",
     "text": [
      " 95%|█████████▍| 474/500 [00:04<00:00, 117.73it/s]"
     ]
    }
   ],
   "source": [
    "eta = 1\n",
    "lr = LR()\n",
    "loss_train, loss_test = lr.fit(x_train, y_train, x_test, y_test, report_cost=True, itrs=500, \n",
    "                               step=100, armijo=True, alpha=0.5)\n"
   ]
  },
  {
   "cell_type": "code",
   "execution_count": 574,
   "metadata": {},
   "outputs": [
    {
     "name": "stdout",
     "output_type": "stream",
     "text": [
      "0.0157938487116\n",
      "0.0286195286195\n"
     ]
    }
   ],
   "source": [
    "def error_rate(Yh, Y):\n",
    "    return np.sum( np.not_equal(np.argmax(Yh,axis=1), np.argmax(Y,axis=1))) / float(Yh.shape[0]) \n",
    "\n",
    "print(error_rate(y_train, lr.predict(x_train)))\n",
    "print(error_rate(y_test, lr.predict(x_test)))"
   ]
  },
  {
   "cell_type": "markdown",
   "metadata": {},
   "source": [
    "# Нарисуйте графики ошибки (loss) от номера шага градиентного спуска. Как падала ошибка на обучающей и тестовой выборках? На каком шаге ошибка на обучающей выборке оказалась минимальной?"
   ]
  },
  {
   "cell_type": "code",
   "execution_count": 539,
   "metadata": {},
   "outputs": [
    {
     "data": {
      "image/png": "[encoded data removed]",
      "text/plain": [
       "<matplotlib.figure.Figure at 0x7f3661c7b940>"
      ]
     },
     "metadata": {},
     "output_type": "display_data"
    },
    {
     "name": "stdout",
     "output_type": "stream",
     "text": [
      "49 49\n"
     ]
    }
   ],
   "source": [
    "def plot_convergence(loss_train, loss_test):\n",
    "    plt.plot(\n",
    "        loss_train, \n",
    "        color='green', \n",
    "        label='train'\n",
    "    )\n",
    "\n",
    "    plt.plot(\n",
    "        loss_test,\n",
    "        color='red',\n",
    "        label='test')\n",
    "\n",
    "    plt.xlabel('Gradient descent iteration')\n",
    "    plt.ylabel('Loss')\n",
    "    plt.legend()\n",
    "    plt.show()\n",
    "    \n",
    "    print(np.argmin(loss_train), np.argmin(loss_test))\n",
    "plot_convergence(loss_train, loss_test)"
   ]
  },
  {
   "cell_type": "markdown",
   "metadata": {},
   "source": [
    "# Реализуйте выбор шага градиентного спуска методом Армихо. Ускорило ли использование метода Армихо с начальными параметрами\n",
    "$$ s=100, \\beta=\\alpha=0.5$$\n",
    "# достижение минимума на обучающей выборке по сравнению с фиксированным шагом 100? А на валидационной?"
   ]
  },
  {
   "cell_type": "code",
   "execution_count": 480,
   "metadata": {},
   "outputs": [
    {
     "ename": "SyntaxError",
     "evalue": "invalid syntax (<ipython-input-480-ff9f434da8cd>, line 3)",
     "output_type": "error",
     "traceback": [
      "\u001b[0;36m  File \u001b[0;32m\"<ipython-input-480-ff9f434da8cd>\"\u001b[0;36m, line \u001b[0;32m3\u001b[0m\n\u001b[0;31m    while W+s*dW > W + alpha*s*\u001b[0m\n\u001b[0m                                ^\u001b[0m\n\u001b[0;31mSyntaxError\u001b[0m\u001b[0;31m:\u001b[0m invalid syntax\n"
     ]
    }
   ],
   "source": [
    "def armijo (W, x, y, dW, db, alpha=0.5, beta=0.5):\n",
    "    s = 1\n",
    "    while W+s*dW > W + alpha*s* "
   ]
  },
  {
   "cell_type": "markdown",
   "metadata": {},
   "source": [
    "# Какую долю картинок из валидационной выборки удается предсказать правильно? Приведите примеры из валидационной выборки, где модель ошибается и где работает правильно"
   ]
  },
  {
   "cell_type": "code",
   "execution_count": 68,
   "metadata": {},
   "outputs": [
    {
     "data": {
      "image/png": "[encoded data removed]",
      "text/plain": [
       "<matplotlib.figure.Figure at 0x7f3661f41e80>"
      ]
     },
     "metadata": {},
     "output_type": "display_data"
    },
    {
     "data": {
      "image/png": "[encoded data removed]",
      "text/plain": [
       "<matplotlib.figure.Figure at 0x7f3668440278>"
      ]
     },
     "metadata": {},
     "output_type": "display_data"
    },
    {
     "data": {
      "image/png": "[encoded data removed]",
      "text/plain": [
       "<matplotlib.figure.Figure at 0x7f3661a00470>"
      ]
     },
     "metadata": {},
     "output_type": "display_data"
    },
    {
     "data": {
      "image/png": "[encoded data removed]",
      "text/plain": [
       "<matplotlib.figure.Figure at 0x7f3668440eb8>"
      ]
     },
     "metadata": {},
     "output_type": "display_data"
    }
   ],
   "source": [
    "def draw_samples(n=5):\n",
    "    y_pred = np.argmax(lr.predict(x_test), axis=1)\n",
    "    y_true = np.argmax(y_test, axis=1)\n",
    "    ans_mask = np.equal(y_pred, y_true)\n",
    "    right_ans = np.argwhere(ans_mask).flatten()\n",
    "    wrong_ans = np.argwhere(np.logical_not(ans_mask)).flatten()\n",
    "    \n",
    "    for indices, label in ((right_ans, 'Правильно угаданные'), \n",
    "                           (wrong_ans, 'Неправильно угаданные (первое число - истинный ответ, второе - предсказание)')): \n",
    "        plt.suptitle(label)\n",
    "        bins = np.arange(-0.5, 10.5, 1)\n",
    "        plt.hist(y_true[indices], bins=bins)\n",
    "        plt.show()\n",
    "        plt.figure(figsize=(10, 3))\n",
    "        for i, (index) in enumerate(indices[:n]):\n",
    "            image = x_test[index]\n",
    "            plt.subplot(1, n, i+1)\n",
    "            plt.imshow(np.reshape(image, (8,8)), cmap=plt.cm.gray)\n",
    "            plt.title('%d,%d\\n' % (y_true[index], y_pred[index]))\n",
    "        plt.show()\n",
    "draw_samples(20)"
   ]
  },
  {
   "cell_type": "code",
   "execution_count": null,
   "metadata": {},
   "outputs": [],
   "source": []
  },
  {
   "cell_type": "code",
   "execution_count": 57,
   "metadata": {},
   "outputs": [],
   "source": [
    "import sklearn \n",
    "mnist = sklearn.datasets.fetch_mldata('MNIST original')"
   ]
  },
  {
   "cell_type": "code",
   "execution_count": 58,
   "metadata": {},
   "outputs": [],
   "source": [
    "x_train, x_test, y_train, y_test = train_test_split(\n",
    "    (digits.data-128)/256,\n",
    "    one_hot(digits.target,10),\n",
    "    test_size=0.9,\n",
    "    random_state=0\n",
    ")"
   ]
  },
  {
   "cell_type": "code",
   "execution_count": 69,
   "metadata": {},
   "outputs": [
    {
     "name": "stderr",
     "output_type": "stream",
     "text": [
      "100%|██████████| 5000/5000 [00:09<00:00, 520.07it/s]\n"
     ]
    },
    {
     "data": {
      "image/png": "[encoded data removed]",
      "text/plain": [
       "<matplotlib.figure.Figure at 0x7f366b3d8da0>"
      ]
     },
     "metadata": {},
     "output_type": "display_data"
    },
    {
     "data": {
      "image/png": "[encoded data removed]",
      "text/plain": [
       "<matplotlib.figure.Figure at 0x7f366b23f710>"
      ]
     },
     "metadata": {},
     "output_type": "display_data"
    },
    {
     "data": {
      "image/png": "[encoded data removed]",
      "text/plain": [
       "<matplotlib.figure.Figure at 0x7f3661a00400>"
      ]
     },
     "metadata": {},
     "output_type": "display_data"
    },
    {
     "data": {
      "image/png": "[encoded data removed]",
      "text/plain": [
       "<matplotlib.figure.Figure at 0x7f36683acef0>"
      ]
     },
     "metadata": {},
     "output_type": "display_data"
    },
    {
     "data": {
      "image/png": "[encoded data removed]",
      "text/plain": [
       "<matplotlib.figure.Figure at 0x7f3668551c88>"
      ]
     },
     "metadata": {},
     "output_type": "display_data"
    }
   ],
   "source": [
    "eta = 1\n",
    "lr = LR()\n",
    "costs_train, costs_test = lr.fit(x_train, y_train, x_test, y_test, report_cost=True, itrs=5000, step=eta)\n",
    "\n",
    "plot_convergence()\n",
    "draw_samples(5)"
   ]
  },
  {
   "cell_type": "code",
   "execution_count": 70,
   "metadata": {},
   "outputs": [
    {
     "name": "stdout",
     "output_type": "stream",
     "text": [
      "0.072625698324\n",
      "0.111248454883\n"
     ]
    }
   ],
   "source": [
    "print(error_rate(y_train, lr.predict(x_train)))\n",
    "print(error_rate(y_test, lr.predict(x_test)))"
   ]
  },
  {
   "cell_type": "code",
   "execution_count": null,
   "metadata": {},
   "outputs": [],
   "source": []
  }
 ],
 "metadata": {
  "kernelspec": {
   "display_name": "Python 3",
   "language": "python",
   "name": "python3"
  },
  "language_info": {
   "codemirror_mode": {
    "name": "ipython",
    "version": 3
   },
   "file_extension": ".py",
   "mimetype": "text/x-python",
   "name": "python",
   "nbconvert_exporter": "python",
   "pygments_lexer": "ipython3",
   "version": "3.6.0"
  }
 },
 "nbformat": 4,
 "nbformat_minor": 1
}
