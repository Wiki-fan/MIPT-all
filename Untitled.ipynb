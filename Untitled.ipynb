{
 "cells": [
  {
   "cell_type": "code",
   "execution_count": 1,
   "metadata": {},
   "outputs": [],
   "source": [
    "import networkx as nx\n",
    "from networkx.algorithms import bipartite\n",
    "import matplotlib.pyplot as plt\n",
    "%matplotlib inline\n",
    "import random\n",
    "import itertools\n",
    "import math\n",
    "import numpy as np\n",
    "nx.__version__\n",
    "\n",
    "import pytsp\n",
    "\n",
    "# import os\n",
    "# path = '/home/sharik/code/complexity/concorde/build/TSP/concorde'\n",
    "# os.environ[\"PATH\"] += os.pathsep + path\n",
    "import subprocess"
   ]
  },
  {
   "cell_type": "code",
   "execution_count": 2,
   "metadata": {},
   "outputs": [],
   "source": [
    "def draw_weighted_graph(G, **kwargs):\n",
    "    pos = nx.get_node_attributes(G, 'pos')\n",
    "    nx.draw(G,pos, **kwargs)\n",
    "    labels = nx.get_edge_attributes(G,'weight')\n",
    "    nx.draw_networkx_edge_labels(G,pos,edge_labels=labels)\n",
    "    plt.show()"
   ]
  },
  {
   "cell_type": "code",
   "execution_count": 3,
   "metadata": {},
   "outputs": [],
   "source": [
    "def weight_of_path(G, path):\n",
    "    s = 0\n",
    "    try:\n",
    "        for i in range(0, len(path)-1):\n",
    "            u = list(G.nodes())[path[i]]\n",
    "            v = list(G.nodes())[path[i+1]]\n",
    "            s += G[u][v]['weight']\n",
    "    except KeyError:\n",
    "        return math.inf\n",
    "    return s"
   ]
  },
  {
   "cell_type": "code",
   "execution_count": 4,
   "metadata": {},
   "outputs": [],
   "source": [
    "# Обращение к библиотеке Concorde\n",
    "def solve_with_concorde(G):\n",
    "    matrix = nx.to_numpy_matrix(G, weight='weight').A\n",
    "    for i in range(0, matrix.shape[0]):\n",
    "        for j in range(0, i):#matrix.shape[1]):\n",
    "            if matrix[i][j] == 0:\n",
    "                matrix[i][j] = 32768\n",
    "    #print(matrix)\n",
    "    matrix_sym = pytsp.atsp_tsp(matrix, strategy=\"cutoff\")\n",
    "    outf = \"./myroute.tsp\"\n",
    "    with open(outf, 'w') as dest:\n",
    "        dest.write(pytsp.dumps_matrix(matrix_sym, name=\"My Route\"))\n",
    "\n",
    "    #tour = pytsp.run(outf, start=0, solver=\"concorde\")\n",
    "    #print(subprocess.call([\"/home/sharik/code/complexity/concorde/build/TSP/concorde\", outf]))\n",
    "    response = subprocess.call([\"/home/sharik/build/concorde/TSP/concorde\", outf])\n",
    "    \n",
    "    inf = './myroute.sol'\n",
    "    path = []\n",
    "    with open(inf, 'r') as src:\n",
    "        n = int(src.readline())\n",
    "        lines = src.readlines()\n",
    "        for line in lines:\n",
    "            path += [int(x) for x in line.split(' ')[:-1]]\n",
    "    return n, path"
   ]
  },
  {
   "cell_type": "code",
   "execution_count": 5,
   "metadata": {},
   "outputs": [
    {
     "name": "stdout",
     "output_type": "stream",
     "text": [
      "16 18\n"
     ]
    },
    {
     "data": {
      "image/png": "[encoded data removed]",
      "text/plain": [
       "<matplotlib.figure.Figure at 0x7f2756bb6d68>"
      ]
     },
     "metadata": {},
     "output_type": "display_data"
    },
    {
     "name": "stdout",
     "output_type": "stream",
     "text": [
      "15\n"
     ]
    },
    {
     "data": {
      "text/plain": [
       "(16, 16)"
      ]
     },
     "execution_count": 5,
     "metadata": {},
     "output_type": "execute_result"
    }
   ],
   "source": [
    "def generate_p_shaped(n, p1, p2):\n",
    "    G = nx.Graph()\n",
    "    \n",
    "    for i in range(-1, n):\n",
    "        for j in range(0, 4):\n",
    "            G.add_node((j, i), pos=(j, i))\n",
    "    \n",
    "    for i in range(0, n-1):\n",
    "        for j in range(0, 4):\n",
    "            G.add_edge((j, i),(j, i+1),weight=1)\n",
    "    \n",
    "    G.add_edge((0, n-1), (1, n-1), weight=1)\n",
    "    G.add_edge((2, n-1), (3, n-1), weight=1)\n",
    "    G.add_edge((1, 0), (2, 0), weight=1)\n",
    "    G.add_edge((0, 0), (0, -1), weight=1)\n",
    "    G.add_edge((3, 0), (3, -1), weight=1)\n",
    "    G.add_edge((0, -1), (1, -1), weight=1)\n",
    "    for i in range(0, 3):\n",
    "        G.add_edge((i, -1), (i+1, -1), weight=1)\n",
    "    for i in range(1, n):\n",
    "        for j in range(0, 3):\n",
    "            if random.uniform(0, 1) < p1:\n",
    "                G.add_edge((j, i), (j+1, i), weight=1)\n",
    "    for i in range(1, n):\n",
    "        for j in range(0, 2):\n",
    "            if random.uniform(0, 1) < p2:\n",
    "                G.add_edge((j, i), (j+2, i), weight=2)\n",
    "    return G\n",
    "G = generate_p_shaped(3, 0.5, 0.5)\n",
    "print(G.number_of_nodes(), G.number_of_edges())\n",
    "draw_weighted_graph(G, with_labels=True)\n",
    "n, path = solve_with_concorde(G)\n",
    "print(weight_of_path(G, path))\n",
    "nx.to_numpy_matrix(G).shape"
   ]
  },
  {
   "cell_type": "code",
   "execution_count": 6,
   "metadata": {},
   "outputs": [
    {
     "name": "stdout",
     "output_type": "stream",
     "text": [
      "[0, 4, 8, 12, 13, 9, 5, 6, 10, 14, 15, 11, 7, 3, 2, 1]\n",
      "15\n"
     ]
    }
   ],
   "source": [
    "n, path = solve_with_concorde(G)\n",
    "print(path)\n",
    "\n",
    "print(weight_of_path(G, path))"
   ]
  },
  {
   "cell_type": "code",
   "execution_count": 36,
   "metadata": {},
   "outputs": [
    {
     "data": {
      "image/png": "[encoded data removed]",
      "text/plain": [
       "<matplotlib.figure.Figure at 0x7f2a55217978>"
      ]
     },
     "metadata": {},
     "output_type": "display_data"
    },
    {
     "name": "stdout",
     "output_type": "stream",
     "text": [
      "34\n"
     ]
    }
   ],
   "source": [
    "G = nx.generators.random_geometric_graph(n=30, radius=0.3)\n",
    "for (u, v) in G.edges():\n",
    "    G[u][v]['weight'] = random.randint(1, 2)\n",
    "#print(nx.to_numpy_matrix(G, weight='weight'))\n",
    "draw_weighted_graph(G, with_labels=True)\n",
    "n, path = solve_with_concorde(G)\n",
    "print(weight_of_path(G, path))"
   ]
  },
  {
   "cell_type": "code",
   "execution_count": 45,
   "metadata": {},
   "outputs": [
    {
     "name": "stdout",
     "output_type": "stream",
     "text": [
      "[(0, {'pos': (0, 0)}), (1, {'pos': (1, 0)}), (2, {'pos': (1, 1)}), (3, {'pos': (1, 2)}), (4, {'pos': (2, 2)}), (5, {'pos': (2, 1)}), (6, {'pos': (0, 1)})]\n",
      "[(0, 1, {'weight': 1}), (0, 6, {'weight': 1}), (1, 2, {'weight': 1}), (1, 3, {'weight': 2}), (2, 3, {'weight': 1}), (2, 5, {'weight': 1}), (2, 6, {'weight': 1}), (3, 4, {'weight': 1}), (4, 5, {'weight': 1})]\n"
     ]
    },
    {
     "data": {
      "image/png": "[encoded data removed]",
      "text/plain": [
       "<matplotlib.figure.Figure at 0x7f2a55966c50>"
      ]
     },
     "metadata": {},
     "output_type": "display_data"
    },
    {
     "name": "stdout",
     "output_type": "stream",
     "text": [
      "7\n"
     ]
    }
   ],
   "source": [
    "G = nx.Graph()\n",
    "G.add_nodes_from([[0, {'pos':(0,0)}],\n",
    "                  [1, {'pos':(1,0)}],\n",
    "                  [2, {'pos':(1,1)}],\n",
    "                  [3, {'pos':(1,2)}],\n",
    "                  [4, {'pos':(2,2)}],\n",
    "                  [5, {'pos':(2,1)}],\n",
    "                  [6, {'pos':(0,1)}]])\n",
    "G.add_edges_from([[0, 1], [1,2], [2, 3], [3, 4], [4, 5], [5, 2], [2, 6], [6, 0]])\n",
    "print(G.nodes(data=True))\n",
    "for u, v in G.edges():\n",
    "    G[u][v]['weight'] = 1\n",
    "G.add_edge(3, 1, weight=2)\n",
    "print(G.edges(data=True))\n",
    "draw_weighted_graph(G, with_labels=True)\n",
    "n, path = solve_with_concorde(G)\n",
    "print(weight_of_path(G, path))\n",
    "\n"
   ]
  },
  {
   "cell_type": "code",
   "execution_count": 7,
   "metadata": {},
   "outputs": [],
   "source": [
    "def powerset(iterable):\n",
    "    xs = list(iterable)\n",
    "    # note we return an iterator rather than a list\n",
    "    return itertools.chain.from_iterable(itertools.combinations(xs,n) for n in range(len(xs)+1))\n",
    "\n",
    "def check_if_matching(G, k):\n",
    "    for n in G.nodes:\n",
    "        if len(list(G.neighbors(n))) > k:\n",
    "            return False\n",
    "    return True\n",
    "\n",
    "def get_components_count(G):\n",
    "    subgraphs = nx.connected_component_subgraphs(G)\n",
    "    number_vertices_in_cycles = 0\n",
    "    components_count = 0\n",
    "    singletons_count = 0\n",
    "    for g in subgraphs:\n",
    "        components_count += 1\n",
    "        if g.number_of_nodes() == 2 and g.number_of_edges() == 1:\n",
    "            singletons_count += 1\n",
    "        try:\n",
    "            if len(nx.find_cycle(g)) == len(G.nodes):\n",
    "                number_vertices_in_cycles += len(G.nodes)\n",
    "        except nx.NetworkXNoCycle:\n",
    "            pass\n",
    "    return components_count, number_vertices_in_cycles, singletons_count\n",
    "\n",
    "from scipy.special import comb"
   ]
  },
  {
   "cell_type": "code",
   "execution_count": 15,
   "metadata": {},
   "outputs": [
    {
     "name": "stdout",
     "output_type": "stream",
     "text": [
      "Граф с 16 вершинами и 18 рёбрами\n",
      "Число комбинаций для перебора  262144.0\n"
     ]
    },
    {
     "data": {
      "application/vnd.jupyter.widget-view+json": {
       "model_id": "b535eb73e7a843f4bb3a6c8bba5a69df",
       "version_major": 2,
       "version_minor": 0
      },
      "text/html": [
       "<p>Failed to display Jupyter Widget of type <code>HBox</code>.</p>\n",
       "<p>\n",
       "  If you're reading this message in Jupyter Notebook or JupyterLab, it may mean\n",
       "  that the widgets JavaScript is still loading. If this message persists, it\n",
       "  likely means that the widgets JavaScript library is either not installed or\n",
       "  not enabled. See the <a href=\"https://ipywidgets.readthedocs.io/en/stable/user_install.html\">Jupyter\n",
       "  Widgets Documentation</a> for setup instructions.\n",
       "</p>\n",
       "<p>\n",
       "  If you're reading this message in another notebook frontend (for example, a static\n",
       "  rendering on GitHub or <a href=\"https://nbviewer.jupyter.org/\">NBViewer</a>),\n",
       "  it may mean that your frontend doesn't currently support widgets.\n",
       "</p>\n"
      ],
      "text/plain": [
       "HBox(children=(IntProgress(value=0, max=262144), HTML(value='')))"
      ]
     },
     "metadata": {},
     "output_type": "display_data"
    },
    {
     "name": "stdout",
     "output_type": "stream",
     "text": [
      "0\n",
      "Changing A\n",
      "Changing A\n",
      "Changing A\n",
      "Changing A\n",
      "Changing A\n",
      "Changing A\n",
      "Changing A\n",
      "Changing A\n",
      "Changing A\n",
      "Changing A\n",
      "Changing A\n",
      "Changing A\n",
      "Changing A\n",
      "Changing A\n",
      "Changing A\n",
      "Changing A\n"
     ]
    },
    {
     "name": "stderr",
     "output_type": "stream",
     "text": [
      "Exception ignored in: <bound method tqdm.__del__ of 1.0/|/  0%|| 1.0/262.144 [02:32<11:04:49, 152.75s/it]>\n",
      "Traceback (most recent call last):\n",
      "  File \"/home/sharik/.pyenv/versions/3.6.0/lib/python3.6/site-packages/tqdm/_tqdm.py\", line 891, in __del__\n",
      "    self.close()\n",
      "  File \"/home/sharik/.pyenv/versions/3.6.0/lib/python3.6/site-packages/tqdm/_tqdm_notebook.py\", line 199, in close\n",
      "    super(tqdm_notebook, self).close(*args, **kwargs)\n",
      "  File \"/home/sharik/.pyenv/versions/3.6.0/lib/python3.6/site-packages/tqdm/_tqdm.py\", line 1135, in close\n",
      "    self.sp(self.__repr__())\n",
      "  File \"/home/sharik/.pyenv/versions/3.6.0/lib/python3.6/site-packages/tqdm/_tqdm_notebook.py\", line 124, in print_status\n",
      "    n = int(s[:npos])  # get n from string\n",
      "ValueError: invalid literal for int() with base 10: '1.0'\n"
     ]
    },
    {
     "name": "stdout",
     "output_type": "stream",
     "text": [
      "1000\n",
      "2000\n",
      "3000\n",
      "4000\n",
      "5000\n",
      "6000\n",
      "7000\n",
      "8000\n",
      "9000\n",
      "10000\n",
      "11000\n",
      "12000\n",
      "13000\n",
      "14000\n",
      "15000\n",
      "16000\n",
      "17000\n",
      "18000\n",
      "19000\n",
      "20000\n",
      "21000\n",
      "22000\n",
      "23000\n",
      "24000\n",
      "25000\n",
      "26000\n",
      "27000\n",
      "28000\n",
      "29000\n",
      "30000\n",
      "31000\n",
      "32000\n",
      "33000\n",
      "34000\n",
      "35000\n",
      "36000\n",
      "37000\n",
      "38000\n",
      "39000\n",
      "40000\n",
      "41000\n",
      "42000\n",
      "43000\n",
      "44000\n",
      "45000\n",
      "46000\n",
      "47000\n",
      "48000\n",
      "49000\n",
      "50000\n",
      "51000\n",
      "52000\n",
      "53000\n",
      "54000\n",
      "55000\n",
      "56000\n",
      "57000\n",
      "58000\n",
      "59000\n",
      "60000\n",
      "61000\n",
      "62000\n",
      "63000\n",
      "64000\n",
      "65000\n",
      "66000\n",
      "67000\n",
      "68000\n",
      "69000\n",
      "70000\n",
      "71000\n",
      "72000\n",
      "73000\n",
      "74000\n",
      "75000\n",
      "76000\n",
      "77000\n",
      "78000\n",
      "79000\n",
      "80000\n",
      "81000\n",
      "82000\n",
      "83000\n",
      "84000\n",
      "85000\n",
      "86000\n",
      "87000\n",
      "88000\n",
      "89000\n",
      "90000\n",
      "91000\n",
      "92000\n",
      "93000\n",
      "94000\n",
      "95000\n",
      "96000\n",
      "97000\n",
      "98000\n",
      "99000\n",
      "100000\n",
      "101000\n",
      "102000\n",
      "103000\n",
      "104000\n",
      "105000\n",
      "106000\n",
      "107000\n",
      "108000\n"
     ]
    },
    {
     "ename": "KeyboardInterrupt",
     "evalue": "",
     "output_type": "error",
     "traceback": [
      "\u001b[0;31m---------------------------------------------------------------------------\u001b[0m",
      "\u001b[0;31mTypeError\u001b[0m                                 Traceback (most recent call last)",
      "\u001b[0;32m~/.pyenv/versions/3.6.0/lib/python3.6/site-packages/networkx/classes/graph.py\u001b[0m in \u001b[0;36madd_nodes_from\u001b[0;34m(self, nodes, **attr)\u001b[0m\n\u001b[1;32m    533\u001b[0m             \u001b[0;32mtry\u001b[0m\u001b[0;34m:\u001b[0m\u001b[0;34m\u001b[0m\u001b[0m\n\u001b[0;32m--> 534\u001b[0;31m                 \u001b[0;32mif\u001b[0m \u001b[0mn\u001b[0m \u001b[0;32mnot\u001b[0m \u001b[0;32min\u001b[0m \u001b[0mself\u001b[0m\u001b[0;34m.\u001b[0m\u001b[0m_node\u001b[0m\u001b[0;34m:\u001b[0m\u001b[0;34m\u001b[0m\u001b[0m\n\u001b[0m\u001b[1;32m    535\u001b[0m                     \u001b[0mself\u001b[0m\u001b[0;34m.\u001b[0m\u001b[0m_adj\u001b[0m\u001b[0;34m[\u001b[0m\u001b[0mn\u001b[0m\u001b[0;34m]\u001b[0m \u001b[0;34m=\u001b[0m \u001b[0mself\u001b[0m\u001b[0;34m.\u001b[0m\u001b[0madjlist_inner_dict_factory\u001b[0m\u001b[0;34m(\u001b[0m\u001b[0;34m)\u001b[0m\u001b[0;34m\u001b[0m\u001b[0m\n",
      "\u001b[0;31mTypeError\u001b[0m: unhashable type: 'dict'",
      "\nDuring handling of the above exception, another exception occurred:\n",
      "\u001b[0;31mKeyboardInterrupt\u001b[0m                         Traceback (most recent call last)",
      "\u001b[0;32m<ipython-input-15-8a25978d95a2>\u001b[0m in \u001b[0;36m<module>\u001b[0;34m()\u001b[0m\n\u001b[1;32m     47\u001b[0m     \u001b[0;32mreturn\u001b[0m \u001b[0mA\u001b[0m\u001b[0;34m.\u001b[0m\u001b[0msize\u001b[0m\u001b[0;34m(\u001b[0m\u001b[0mweight\u001b[0m\u001b[0;34m=\u001b[0m\u001b[0;34m'weight'\u001b[0m\u001b[0;34m)\u001b[0m\u001b[0;34m,\u001b[0m \u001b[0mA\u001b[0m\u001b[0;34m\u001b[0m\u001b[0m\n\u001b[1;32m     48\u001b[0m \u001b[0;34m\u001b[0m\u001b[0m\n\u001b[0;32m---> 49\u001b[0;31m \u001b[0mw\u001b[0m\u001b[0;34m,\u001b[0m \u001b[0mA\u001b[0m \u001b[0;34m=\u001b[0m \u001b[0mimprov\u001b[0m\u001b[0;34m(\u001b[0m\u001b[0;36m21\u001b[0m\u001b[0;34m,\u001b[0m \u001b[0mG\u001b[0m\u001b[0;34m)\u001b[0m\u001b[0;34m\u001b[0m\u001b[0m\n\u001b[0m\u001b[1;32m     50\u001b[0m \u001b[0mprint\u001b[0m\u001b[0;34m(\u001b[0m\u001b[0mw\u001b[0m\u001b[0;34m)\u001b[0m\u001b[0;34m\u001b[0m\u001b[0m\n\u001b[1;32m     51\u001b[0m \u001b[0mnx\u001b[0m\u001b[0;34m.\u001b[0m\u001b[0mdraw\u001b[0m\u001b[0;34m(\u001b[0m\u001b[0mA\u001b[0m\u001b[0;34m,\u001b[0m \u001b[0mwith_labels\u001b[0m\u001b[0;34m=\u001b[0m\u001b[0;32mTrue\u001b[0m\u001b[0;34m)\u001b[0m\u001b[0;34m\u001b[0m\u001b[0m\n",
      "\u001b[0;32m<ipython-input-15-8a25978d95a2>\u001b[0m in \u001b[0;36mimprov\u001b[0;34m(k, G)\u001b[0m\n\u001b[1;32m     35\u001b[0m         \u001b[0;31m#plt.show()\u001b[0m\u001b[0;34m\u001b[0m\u001b[0;34m\u001b[0m\u001b[0m\n\u001b[1;32m     36\u001b[0m \u001b[0;34m\u001b[0m\u001b[0m\n\u001b[0;32m---> 37\u001b[0;31m         \u001b[0mcur_components_num\u001b[0m\u001b[0;34m,\u001b[0m \u001b[0mcur_vertices_in_cycles_num\u001b[0m\u001b[0;34m,\u001b[0m \u001b[0mcur_singletons_num\u001b[0m \u001b[0;34m=\u001b[0m \u001b[0mget_components_count\u001b[0m\u001b[0;34m(\u001b[0m\u001b[0mG_new\u001b[0m\u001b[0;34m)\u001b[0m\u001b[0;34m\u001b[0m\u001b[0m\n\u001b[0m\u001b[1;32m     38\u001b[0m         \u001b[0;31m#print(cur_components_num, cur_vertices_in_cycles_num)\u001b[0m\u001b[0;34m\u001b[0m\u001b[0;34m\u001b[0m\u001b[0m\n\u001b[1;32m     39\u001b[0m         \u001b[0;32mif\u001b[0m \u001b[0mcheck_if_matching\u001b[0m\u001b[0;34m(\u001b[0m\u001b[0mG_new\u001b[0m\u001b[0;34m,\u001b[0m \u001b[0;36m2\u001b[0m\u001b[0;34m)\u001b[0m\u001b[0;34m:\u001b[0m\u001b[0;34m\u001b[0m\u001b[0m\n",
      "\u001b[0;32m<ipython-input-7-f90f5bfe4b2b>\u001b[0m in \u001b[0;36mget_components_count\u001b[0;34m(G)\u001b[0m\n\u001b[1;32m     15\u001b[0m     \u001b[0mcomponents_count\u001b[0m \u001b[0;34m=\u001b[0m \u001b[0;36m0\u001b[0m\u001b[0;34m\u001b[0m\u001b[0m\n\u001b[1;32m     16\u001b[0m     \u001b[0msingletons_count\u001b[0m \u001b[0;34m=\u001b[0m \u001b[0;36m0\u001b[0m\u001b[0;34m\u001b[0m\u001b[0m\n\u001b[0;32m---> 17\u001b[0;31m     \u001b[0;32mfor\u001b[0m \u001b[0mg\u001b[0m \u001b[0;32min\u001b[0m \u001b[0msubgraphs\u001b[0m\u001b[0;34m:\u001b[0m\u001b[0;34m\u001b[0m\u001b[0m\n\u001b[0m\u001b[1;32m     18\u001b[0m         \u001b[0mcomponents_count\u001b[0m \u001b[0;34m+=\u001b[0m \u001b[0;36m1\u001b[0m\u001b[0;34m\u001b[0m\u001b[0m\n\u001b[1;32m     19\u001b[0m         \u001b[0;32mif\u001b[0m \u001b[0mg\u001b[0m\u001b[0;34m.\u001b[0m\u001b[0mnumber_of_nodes\u001b[0m\u001b[0;34m(\u001b[0m\u001b[0;34m)\u001b[0m \u001b[0;34m==\u001b[0m \u001b[0;36m2\u001b[0m \u001b[0;32mand\u001b[0m \u001b[0mg\u001b[0m\u001b[0;34m.\u001b[0m\u001b[0mnumber_of_edges\u001b[0m\u001b[0;34m(\u001b[0m\u001b[0;34m)\u001b[0m \u001b[0;34m==\u001b[0m \u001b[0;36m1\u001b[0m\u001b[0;34m:\u001b[0m\u001b[0;34m\u001b[0m\u001b[0m\n",
      "\u001b[0;32m~/.pyenv/versions/3.6.0/lib/python3.6/site-packages/networkx/algorithms/components/connected.py\u001b[0m in \u001b[0;36mconnected_component_subgraphs\u001b[0;34m(G, copy)\u001b[0m\n\u001b[1;32m    122\u001b[0m     \u001b[0;32mfor\u001b[0m \u001b[0mc\u001b[0m \u001b[0;32min\u001b[0m \u001b[0mconnected_components\u001b[0m\u001b[0;34m(\u001b[0m\u001b[0mG\u001b[0m\u001b[0;34m)\u001b[0m\u001b[0;34m:\u001b[0m\u001b[0;34m\u001b[0m\u001b[0m\n\u001b[1;32m    123\u001b[0m         \u001b[0;32mif\u001b[0m \u001b[0mcopy\u001b[0m\u001b[0;34m:\u001b[0m\u001b[0;34m\u001b[0m\u001b[0m\n\u001b[0;32m--> 124\u001b[0;31m             \u001b[0;32myield\u001b[0m \u001b[0mG\u001b[0m\u001b[0;34m.\u001b[0m\u001b[0msubgraph\u001b[0m\u001b[0;34m(\u001b[0m\u001b[0mc\u001b[0m\u001b[0;34m)\u001b[0m\u001b[0;34m.\u001b[0m\u001b[0mcopy\u001b[0m\u001b[0;34m(\u001b[0m\u001b[0;34m)\u001b[0m\u001b[0;34m\u001b[0m\u001b[0m\n\u001b[0m\u001b[1;32m    125\u001b[0m         \u001b[0;32melse\u001b[0m\u001b[0;34m:\u001b[0m\u001b[0;34m\u001b[0m\u001b[0m\n\u001b[1;32m    126\u001b[0m             \u001b[0;32myield\u001b[0m \u001b[0mG\u001b[0m\u001b[0;34m.\u001b[0m\u001b[0msubgraph\u001b[0m\u001b[0;34m(\u001b[0m\u001b[0mc\u001b[0m\u001b[0;34m)\u001b[0m\u001b[0;34m\u001b[0m\u001b[0m\n",
      "\u001b[0;32m~/.pyenv/versions/3.6.0/lib/python3.6/site-packages/networkx/classes/graph.py\u001b[0m in \u001b[0;36mcopy\u001b[0;34m(self, as_view)\u001b[0m\n\u001b[1;32m   1417\u001b[0m         \u001b[0mG\u001b[0m \u001b[0;34m=\u001b[0m \u001b[0mself\u001b[0m\u001b[0;34m.\u001b[0m\u001b[0mfresh_copy\u001b[0m\u001b[0;34m(\u001b[0m\u001b[0;34m)\u001b[0m\u001b[0;34m\u001b[0m\u001b[0m\n\u001b[1;32m   1418\u001b[0m         \u001b[0mG\u001b[0m\u001b[0;34m.\u001b[0m\u001b[0mgraph\u001b[0m\u001b[0;34m.\u001b[0m\u001b[0mupdate\u001b[0m\u001b[0;34m(\u001b[0m\u001b[0mself\u001b[0m\u001b[0;34m.\u001b[0m\u001b[0mgraph\u001b[0m\u001b[0;34m)\u001b[0m\u001b[0;34m\u001b[0m\u001b[0m\n\u001b[0;32m-> 1419\u001b[0;31m         \u001b[0mG\u001b[0m\u001b[0;34m.\u001b[0m\u001b[0madd_nodes_from\u001b[0m\u001b[0;34m(\u001b[0m\u001b[0;34m(\u001b[0m\u001b[0mn\u001b[0m\u001b[0;34m,\u001b[0m \u001b[0md\u001b[0m\u001b[0;34m.\u001b[0m\u001b[0mcopy\u001b[0m\u001b[0;34m(\u001b[0m\u001b[0;34m)\u001b[0m\u001b[0;34m)\u001b[0m \u001b[0;32mfor\u001b[0m \u001b[0mn\u001b[0m\u001b[0;34m,\u001b[0m \u001b[0md\u001b[0m \u001b[0;32min\u001b[0m \u001b[0mself\u001b[0m\u001b[0;34m.\u001b[0m\u001b[0m_node\u001b[0m\u001b[0;34m.\u001b[0m\u001b[0mitems\u001b[0m\u001b[0;34m(\u001b[0m\u001b[0;34m)\u001b[0m\u001b[0;34m)\u001b[0m\u001b[0;34m\u001b[0m\u001b[0m\n\u001b[0m\u001b[1;32m   1420\u001b[0m         G.add_edges_from((u, v, datadict.copy())\n\u001b[1;32m   1421\u001b[0m                          \u001b[0;32mfor\u001b[0m \u001b[0mu\u001b[0m\u001b[0;34m,\u001b[0m \u001b[0mnbrs\u001b[0m \u001b[0;32min\u001b[0m \u001b[0mself\u001b[0m\u001b[0;34m.\u001b[0m\u001b[0madj\u001b[0m\u001b[0;34m.\u001b[0m\u001b[0mitems\u001b[0m\u001b[0;34m(\u001b[0m\u001b[0;34m)\u001b[0m\u001b[0;34m\u001b[0m\u001b[0m\n",
      "\u001b[0;32m~/.pyenv/versions/3.6.0/lib/python3.6/site-packages/networkx/classes/graph.py\u001b[0m in \u001b[0;36madd_nodes_from\u001b[0;34m(self, nodes, **attr)\u001b[0m\n\u001b[1;32m    542\u001b[0m                     \u001b[0mself\u001b[0m\u001b[0;34m.\u001b[0m\u001b[0m_adj\u001b[0m\u001b[0;34m[\u001b[0m\u001b[0mnn\u001b[0m\u001b[0;34m]\u001b[0m \u001b[0;34m=\u001b[0m \u001b[0mself\u001b[0m\u001b[0;34m.\u001b[0m\u001b[0madjlist_inner_dict_factory\u001b[0m\u001b[0;34m(\u001b[0m\u001b[0;34m)\u001b[0m\u001b[0;34m\u001b[0m\u001b[0m\n\u001b[1;32m    543\u001b[0m                     \u001b[0mnewdict\u001b[0m \u001b[0;34m=\u001b[0m \u001b[0mattr\u001b[0m\u001b[0;34m.\u001b[0m\u001b[0mcopy\u001b[0m\u001b[0;34m(\u001b[0m\u001b[0;34m)\u001b[0m\u001b[0;34m\u001b[0m\u001b[0m\n\u001b[0;32m--> 544\u001b[0;31m                     \u001b[0mnewdict\u001b[0m\u001b[0;34m.\u001b[0m\u001b[0mupdate\u001b[0m\u001b[0;34m(\u001b[0m\u001b[0mndict\u001b[0m\u001b[0;34m)\u001b[0m\u001b[0;34m\u001b[0m\u001b[0m\n\u001b[0m\u001b[1;32m    545\u001b[0m                     \u001b[0mself\u001b[0m\u001b[0;34m.\u001b[0m\u001b[0m_node\u001b[0m\u001b[0;34m[\u001b[0m\u001b[0mnn\u001b[0m\u001b[0;34m]\u001b[0m \u001b[0;34m=\u001b[0m \u001b[0mnewdict\u001b[0m\u001b[0;34m\u001b[0m\u001b[0m\n\u001b[1;32m    546\u001b[0m                 \u001b[0;32melse\u001b[0m\u001b[0;34m:\u001b[0m\u001b[0;34m\u001b[0m\u001b[0m\n",
      "\u001b[0;31mKeyboardInterrupt\u001b[0m: "
     ]
    }
   ],
   "source": [
    "import tqdm\n",
    "def improv(k, G):\n",
    "    if k > G.number_of_edges():\n",
    "        k = G.number_of_edges()\n",
    "    # Изначально A пусто\n",
    "    A = nx.Graph()\n",
    "    A.add_nodes_from(G.nodes)\n",
    "    A_components_num = math.inf\n",
    "    A_vertices_in_cycles_num = math.inf\n",
    "    A_singletons_num = math.inf\n",
    "#     A = G\n",
    "#     A_components_num, A_vertices_in_cycles_num = get_components_count(A)\n",
    "    \n",
    "    # Перебираем все возможные варианты для C\n",
    "    print('Граф с %d вершинами и %d рёбрами'%(G.number_of_nodes(), G.number_of_edges()))\n",
    "    max_iter = sum([comb(G.number_of_edges(), i) for i in range(0, k+1)])\n",
    "    print('Число комбинаций для перебора ', max_iter)\n",
    "    C_edges_s = itertools.chain.from_iterable(itertools.combinations(G.edges, i) for i in range(1, k+1))\n",
    "    n_iter = 0\n",
    "    pbar = tqdm.tqdm_notebook(total=max_iter)\n",
    "    for C_edges in C_edges_s:\n",
    "        #print(n_iter/max_iter)\n",
    "        if n_iter % 1000 == 0:\n",
    "            pbar.update(1000)\n",
    "            print(n_iter)\n",
    "        n_iter += 1\n",
    "        #print(C_edges)\n",
    "        C = nx.Graph()\n",
    "        C.add_nodes_from(G.nodes)\n",
    "        C.add_edges_from(C_edges)\n",
    "        #nx.draw(C)\n",
    "        #plt.show()\n",
    "        G_new = nx.symmetric_difference(A, C)\n",
    "        #nx.draw(G_new)\n",
    "        #plt.show()\n",
    "        \n",
    "        cur_components_num, cur_vertices_in_cycles_num, cur_singletons_num = get_components_count(G_new)\n",
    "        #print(cur_components_num, cur_vertices_in_cycles_num)\n",
    "        if check_if_matching(G_new, 2):\n",
    "            if (cur_components_num<A_components_num) \\\n",
    "                    or (cur_components_num == A_components_num \\\n",
    "                        and cur_vertices_in_cycles_num > A_vertices_in_cycles_num) \\\n",
    "                    or (cur_components_num == A_components_num \\\n",
    "                        and cur_vertices_in_cycles_num == A_vertices_in_cycles_num \\\n",
    "                        and cur_singletons_num < A_singletons_num):\n",
    "                print('Changing A')\n",
    "    #                 nx.draw(A)\n",
    "    #                 plt.show()\n",
    "                A = G_new\n",
    "                A_components_num = cur_components_num\n",
    "                A_vertices_in_cycles_num = cur_vertices_in_cycles_num\n",
    "    return A.size(weight='weight'), A\n",
    "                        \n",
    "w, A = improv(21, G)\n",
    "print(w)\n",
    "nx.draw(A, with_labels=True)"
   ]
  },
  {
   "cell_type": "code",
   "execution_count": null,
   "metadata": {},
   "outputs": [],
   "source": []
  }
 ],
 "metadata": {
  "kernelspec": {
   "display_name": "Python 3",
   "language": "python",
   "name": "python3"
  },
  "language_info": {
   "codemirror_mode": {
    "name": "ipython",
    "version": 3
   },
   "file_extension": ".py",
   "mimetype": "text/x-python",
   "name": "python",
   "nbconvert_exporter": "python",
   "pygments_lexer": "ipython3",
   "version": "3.6.0"
  }
 },
 "nbformat": 4,
 "nbformat_minor": 2
}
