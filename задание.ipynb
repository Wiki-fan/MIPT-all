{
 "cells": [
  {
   "cell_type": "markdown",
   "metadata": {},
   "source": [
    "# 0) При реализации алгоритма разрешается использовать только библиотеки из requierments.txt\n",
    "\n",
    "В него входит:\n",
    "1. jupyter - библиотека для показа ноутбуков\n",
    "2. numpy - библиотека для вычислений\n",
    "3. matplotlib - библиотека для визуализации\n",
    "\n",
    "## Установка \n",
    "1. Устанавливаем python3 и virtualenv\n",
    "2. создаем окружение virtualenv --no-site-packages  lin_prog\n",
    "3. активируем окружение source activate lin_prog\n",
    "4. устанавливаем зависимости pip install -r requirements.txt\n",
    "5. запускаем jupyter и начинаем работать jupyter notebook"
   ]
  },
  {
   "cell_type": "markdown",
   "metadata": {},
   "source": [
    "# ============================================================\n",
    "# Задача на Симплекс метод\n",
    "\n",
    "## 1) На вход Вашему функцию должны приходить:\n",
    "\n",
    "0. число переменных = n\n",
    "1. матрица A (n x m) (tsv, вещественные числа)\n",
    "2. вектор  b  ограничений типа неравнство\n",
    "4. вектор c функции полезности для задачи max cx \n",
    "5. алгоритм выбора входящей переменной (правило Бленда, Лексикографический метод)\n",
    "6. (не обязательный параметр) стартовую базисную точку\n",
    "\n",
    "## 2) На выход программа должна выдавать:\n",
    "\n",
    "### Обязательная часть (0.3 баллов):\n",
    "0. Ответ и оптимальную точку при положительных компонентах вектора b\n",
    "1. Количество итераций потребовавшихся для решения задачи\n",
    "2. при n=2 выдавать процесс решения (draw=True)\n",
    "3. Напишите программу которая будет отвечать на вопрос оптимально ли приведенное решение, например\n",
    "\n",
    "\n",
    "### Дополнительная часть  (0.8 балл):\n",
    "0. Максимально использовать матричные вычисления (0.2 балла)\n",
    "1. Работать в случае отрицательных чисел в векторе b (0.2 балла)\n",
    "\n",
    "\n"
   ]
  },
  {
   "cell_type": "code",
   "execution_count": 6,
   "metadata": {},
   "outputs": [],
   "source": [
    "import numpy as np\n",
    "import logging as log\n",
    "import sys\n",
    "log.basicConfig(level=log.INFO, format='>%(message)s', stream=sys.stdout)\n",
    "\n",
    "import matplotlib.pyplot as plt\n",
    "import matplotlib.lines as mlines\n",
    "%matplotlib inline\n",
    "\n",
    "#пример из листочка 1\n",
    "A=np.array([[1,2],[2,0.5]])\n",
    "b=np.array([5,8])\n",
    "c=np.array([5,1])\n",
    "# (array([ 4.,  0.]), 20.0, 1)"
   ]
  },
  {
   "cell_type": "code",
   "execution_count": 7,
   "metadata": {},
   "outputs": [],
   "source": [
    "\n",
    "\n",
    "\n",
    "def is_optimal (A,b,c, x):\n",
    "    \"\"\"\n",
    "    Здесь должна быть реализована проверка оптимальности точки. \n",
    "    Алгоритм должен работать для фиксированных n,m за константное время\n",
    "    \"\"\"\n",
    "    return (x==np.array([4,0])).all()"
   ]
  },
  {
   "cell_type": "code",
   "execution_count": 114,
   "metadata": {},
   "outputs": [],
   "source": [
    "def solve_lin_prog (A, b, c, method='blend', start_point=None, draw=False):\n",
    "    \"\"\"\n",
    "    Здесь должно быть ваше решение. У всех действий должны быть комментарии. \n",
    "    Код должен быть читабельным, хорошо использовать дополнительные функции если это необходимо\n",
    "    \n",
    "    A, b, c - матрица, b - вектор ограничений типа <=, с - функция полезности, задача максимизации\n",
    "    method - 'blend', 'lexical'\n",
    "    start_point - точка\n",
    "    draw -  true/false рисовать ли ответ, только для 2 переменных\n",
    "    \n",
    "    Вывод - вектор на котором достигается максимум, максимальное значение, число итераций\n",
    "    \"\"\"\n",
    "    \n",
    "    # Если есть отрицательные значения в b, запускаем инициализацию\n",
    "    if np.count_nonzero(b < 0) > 0:\n",
    "        pass\n",
    "    \n",
    "    # Инициализируем матрицы и прочее\n",
    "    # Делаем b столбцом\n",
    "    b = b.reshape((-1, 1))\n",
    "    \n",
    "    # Сделаем симплекс-таблицу.\n",
    "    top = np.hstack((A, b))\n",
    "    bottom = np.hstack((-c, 0))\n",
    "    ST = np.vstack([top, bottom]).astype(np.float64)\n",
    "    \n",
    "    log.info('%s'%ST)\n",
    "    n = A.shape[0]\n",
    "    m = A.shape[1]\n",
    "    log.info('n=%s, m=%s'%(n, m))\n",
    "    \n",
    "    basis = list(range(0, n))\n",
    "    nonbasis = list(range(n, n+m))\n",
    "    log.debug(\"basis %s, nonbasis %s\"%(basis, nonbasis))\n",
    "\n",
    "    iteration_number = 0\n",
    "    \n",
    "    #тут рисуем анимацию\n",
    "#     if draw:\n",
    "#         fig, ax= plt.subplots(num_iter+1)\n",
    "#         fig.set_figheight(5*(num_iter+1))\n",
    "#         fig.set_figwidth(5)\n",
    "#         xs=[[0,0],[4,0]]\n",
    "\n",
    "#         for i,a in enumerate(ax):\n",
    "#             a.plot([0,5],[5,0],  color='b')\n",
    "#             a.plot([4,0],[0,16], color='b')\n",
    "#             a.plot([0,0],[0,5], color='b')\n",
    "#             a.plot([0,4],[0,0], color='b')\n",
    "#             a.axis([-1, 17, -1, 17])\n",
    "#             a.set_xlabel('X1')\n",
    "#             a.set_ylabel('X2')\n",
    "#             a.set_title('Iteration %d x=(%.2f, %.2f)' % (i+1,xs[i][0],xs[i][1]))\n",
    "\n",
    "#         ax[0].scatter([0,4,3.66],[5,0,1.33], color='black')\n",
    "#         ax[0].scatter([0],[0], color='red')\n",
    "\n",
    "#         ax[1].scatter([0,0,3.66],[0,5,1.33], color='black')\n",
    "#         ax[1].scatter([4],[0], color='red')\n",
    "\n",
    "\n",
    "#         \n",
    "#         plt.show()\n",
    "    \n",
    "    def is_valid_solution(x):\n",
    "        return (A@x.reshape((-1,1))<=b).all() and (x>=0).all()\n",
    "    \n",
    "    if draw == True and m != 2:\n",
    "        draw = False\n",
    "    \n",
    "    # Рисует ограничения, допустимые угловые точки отмечает чёрными точками, текущую - красной.\n",
    "    def draw_lines(x):\n",
    "        plt.plot()\n",
    "        a = plt.gca()\n",
    "        plt.axes().set_aspect('equal')#, 'datalim')\n",
    "        #a.axis([-1, 17, -1, 17])\n",
    "        a.set_xlabel('X1')\n",
    "        a.set_ylabel('X2')\n",
    "        \n",
    "        xmax, ymax = 0,0\n",
    "        # Пересечения\n",
    "        for i in range(0, A_plot.shape[0]):\n",
    "            for j in range(0, i):\n",
    "                if i != j:\n",
    "                    a_, b_ = A_plot[i]\n",
    "                    c_ = b_plot[i][0]\n",
    "                    d_, e_ = A_plot[j]\n",
    "                    f_ = b_plot[j][0]\n",
    "                    #print(a_, b_, c_, d_, e_, f_)\n",
    "                    x_ = (b_*f_-c_*e_)/(b_*d_-a_*e_)\n",
    "                    y_ = (c_*d_-a_*f_)/(b_*d_-a_*e_)#(c_-a_*x_)/b_\n",
    "                    if x_ > xmax and x_ != np.inf:\n",
    "                        xmax = x_\n",
    "                    if y_ > ymax and y_ != np.inf:\n",
    "                        ymax = y_\n",
    "                    #print(x_, y_)\n",
    "                    if is_valid_solution(np.array([x_, y_])):\n",
    "                        plt.scatter([x_], [y_], color='black')\n",
    "        plt.scatter([x[0]], [x[1]], color='red')\n",
    "        \n",
    "        #print('xmax ymax', xmax, ymax)\n",
    "        # Ограничения в виде осей (неотрицательность переменных)\n",
    "        plt.plot([0, xmax], [0, 0], color='blue')\n",
    "        plt.plot([0, 0], [ymax, 0], color='blue')\n",
    "        epsilon = 2\n",
    "        plt.xlim((-epsilon, xmax+epsilon))\n",
    "        plt.ylim((-epsilon, ymax+epsilon))\n",
    "        \n",
    "        # Ограничения\n",
    "        for i in range(0, A_plot.shape[0]):\n",
    "            a_, b_ = A_plot[i]\n",
    "            c_ = b_plot[i][0]\n",
    "            #print(a_, b_, c_)\n",
    "            #print(c_/b_, c_/a_)\n",
    "            #plt.plot([0, c_/a_], [c_/b_, 0], color='blue')\n",
    "            \n",
    "            if c_/b_<0:\n",
    "                x1, y1 = c_/a_, 0\n",
    "            else:\n",
    "                x1, y1 = 0, c_/b_\n",
    "            if (c_-a_*xmax)/b_ > ymax:\n",
    "                x2, y2 = (c_-b_*ymax)/a_, ymax\n",
    "            else:\n",
    "                x2, y2 = xmax, (c_-a_*xmax)/b_\n",
    "            if y2 < 0:\n",
    "                x2, y2 = c_/a_, 0\n",
    "            if x2 < 0:\n",
    "                x2, y2 = 0, c_/b_\n",
    "            plt.plot([x1, x2], [y1, y2], color='blue')\n",
    "            \n",
    "            if c_/a_<0:\n",
    "                x1, y1 = 0, c_/b_\n",
    "            else:\n",
    "                x1, y1 = c_/a_, 0\n",
    "            if (c_-a_*xmax)/b_ < ymax:\n",
    "                x2, y2 = xmax, (c_-a_*xmax)/b_\n",
    "            else:\n",
    "                x2, y2 = (c_-b_*ymax)/a_, ymax\n",
    "            if y2 < 0:\n",
    "                x2, y2 = c_/a_, 0\n",
    "            if x2 < 0:\n",
    "                x2, y2 = 0, c_/b_\n",
    "            plt.plot([x1, x2], [y1, y2], color='blue')\n",
    "        \n",
    "            # Дорисовываем оси до нашей точки.\n",
    "            #plt.plot([0, c_/a_], [0, 0], color='blue')\n",
    "            #plt.plot([0, 0], [c_/b_, 0], color='blue')\n",
    "        \n",
    "        # plt.set_title('Iteration %d x=(%.2f, %.2f)' % (i+1,xs[i][0],xs[i][1]))\n",
    "\n",
    "        plt.tight_layout()\n",
    "        plt.show()\n",
    "        \n",
    "    if draw == True:\n",
    "        A_plot = np.vstack([A, np.array([[1,0], [0,1]])])\n",
    "        b_plot = np.vstack([b, [[0],[0]]])\n",
    "        draw_lines([[0],[0]])\n",
    "\n",
    "    def get_solution(basis, ST):\n",
    "        x = np.zeros(m)\n",
    "        w = np.zeros(n)\n",
    "        for i in range(0, n):\n",
    "            if 0<=basis[i]<n:\n",
    "                w[basis[i]] = ST[:,-1][i]\n",
    "            if basis[i]>=n:\n",
    "                x[basis[i]-n] = ST[:,-1][i]\n",
    "        log.info('%s %s', x, w)\n",
    "        return x, w\n",
    "    \n",
    "    def get_leaving_variable(ST):\n",
    "        if method=='largest_coef':\n",
    "            return np.argmin(ST[-1][:-1])\n",
    "        elif method=='blend':\n",
    "            \"\"\"minind = [0, 0]\n",
    "            minval = [n+m,n+m]\n",
    "            for i in range(len(nonbasis)):\n",
    "                if nonbasis[i] < n:\n",
    "                    if nonbasis[i]<minval[0]:\n",
    "                        minind[0] = i\n",
    "                        minval[0] = nonbasis[i]\n",
    "                else:\n",
    "                    if nonbasis[i]<minval[1]:\n",
    "                        minind[1] = i\n",
    "                        minval[1] = nonbasis[i]\n",
    "            if minval[1] == n+m:\n",
    "                return minind[0]\n",
    "            else:\n",
    "                return minind[1]\"\"\"\n",
    "            return np.argmin(np.ma.array(nonbasis, mask=(ST[-1][:-1]>=0)))\n",
    "            \n",
    "        \n",
    "    solutions = [np.zeros(m)]\n",
    "    while np.min(ST[-1]) < 0:\n",
    "        iteration_number += 1\n",
    "        log.info('          ITERATION #%s'%iteration_number)\n",
    "        \n",
    "        #Разрешающий столбец\n",
    "        log.debug('%s'%ST[-1])\n",
    "        j = get_leaving_variable(ST)\n",
    "        log.info('j=%s'%j)\n",
    "\n",
    "        ratios = ST[:, -1]/ST[:, j]\n",
    "        log.debug('%s'%ratios)\n",
    "        i = np.argmin(np.ma.array(ratios[:-1], mask=(ratios[:-1]<0)))\n",
    "        log.info('i=%s'%i)\n",
    "\n",
    "        #Строим новую таблицу\n",
    "        ST_ = ST.copy()\n",
    "        basis[i], nonbasis[j] = nonbasis[j], basis[i]\n",
    "        log.info(\"basis %s, nonbasis %s\"%(basis, nonbasis))\n",
    "        ST_[i][j] = 1/ST[i][j]\n",
    "        log.debug(\"%s\"%ST_)\n",
    "        ST_[i][np.arange(m+1) != j] = ST[i][np.arange(m+1) != j]/ST[i][j]\n",
    "        log.debug(\"%s\"%ST_)\n",
    "        ST_[:, j][np.arange(n+1) != i] = -ST[:, j][np.arange(n+1) != i]/ST[i][j]\n",
    "        log.debug(\"%s\"%ST_)\n",
    "\n",
    "        for i_ in range(0, n+1):\n",
    "            for j_ in range(0, m+1):\n",
    "                #print(i_, j_, ST[i_][j],ST[i][j_],ST[i][j])\n",
    "                if i_ != i and j_ != j:\n",
    "                    ST_[i_][j_] = ST[i_][j_] - ST[i_][j]*ST[i][j_]/ST[i][j]#(ST[i][j]*ST[i_][j_]-ST[i_][j]*ST[i][j_])/ST[i][j]\n",
    "\n",
    "        log.info(\"%s\"%ST_)\n",
    "        ST = ST_\n",
    "        \n",
    "        x, w = get_solution(basis, ST)\n",
    "        solutions.append(x)\n",
    "        \n",
    "        if draw == True:\n",
    "            draw_lines(x)\n",
    "    \n",
    "    log.info('FINISHED in %d iterations'%iteration_number)\n",
    "    \n",
    "    log.info('path %s'%solutions)\n",
    "    x, w = get_solution(basis, ST)\n",
    "    \n",
    "    return x, ST[-1][-1], iteration_number\n"
   ]
  },
  {
   "cell_type": "code",
   "execution_count": 115,
   "metadata": {
    "scrolled": false
   },
   "outputs": [],
   "source": [
    "#solve_lin_prog(A, b, c, draw=True)"
   ]
  },
  {
   "cell_type": "code",
   "execution_count": 117,
   "metadata": {
    "scrolled": false
   },
   "outputs": [
    {
     "name": "stdout",
     "output_type": "stream",
     "text": [
      ">[[ 1.   2.   5. ]\n",
      " [ 2.   0.5  8. ]\n",
      " [-5.  -1.   0. ]]\n",
      ">n=2, m=2\n"
     ]
    },
    {
     "name": "stderr",
     "output_type": "stream",
     "text": [
      "/home/sharik/.pyenv/versions/3.6.0/lib/python3.6/site-packages/ipykernel_launcher.py:117: RuntimeWarning: invalid value encountered in true_divide\n",
      "/home/sharik/.pyenv/versions/3.6.0/lib/python3.6/site-packages/ipykernel_launcher.py:120: RuntimeWarning: invalid value encountered in true_divide\n",
      "/home/sharik/.pyenv/versions/3.6.0/lib/python3.6/site-packages/ipykernel_launcher.py:121: RuntimeWarning: divide by zero encountered in double_scalars\n",
      "/home/sharik/.pyenv/versions/3.6.0/lib/python3.6/site-packages/ipykernel_launcher.py:124: RuntimeWarning: divide by zero encountered in double_scalars\n",
      "/home/sharik/.pyenv/versions/3.6.0/lib/python3.6/site-packages/ipykernel_launcher.py:135: RuntimeWarning: divide by zero encountered in double_scalars\n",
      "/home/sharik/.pyenv/versions/3.6.0/lib/python3.6/site-packages/ipykernel_launcher.py:136: RuntimeWarning: divide by zero encountered in double_scalars\n",
      "/home/sharik/.pyenv/versions/3.6.0/lib/python3.6/site-packages/ipykernel_launcher.py:131: RuntimeWarning: invalid value encountered in true_divide\n",
      "/home/sharik/.pyenv/versions/3.6.0/lib/python3.6/site-packages/ipykernel_launcher.py:134: RuntimeWarning: invalid value encountered in true_divide\n"
     ]
    },
    {
     "data": {
      "image/png": "[encoded data removed]",
      "text/plain": [
       "<matplotlib.figure.Figure at 0x7f183685bba8>"
      ]
     },
     "metadata": {},
     "output_type": "display_data"
    },
    {
     "name": "stdout",
     "output_type": "stream",
     "text": [
      ">          ITERATION #1\n",
      ">j=0\n",
      ">i=1\n",
      ">basis [0, 2], nonbasis [1, 3]\n",
      ">[[ -0.5    1.75   1.  ]\n",
      " [  0.5    0.25   4.  ]\n",
      " [  2.5    0.25  20.  ]]\n",
      ">[ 4.  0.] [ 1.  0.]\n"
     ]
    },
    {
     "data": {
      "image/png": "[encoded data removed]",
      "text/plain": [
       "<matplotlib.figure.Figure at 0x7f1836bcb358>"
      ]
     },
     "metadata": {},
     "output_type": "display_data"
    },
    {
     "name": "stdout",
     "output_type": "stream",
     "text": [
      ">FINISHED in 1 iterations\n",
      ">path [array([ 0.,  0.]), array([ 4.,  0.])]\n",
      ">[ 4.  0.] [ 1.  0.]\n",
      ">[[ 1. -1.  1.]\n",
      " [ 2. -1.  3.]\n",
      " [ 0.  1.  5.]\n",
      " [-4. -3.  0.]]\n",
      ">n=3, m=2\n"
     ]
    },
    {
     "name": "stderr",
     "output_type": "stream",
     "text": [
      "/home/sharik/.pyenv/versions/3.6.0/lib/python3.6/site-packages/ipykernel_launcher.py:90: RuntimeWarning: divide by zero encountered in long_scalars\n",
      "/home/sharik/.pyenv/versions/3.6.0/lib/python3.6/site-packages/ipykernel_launcher.py:91: RuntimeWarning: invalid value encountered in long_scalars\n",
      "/home/sharik/.pyenv/versions/3.6.0/lib/python3.6/site-packages/ipykernel_launcher.py:66: RuntimeWarning: invalid value encountered in less_equal\n",
      "/home/sharik/.pyenv/versions/3.6.0/lib/python3.6/site-packages/ipykernel_launcher.py:131: RuntimeWarning: divide by zero encountered in long_scalars\n",
      "/home/sharik/.pyenv/versions/3.6.0/lib/python3.6/site-packages/ipykernel_launcher.py:134: RuntimeWarning: divide by zero encountered in long_scalars\n",
      "/home/sharik/.pyenv/versions/3.6.0/lib/python3.6/site-packages/ipykernel_launcher.py:138: RuntimeWarning: invalid value encountered in double_scalars\n",
      "/home/sharik/.pyenv/versions/3.6.0/lib/python3.6/site-packages/ipykernel_launcher.py:117: RuntimeWarning: invalid value encountered in long_scalars\n",
      "/home/sharik/.pyenv/versions/3.6.0/lib/python3.6/site-packages/ipykernel_launcher.py:120: RuntimeWarning: invalid value encountered in long_scalars\n",
      "/home/sharik/.pyenv/versions/3.6.0/lib/python3.6/site-packages/ipykernel_launcher.py:131: RuntimeWarning: invalid value encountered in long_scalars\n",
      "/home/sharik/.pyenv/versions/3.6.0/lib/python3.6/site-packages/ipykernel_launcher.py:134: RuntimeWarning: invalid value encountered in long_scalars\n"
     ]
    },
    {
     "data": {
      "image/png": "[encoded data removed]",
      "text/plain": [
       "<matplotlib.figure.Figure at 0x7f1836798a58>"
      ]
     },
     "metadata": {},
     "output_type": "display_data"
    },
    {
     "name": "stdout",
     "output_type": "stream",
     "text": [
      ">          ITERATION #1\n",
      ">j=0\n",
      ">i=0\n",
      ">basis [3, 1, 2], nonbasis [0, 4]\n",
      ">[[ 1. -1.  1.]\n",
      " [-2.  1.  1.]\n",
      " [-0.  1.  5.]\n",
      " [ 4. -7.  4.]]\n",
      ">[ 1.  0.] [ 0.  1.  5.]\n"
     ]
    },
    {
     "name": "stderr",
     "output_type": "stream",
     "text": [
      "/home/sharik/.pyenv/versions/3.6.0/lib/python3.6/site-packages/ipykernel_launcher.py:202: RuntimeWarning: divide by zero encountered in true_divide\n"
     ]
    },
    {
     "data": {
      "image/png": "[encoded data removed]",
      "text/plain": [
       "<matplotlib.figure.Figure at 0x7f1836978400>"
      ]
     },
     "metadata": {},
     "output_type": "display_data"
    },
    {
     "name": "stdout",
     "output_type": "stream",
     "text": [
      ">          ITERATION #2\n",
      ">j=1\n",
      ">i=1\n",
      ">basis [3, 4, 2], nonbasis [0, 1]\n",
      ">[[ -1.   1.   2.]\n",
      " [ -2.   1.   1.]\n",
      " [  2.  -1.   4.]\n",
      " [-10.   7.  11.]]\n",
      ">[ 2.  1.] [ 0.  0.  4.]\n"
     ]
    },
    {
     "data": {
      "image/png": "[encoded data removed]",
      "text/plain": [
       "<matplotlib.figure.Figure at 0x7f1836fda3c8>"
      ]
     },
     "metadata": {},
     "output_type": "display_data"
    },
    {
     "name": "stdout",
     "output_type": "stream",
     "text": [
      ">          ITERATION #3\n",
      ">j=0\n",
      ">i=2\n",
      ">basis [3, 4, 0], nonbasis [2, 1]\n",
      ">[[  0.5   0.5   4. ]\n",
      " [  1.    0.    5. ]\n",
      " [  0.5  -0.5   2. ]\n",
      " [  5.    2.   31. ]]\n",
      ">[ 4.  5.] [ 2.  0.  0.]\n"
     ]
    },
    {
     "data": {
      "image/png": "[encoded data removed]",
      "text/plain": [
       "<matplotlib.figure.Figure at 0x7f18370a43c8>"
      ]
     },
     "metadata": {},
     "output_type": "display_data"
    },
    {
     "name": "stdout",
     "output_type": "stream",
     "text": [
      ">FINISHED in 3 iterations\n",
      ">path [array([ 0.,  0.]), array([ 1.,  0.]), array([ 2.,  1.]), array([ 4.,  5.])]\n",
      ">[ 4.  5.] [ 2.  0.  0.]\n",
      ">[[  2.   3.   1.   5.]\n",
      " [  4.   1.   2.  11.]\n",
      " [  3.   4.   2.   8.]\n",
      " [ -5.  -4.  -3.   0.]]\n",
      ">n=3, m=3\n",
      ">          ITERATION #1\n",
      ">j=0\n",
      ">i=0\n",
      ">basis [3, 1, 2], nonbasis [0, 4, 5]\n",
      ">[[  0.5   1.5   0.5   2.5]\n",
      " [ -2.   -5.    0.    1. ]\n",
      " [ -1.5  -0.5   0.5   0.5]\n",
      " [  2.5   3.5  -0.5  12.5]]\n",
      ">[ 2.5  0.   0. ] [ 0.   1.   0.5]\n",
      ">          ITERATION #2\n",
      ">j=2\n",
      ">i=2\n",
      ">basis [3, 1, 5], nonbasis [0, 4, 2]\n",
      ">[[  2.   2.  -1.   2.]\n",
      " [ -2.  -5.  -0.   1.]\n",
      " [ -3.  -1.   2.   1.]\n",
      " [  1.   3.   1.  13.]]\n",
      ">[ 2.  0.  1.] [ 0.  1.  0.]\n",
      ">FINISHED in 2 iterations\n",
      ">path [array([ 0.,  0.,  0.]), array([ 2.5,  0. ,  0. ]), array([ 2.,  0.,  1.])]\n",
      ">[ 2.  0.  1.] [ 0.  1.  0.]\n",
      ">[[  1.    1.    1.    1.   40. ]\n",
      " [  2.    1.   -1.   -1.   10. ]\n",
      " [  0.   -1.    0.    1.   10. ]\n",
      " [ -0.5  -3.   -1.   -4.    0. ]]\n",
      ">n=3, m=4\n",
      ">          ITERATION #1\n",
      ">j=0\n",
      ">i=1\n",
      ">basis [0, 3, 2], nonbasis [1, 4, 5, 6]\n",
      ">[[ -0.5    0.5    1.5    1.5   35.  ]\n",
      " [  0.5    0.5   -0.5   -0.5    5.  ]\n",
      " [ -0.    -1.     0.     1.    10.  ]\n",
      " [  0.25  -2.75  -1.25  -4.25   2.5 ]]\n",
      ">[ 5.  0.  0.  0.] [ 35.   0.  10.]\n",
      ">          ITERATION #2\n",
      ">j=1\n",
      ">i=1\n",
      ">basis [0, 4, 2], nonbasis [1, 3, 5, 6]\n",
      ">[[ -1.   -1.    2.    2.   30. ]\n",
      " [  1.    2.   -1.   -1.   10. ]\n",
      " [  1.    2.   -1.    0.   20. ]\n",
      " [  3.    5.5  -4.   -7.   30. ]]\n",
      ">[  0.  10.   0.   0.] [ 30.   0.  20.]\n",
      ">          ITERATION #3\n",
      ">j=2\n",
      ">i=0\n",
      ">basis [5, 4, 2], nonbasis [1, 3, 0, 6]\n",
      ">[[ -0.5  -0.5   0.5   1.   15. ]\n",
      " [  0.5   1.5   0.5   0.   25. ]\n",
      " [  0.5   1.5   0.5   1.   35. ]\n",
      " [  1.    3.5   2.   -3.   90. ]]\n",
      ">[  0.  25.  15.   0.] [  0.   0.  35.]\n",
      ">          ITERATION #4\n",
      ">j=3\n",
      ">i=0\n",
      ">basis [6, 4, 2], nonbasis [1, 3, 0, 5]\n",
      ">[[  -0.5   -0.5    0.5    1.    15. ]\n",
      " [   0.5    1.5    0.5   -0.    25. ]\n",
      " [   1.     2.     0.    -1.    20. ]\n",
      " [  -0.5    2.     3.5    3.   135. ]]\n",
      ">[  0.  25.   0.  15.] [  0.   0.  20.]\n",
      ">          ITERATION #5\n",
      ">j=0\n",
      ">i=2\n",
      ">basis [6, 4, 1], nonbasis [2, 3, 0, 5]\n",
      ">[[   0.5    0.5    0.5    0.5   25. ]\n",
      " [  -0.5    0.5    0.5    0.5   15. ]\n",
      " [   1.     2.     0.    -1.    20. ]\n",
      " [   0.5    3.     3.5    2.5  145. ]]\n",
      ">[  0.  15.   0.  25.] [  0.  20.   0.]\n",
      ">FINISHED in 5 iterations\n",
      ">path [array([ 0.,  0.,  0.,  0.]), array([ 5.,  0.,  0.,  0.]), array([  0.,  10.,   0.,   0.]), array([  0.,  25.,  15.,   0.]), array([  0.,  25.,   0.,  15.]), array([  0.,  15.,   0.,  25.])]\n",
      ">[  0.  15.   0.  25.] [  0.  20.   0.]\n"
     ]
    }
   ],
   "source": [
    "A=np.array([[1,2],[2,0.5]])\n",
    "b=np.array([5,8])\n",
    "c=np.array([5,1])\n",
    "ans = solve_lin_prog(A, b, c, draw=True)\n",
    "corr_ans = (np.array([ 4.,  0.]), 20.0)\n",
    "assert((ans[0] == corr_ans[0]).all() and ans[1] == corr_ans[1])\n",
    "\n",
    "A=np.array([[1,-1],[2,-1], [0, 1]])\n",
    "b=np.array([1,3,5])\n",
    "c=np.array([4,3])\n",
    "ans = solve_lin_prog(A, b, c, draw=True)\n",
    "corr_ans = (np.array([ 4.,  5.]), 31.0)\n",
    "assert((ans[0] == corr_ans[0]).all() and ans[1] == corr_ans[1])\n",
    "\n",
    "A=np.array([[2,3,1],[4,1,2],[3,4,2]])\n",
    "b=np.array([5, 11, 8])\n",
    "c=np.array([5, 4, 3])\n",
    "ans = solve_lin_prog(A, b, c, draw=True)\n",
    "corr_ans = (np.array([ 2.,  0.,  1.]), 13.0)\n",
    "assert((ans[0] == corr_ans[0]).all() and ans[1] == corr_ans[1])\n",
    "\n",
    "A=np.array([[1,1,1,1],[2,1,-1,-1],[0,-1,0,1]])\n",
    "b=np.array([40, 10, 10])\n",
    "c=np.array([0.5, 3,1,4])\n",
    "ans = solve_lin_prog(A, b, c, draw=True)\n",
    "corr_ans = (np.array([  0.,  15.,   0.,  25.]), 145.0)\n",
    "assert((ans[0] == corr_ans[0]).all() and ans[1] == corr_ans[1])"
   ]
  },
  {
   "cell_type": "code",
   "execution_count": null,
   "metadata": {},
   "outputs": [],
   "source": [
    "x, best, n_iter = solve_lin_prog(A,b,c, draw=True)"
   ]
  },
  {
   "cell_type": "code",
   "execution_count": 7,
   "metadata": {},
   "outputs": [
    {
     "name": "stdout",
     "output_type": "stream",
     "text": [
      "Точка:  [4 0]\n",
      "Ответ:  20\n",
      "Число итераций:  1\n"
     ]
    }
   ],
   "source": [
    "print (u'Точка: ', x)\n",
    "print (u'Ответ: ', best)\n",
    "print (u'Число итераций: ', n_iter)"
   ]
  },
  {
   "cell_type": "code",
   "execution_count": 8,
   "metadata": {},
   "outputs": [
    {
     "data": {
      "text/plain": [
       "True"
      ]
     },
     "execution_count": 8,
     "metadata": {},
     "output_type": "execute_result"
    }
   ],
   "source": [
    "is_optimal(A,b,c,x)"
   ]
  },
  {
   "cell_type": "markdown",
   "metadata": {},
   "source": [
    "# ==========================================================\n",
    "# Задача на МНК (0.4 балла)"
   ]
  },
  {
   "cell_type": "code",
   "execution_count": 6,
   "metadata": {},
   "outputs": [],
   "source": [
    "from math import sin\n",
    "import numpy as np\n",
    "\n",
    "\"\"\"Пусть физический закон описывается зависимостью \n",
    "некоторого измеряемого значения y(x, a) \n",
    "от времени и координаты x при параметрах a:\"\"\"\n",
    "def y(t,a): \n",
    "    return a[2]*sin(t)+a[1]*t +a[0]\n",
    "    \n",
    "\"\"\"\n",
    "Дан набор координат t размера m, значения распределены равномерно). Пусть m = 200.\n",
    "\"\"\"\n",
    "m=200\n",
    "t=[i*10.0/m for i in range(m)]\n",
    "\n",
    "\n",
    "\"\"\"Для каждого момента времени t сгенерируйте соответствующее \n",
    "значение y(t,a) при некоторых параметрах  a_0, a_1, a_2. Для примера: \"\"\"\n",
    "a=[10,100,1000]\n",
    "\n",
    "def get_y (a, σ):\n",
    "    \"\"\"Результаты измерений отличаются от истинных значений в силу действия случайной аддитивной помехи \n",
    "    (случайность подчиняется нормальному закону распределения N(0, σ))\"\"\"\n",
    "    y_real=np.array([y(i,a) for i in t])\n",
    "    y_corr=y_real+np.random.normal(0,σ,m)\n",
    "    return y_real, y_corr\n",
    "\n",
    "#todo -выбрать параметр\n",
    "σ=0.5\n",
    "\n",
    "#генерация значений. изначальные и с помехами\n",
    "y_real, y_corr= get_y(a,σ)\n",
    "\n",
    "\n",
    "def get_params (y_corr, t, method=0):\n",
    "    \"\"\"\n",
    "    По сгенерированному набору точек y_corr дайте оценку параметрам a\n",
    "    закона с учетом знания общей формулы тремя различными способами:\n",
    "    •\tmethod=0 -> сумма квадратов невязок будет минимальна.\n",
    "    •\tmethod=1 -> сумма абсолютных значений невязок будет минимальна.\n",
    "    •\tmethod=2 -> максимальное абсолютное значение невязки будет минимально.\n",
    "    \n",
    "    #todo - написать ф-ю\n",
    "    \"\"\"\n",
    "    A = np.vstack([x, np.ones(len(x))]).T\n",
    "    return np.linalg.lstsq()\n",
    "    \n",
    "    \n",
    "    return [0,0,0]"
   ]
  },
  {
   "cell_type": "markdown",
   "metadata": {},
   "source": [
    "## Задание 1 (0.2 балла)\n",
    "1.\tПостройте в одной координатной плоскости графики у(t, a) и  оценочные значения y(t,a*) для всех 3 методов\n",
    "\n",
    "2.\tВычислите как отличается каждый из оценочных параметров от своего истинного значения. Как меняется это отличие при изменении σ?\n",
    "3.\tСкорректируйте y_corr[0]  и y_corr[-1] пусть одно из них будет на 50 больше, а другое на 50 меньше. Постройте новые оценочные значения параметров  и соответствующие графики. Какая из оценок получилась более устойчивой к выбросам?\n",
    "\n",
    "## Задание 2 (0.2 балла)\n",
    "Возьмем случайную матрицу A  200x80 и случайный вектор b из распределения N(0,1). \n",
    "\n",
    "1. Решите переопределенную систему тремя способами, минимизируя l1, l2 и linf нормы вектора b – Ax.\n",
    "2. Постройте распределение ошибок для каждого решения.\n",
    "3. Какими свойствами обладают распределения?"
   ]
  },
  {
   "cell_type": "code",
   "execution_count": 7,
   "metadata": {},
   "outputs": [],
   "source": [
    "sample = np.random.normal(size=(200, 80))\n"
   ]
  },
  {
   "cell_type": "markdown",
   "metadata": {
    "collapsed": true
   },
   "source": [
    "## Бонус +1 Балл\n",
    "Напишите программу которая для обоих методов из задачи 5 будет использовать 2^n-1 итераций (бонус за каждый метод) и напишите обоснование (итого 0.5 балла за каждый метод)"
   ]
  },
  {
   "cell_type": "code",
   "execution_count": null,
   "metadata": {},
   "outputs": [],
   "source": []
  }
 ],
 "metadata": {
  "kernelspec": {
   "display_name": "Python 3",
   "language": "python",
   "name": "python3"
  },
  "language_info": {
   "codemirror_mode": {
    "name": "ipython",
    "version": 3
   },
   "file_extension": ".py",
   "mimetype": "text/x-python",
   "name": "python",
   "nbconvert_exporter": "python",
   "pygments_lexer": "ipython3",
   "version": "3.6.0"
  }
 },
 "nbformat": 4,
 "nbformat_minor": 2
}
