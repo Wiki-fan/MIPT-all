{
 "cells": [
  {
   "cell_type": "markdown",
   "metadata": {},
   "source": [
    "# 0) При реализации алгоритма разрешается использовать только библиотеки из requierments.txt\n",
    "\n",
    "В него входит:\n",
    "1. jupyter - библиотека для показа ноутбуков\n",
    "2. numpy - библиотека для вычислений\n",
    "3. matplotlib - библиотека для визуализации\n",
    "\n",
    "## Установка \n",
    "1. Устанавливаем python3 и virtualenv\n",
    "2. создаем окружение virtualenv --no-site-packages  lin_prog\n",
    "3. активируем окружение source activate lin_prog\n",
    "4. устанавливаем зависимости pip install -r requirements.txt\n",
    "5. запускаем jupyter и начинаем работать jupyter notebook"
   ]
  },
  {
   "cell_type": "markdown",
   "metadata": {},
   "source": [
    "# ============================================================\n",
    "# Задача на Симплекс метод\n",
    "\n",
    "## 1) На вход Вашему функцию должны приходить:\n",
    "\n",
    "0. число переменных = n\n",
    "1. матрица A (n x m) (tsv, вещественные числа)\n",
    "2. вектор  b  ограничений типа неравнство\n",
    "4. вектор c функции полезности для задачи max cx \n",
    "5. алгоритм выбора входящей переменной (правило Бленда, Лексикографический метод)\n",
    "6. (не обязательный параметр) стартовую базисную точку\n",
    "\n",
    "## 2) На выход программа должна выдавать:\n",
    "\n",
    "### Обязательная часть (0.3 баллов):\n",
    "0. Ответ и оптимальную точку при положительных компонентах вектора b\n",
    "1. Количество итераций потребовавшихся для решения задачи\n",
    "2. при n=2 выдавать процесс решения (draw=True)\n",
    "3. Напишите программу которая будет отвечать на вопрос оптимально ли приведенное решение, например\n",
    "\n",
    "\n",
    "### Дополнительная часть  (0.8 балл):\n",
    "0. Максимально использовать матричные вычисления (0.2 балла)\n",
    "1. Работать в случае отрицательных чисел в векторе b (0.2 балла)\n",
    "\n",
    "\n"
   ]
  },
  {
   "cell_type": "code",
   "execution_count": 295,
   "metadata": {
    "scrolled": true
   },
   "outputs": [],
   "source": [
    "import numpy as np\n",
    "# Не печатать в лог сообщения о делении на ноль, ибо так и должно быть\n",
    "np.seterr(divide='ignore', invalid='ignore')\n",
    "import logging as log\n",
    "import sys\n",
    "#log.basicConfig(level=log.DEBUG, format='>%(message)s', stream=sys.stdout)\n",
    "log.basicConfig(level=log.ERROR, format='>%(message)s', stream=sys.stdout)\n",
    "\n",
    "import matplotlib.pyplot as plt\n",
    "import matplotlib.lines as mlines\n",
    "%matplotlib inline\n",
    "\n",
    "# Для тестирования было полезно, не стал удалять\n",
    "from scipy.optimize import linprog\n",
    "\n",
    "# Важно правильно сравнивать числа с плавающей точкой\n",
    "epsilon=0.0000001\n",
    "def float_equal(a, b):\n",
    "    return abs(a-b)<epsilon\n",
    "\n",
    "class eps:\n",
    "    @staticmethod\n",
    "    def lt(a, b):\n",
    "        return a+epsilon<b\n",
    "    \n",
    "    @staticmethod\n",
    "    def gt(a, b):\n",
    "        return a>b+epsilon\n",
    "    \n",
    "    @staticmethod\n",
    "    def le(a, b):\n",
    "        return a<=b+epsilon\n",
    "    \n",
    "    @staticmethod\n",
    "    def ge(a, b):\n",
    "        return a>=b-epsilon\n",
    "    \n",
    "    @staticmethod\n",
    "    def eq(a, b):\n",
    "        return abs(a-b) <= epsilon\n",
    "    \n",
    "    @staticmethod\n",
    "    def neq(a, b):\n",
    "        return abs(a-b) > epsilon"
   ]
  },
  {
   "cell_type": "code",
   "execution_count": 296,
   "metadata": {
    "scrolled": true
   },
   "outputs": [],
   "source": [
    "class SP:\n",
    "    def __init__(self, A, b, c, c_old=None):\n",
    "        self.A = A\n",
    "        b = b.reshape((-1, 1)).astype(np.float64)\n",
    "        self.b = b\n",
    "        self.c = c\n",
    "        \n",
    "        self.n = n = A.shape[0]\n",
    "        self.m = m = A.shape[1]\n",
    "\n",
    "        self.basis = np.array(list(range(0, n)))\n",
    "        self.nonbasis = np.array(list(range(n, n+m)))\n",
    "        \n",
    "        # Сделаем симплекс-таблицу.\n",
    "        self.ST = np.block([[A,  b],\n",
    "                            [-c, 0]]).astype(np.float64)\n",
    "\n",
    "        if c_old is None:\n",
    "            self.c_old = None\n",
    "        else:\n",
    "            self.c_old = c_old\n",
    "    \n",
    "    def from_ST(self, ST, basis, nonbasis):\n",
    "        self.ST = ST\n",
    "    \n",
    "    def get_solution(self):\n",
    "        ST = self.ST\n",
    "        basis = self.basis\n",
    "        nonbasis = self.nonbasis\n",
    "        n = self.n\n",
    "        m = self.m\n",
    "        \n",
    "        x = np.zeros(m)\n",
    "        w = np.zeros(n)\n",
    "        for i in range(0, n):\n",
    "            if 0<=basis[i]<n:\n",
    "                w[basis[i]] = ST[:,-1][i]\n",
    "            if basis[i]>=n:\n",
    "                x[basis[i]-n] = ST[:,-1][i]\n",
    "        log.info('x=%s, w=%s', x, w)\n",
    "        \n",
    "        if (self.A@x > self.b.reshape(1,-1)[0]+epsilon).any() or (x < -epsilon).any():\n",
    "            raise Exception('Solution is infeasible')\n",
    "        return x, w\n",
    "    \n",
    "    def __get_variables(self, method):\n",
    "        ST = self.ST\n",
    "        basis = self.basis\n",
    "        nonbasis = self.nonbasis\n",
    "        n = self.n\n",
    "        m = self.m\n",
    "        \n",
    "        if method=='init_auxilary':\n",
    "            if (ST[:, -1][:-1] > epsilon).all():\n",
    "                raise Exception('Problem is unbounded')\n",
    "            #########i = np.argmin(ST[:, -1][:-1])\n",
    "            i = np.argmin(ST[:, -1][:-1]) # \"наиболее недопустимая\" строчка.\n",
    "            j = m-1 # т. е. всегда добавленная переменная\n",
    "            log.info('j=%s'%j)\n",
    "            log.info('i=%s'%i)\n",
    "            return i, j\n",
    "        if method=='largest_coef':\n",
    "            j = np.argmin(ST[-1][:-1])\n",
    "        elif method=='blend':\n",
    "            #j = np.argmin(np.ma.array(nonbasis, mask=(ST[-1][:-1]>=-epsilon)))\n",
    "            #j = nonbasis[(ST[-1][:-1]<0)][0]\n",
    "            #j = np.where(ST[-1][:-1]<0+epsilon)[0][0]\n",
    "            #ma = np.ma.masked_where(ST[-1, :-1] >= -epsilon, ST[-1, :-1])\n",
    "            ma = np.ma.masked_where(ST[-1, :-1] >= -epsilon, nonbasis)\n",
    "            if ma.count() == 0:\n",
    "                raise Exception(\"Something\")\n",
    "            #j = np.where(ma.mask == False)[0][0]\n",
    "            j = np.argmin(ma)\n",
    "        elif method=='lexical':\n",
    "            j = np.argmin(ST[-1][:-1]) # любой\n",
    "        else:\n",
    "            raise Exception('Unknown method')\n",
    "        \n",
    "        ma = np.ma.masked_where(ST[:-1, j] <= epsilon, ST[:-1, j])\n",
    "        if (ma.count() == 0):\n",
    "            raise Exception('Problem is unbounded')\n",
    "        #mb = np.ma.masked_where(ST[:-1, j] <= epsilon, ST[:-1, -1])\n",
    "        mb = ST[:-1, -1] # Маска в итоге поставится сама\n",
    "        \n",
    "        ratios = abs(mb/ma)\n",
    "        #ratios = np.ma.masked_where(ratios > epsilon, ratios) # NEW TODO\n",
    "        log.info('j=%s'%j)\n",
    "        #ratios = ST[:, -1][:-1]/ST[:, j][:-1]\n",
    "        log.debug('ratios %s'%ratios)\n",
    "        #if (ratios<0).all(): NEW Вроде выполняет те же функции, что вышенаписанная.\n",
    "        #    raise Exception('Problem is unbounded')\n",
    "        i = np.where(ratios == ratios.min())[0][0] #worked\n",
    "        \n",
    "#         ma = np.ma.masked_where(T[:-k, pivcol] <= tol, T[:-k, pivcol], copy=False)\n",
    "#     if ma.count() == 0:\n",
    "#         return False, np.nan\n",
    "#     mb = np.ma.masked_where(T[:-k, pivcol] <= tol, T[:-k, -1], copy=False)\n",
    "#     q = mb / ma\n",
    "# return True, np.ma.where(q == q.min())[0][0]\n",
    "        \n",
    "        #i = np.argmin(np.ma.array(ratios, mask=(ratios<0+epsilon)))\n",
    "        \n",
    "        # Если у нас есть неоднозначность выбора\n",
    "        if np.count_nonzero(float_equal(ratios,  ratios[i]))>1:\n",
    "            print('LLLLLLLLLLLLLLLLLLLLLLLLLL')\n",
    "            if method=='lexical':\n",
    "                # Делим каждую строчку на элемент, стоящий в столбце j\n",
    "                ratios_row = ST[:-1] / ST[:-1, j].reshape(-1,1)\n",
    "                print('ratios_row', ratios_row)\n",
    "                ratios_row = np.hstack([ratios_row, np.arange(0, ratios_row.shape[0]).reshape(-1,1)])\n",
    "                print(ratios_row)\n",
    "                srt = np.lexsort(ratios_row[ratios == ratios.min()][:, ::-1].T)\n",
    "                print(srt)\n",
    "                print(ratios_row[srt[0]][-1])\n",
    "                i = int(ratios_row[srt[0]][-1])\n",
    "            elif method=='blend':\n",
    "                print('min', ratios.min())\n",
    "                #i = np.argmin(np.ma.array(basis, mask=np.logical_not(float_equal(ratios, ratios[i]))))\n",
    "                #i = np.where(ratios == ratios.min())[0][0]\n",
    "                i = np.argmin(np.ma.array(basis, mask=np.logical_not(eps.eq(ratios, ratios[i]))))\n",
    "        log.info('i=%s'%i)\n",
    "        return i, j\n",
    "    \n",
    "    def make_iteration(self, method):\n",
    "        ST = self.ST\n",
    "        basis = self.basis\n",
    "        nonbasis = self.nonbasis\n",
    "        n = self.n\n",
    "        m = self.m\n",
    "        \n",
    "        #Разрешающий столбец\n",
    "        i, j = self.__get_variables(method)\n",
    "\n",
    "        basis[i], nonbasis[j] = nonbasis[j], basis[i]\n",
    "        log.info(\"basis %s, nonbasis %s\"%(basis, nonbasis))\n",
    "        \n",
    "        #Строим новую таблицу\n",
    "        \n",
    "        ST_ = -ST.copy()\n",
    "        if self.c_old is not None:\n",
    "            c_old = self.c_old.copy()\n",
    "        \n",
    "        ST_[i] = np.zeros(ST_.shape[1])\n",
    "        ST_[i][j] = 1\n",
    "        \n",
    "        # S - матрица перехода\n",
    "        S = np.eye(ST_.shape[1])\n",
    "        S[j] = -ST[i]\n",
    "        \n",
    "        ST_ = -(np.linalg.inv(S.T)@ST_.T).T\n",
    "        if self.c_old is not None:\n",
    "            c_old = (np.linalg.inv(S.T)@c_old).T\n",
    "\n",
    "        self.ST = ST_\n",
    "        if self.c_old is not None:\n",
    "            self.c_old = c_old\n",
    "        \n",
    "        log.info(\"%s\"%self)\n",
    "        return self\n",
    "    \n",
    "    def __str__(self):\n",
    "        return \"%s\\nn=%s, m=%s, basis=%s, nonbasis=%s with c_old=%s\"%(\n",
    "            self.ST, self.n, self.m, self.basis, self.nonbasis, self.c_old)\n"
   ]
  },
  {
   "cell_type": "code",
   "execution_count": 297,
   "metadata": {
    "scrolled": false
   },
   "outputs": [],
   "source": [
    "def draw_all(sp, path):\n",
    "    \n",
    "    A = sp.A\n",
    "    b = sp.b\n",
    "    #c = sp.c\n",
    "    \n",
    "    def is_valid_solution(x):\n",
    "        return (A@x.reshape((-1,1))<=b+epsilon).all() and (x>=0-epsilon).all()\n",
    "\n",
    "    # Добавляем прямые ограничений типа >=0 в матрицы.\n",
    "    A_plot = np.vstack([A, np.array([[1,0], [0,1]])])\n",
    "    b_plot = np.vstack([b, [[0],[0]]])\n",
    "\n",
    "    num_iter = len(path)\n",
    "    plt.figure(figsize=(3, 3*(num_iter+1)))\n",
    "    # Рисует ограничения, допустимые угловые точки отмечает чёрными точками, текущую - красной.\n",
    "    for i, x in enumerate(path):\n",
    "        plt.subplot(num_iter, 1, i+1)\n",
    "        a = plt.gca()\n",
    "        #plt.axes().set_aspect('equal')#, 'datalim')\n",
    "        ##a.axis([-1, 17, -1, 17])\n",
    "        a.set_aspect('equal')\n",
    "        a.set_xlabel('X1')\n",
    "        a.set_ylabel('X2')\n",
    "        plt.title('Iteration %d x=(%.2f, %.2f)' % (i+1,x[0],x[1]))\n",
    "\n",
    "        xmax, ymax = 0,0\n",
    "        # Пересечения\n",
    "        for i in range(0, A_plot.shape[0]):\n",
    "            for j in range(0, i):\n",
    "                if i != j:\n",
    "                    a_, b_ = A_plot[i]\n",
    "                    c_ = b_plot[i][0]\n",
    "                    d_, e_ = A_plot[j]\n",
    "                    f_ = b_plot[j][0]\n",
    "                    #print(a_, b_, c_, d_, e_, f_)\n",
    "                    x_ = (b_*f_-c_*e_)/(b_*d_-a_*e_)\n",
    "                    y_ = (c_*d_-a_*f_)/(b_*d_-a_*e_)\n",
    "                    if x_ > xmax and x_ != np.inf:\n",
    "                        xmax = x_\n",
    "                    if y_ > ymax and y_ != np.inf:\n",
    "                        ymax = y_\n",
    "                    #print(x_, y_)\n",
    "                    if is_valid_solution(np.array([x_, y_])):\n",
    "                        plt.scatter([x_], [y_], color='black', zorder=10)\n",
    "        plt.scatter([x[0]], [x[1]], color='red', zorder=11)\n",
    "\n",
    "        #print('xmax ymax', xmax, ymax)\n",
    "        # Ограничения в виде осей (неотрицательность переменных)\n",
    "        plt.plot([0, xmax], [0, 0], color='blue')\n",
    "        plt.plot([0, 0], [ymax, 0], color='blue')\n",
    "        border = 0.5\n",
    "        plt.xlim((-border, xmax+border))\n",
    "        plt.ylim((-border, ymax+border))\n",
    "\n",
    "        # Ограничения\n",
    "        for i in range(0, A_plot.shape[0]):\n",
    "            a_, b_ = A_plot[i]\n",
    "            c_ = b_plot[i][0]\n",
    "            #print(a_, b_, c_)\n",
    "            #print(c_/b_, c_/a_)\n",
    "            #plt.plot([0, c_/a_], [c_/b_, 0], color='blue')\n",
    "\n",
    "            if c_/b_<0:\n",
    "                x1, y1 = c_/a_, 0\n",
    "            else:\n",
    "                x1, y1 = 0, c_/b_\n",
    "            if (c_-a_*xmax)/b_ > ymax:\n",
    "                x2, y2 = (c_-b_*ymax)/a_, ymax\n",
    "            else:\n",
    "                x2, y2 = xmax, (c_-a_*xmax)/b_\n",
    "            if y2 < 0:\n",
    "                x2, y2 = c_/a_, 0\n",
    "            if x2 < 0:\n",
    "                x2, y2 = 0, c_/b_\n",
    "            plt.plot([x1, x2], [y1, y2], color='blue')\n",
    "\n",
    "            if c_/a_<0:\n",
    "                x1, y1 = 0, c_/b_\n",
    "            else:\n",
    "                x1, y1 = c_/a_, 0\n",
    "            if (c_-a_*xmax)/b_ < ymax:\n",
    "                x2, y2 = xmax, (c_-a_*xmax)/b_\n",
    "            else:\n",
    "                x2, y2 = (c_-b_*ymax)/a_, ymax\n",
    "            if y2 < 0:\n",
    "                x2, y2 = c_/a_, 0\n",
    "            if x2 < 0:\n",
    "                x2, y2 = 0, c_/b_\n",
    "            plt.plot([x1, x2], [y1, y2], color='blue', zorder=-1)\n",
    "\n",
    "            # Дорисовываем оси до нашей точки.\n",
    "            #plt.plot([0, c_/a_], [0, 0], color='blue')\n",
    "            #plt.plot([0, 0], [c_/b_, 0], color='blue')\n",
    "\n",
    "\n",
    "    #plt.tight_layout()\n",
    "    plt.show()"
   ]
  },
  {
   "cell_type": "code",
   "execution_count": 298,
   "metadata": {
    "scrolled": true
   },
   "outputs": [],
   "source": [
    "def solve_lin_prog (A, b, c, method='blend', start_point=None, draw=False):\n",
    "    \"\"\"\n",
    "    Здесь должно быть ваше решение. У всех действий должны быть комментарии. \n",
    "    Код должен быть читабельным, хорошо использовать дополнительные функции если это необходимо\n",
    "    \n",
    "    A, b, c - матрица, b - вектор ограничений типа <=, с - функция полезности, задача максимизации\n",
    "    method - 'blend', 'lexical'\n",
    "    start_point - точка\n",
    "    draw -  true/false рисовать ли ответ, только для 2 переменных\n",
    "    \n",
    "    Вывод - вектор на котором достигается максимум, максимальное значение, число итераций\n",
    "    \"\"\"\n",
    "    \n",
    "    if start_point is not None:\n",
    "        basis_places = start_point == 0\n",
    "    \n",
    "    sp = None\n",
    "    \n",
    "    # Если есть отрицательные значения в b, запускаем инициализацию\n",
    "    if (b < 0).any():\n",
    "        log.info('INITIAL PROBLEM:')\n",
    "        log.info(SP(A, b, c))\n",
    "        \n",
    "        log.info(\"             AUXILARY PROBLEM:\")\n",
    "        A_ = np.hstack([A, -np.ones((A.shape[0], 1))])\n",
    "        b_ = b\n",
    "        c_ = np.hstack([np.zeros(A.shape[1]), [-1]])\n",
    "        sp = SP(A_, b_, c_, c_old=np.hstack([c.copy(), [0, 0]]))\n",
    "        log.info(sp)\n",
    "        \n",
    "        log.info(\"First step\")\n",
    "        sp = sp.make_iteration('init_auxilary')\n",
    "        \n",
    "        \n",
    "        iteration_number = 0\n",
    "        #while np.min(sp.ST[-1][:-1]) < 0:\n",
    "        while (sp.ST[-1][:-1] < 0).any():\n",
    "            iteration_number += 1\n",
    "            log.info('          AUXILARY ITERATION #%s'%iteration_number)\n",
    "\n",
    "            sp = sp.make_iteration(method)\n",
    "\n",
    "            x, w = sp.get_solution()\n",
    "        \n",
    "        # Если добавленная переменная ненулевая, задача недопустима\n",
    "        if len(np.argwhere(sp.nonbasis == sp.n+sp.m-1)) == 0:\n",
    "            raise Exception(\"Problem is infeasible\")\n",
    "        i = np.argwhere(sp.nonbasis == sp.n+sp.m-1)[0][0]\n",
    "        sp.ST = np.delete(sp.ST, i, 1)\n",
    "        #print(sp.c_old)\n",
    "        \n",
    "        #sp.c = np.delete(sp.c_old, i)\n",
    "        sp.c = c\n",
    "        sp.A = A\n",
    "        sp.b = b.reshape(-1,1)\n",
    "        sp.ST[-1] = -np.delete(sp.c_old, i)\n",
    "        sp.nonbasis = np.delete(sp.nonbasis, i)\n",
    "        sp.m -= 1\n",
    "        sp.c_old = None\n",
    "        sp.ST[-1][-1] *= -1\n",
    "    else:\n",
    "        sp = SP(A, b, c)\n",
    "    \n",
    "    log.info(\"SOLVING PROBLEM:\")\n",
    "    log.info(sp)\n",
    "    \n",
    "    iteration_number = 0\n",
    "    \n",
    "    \n",
    "    # Начальное решение\n",
    "    x, w = sp.get_solution()\n",
    "    \n",
    "    solutions = [x]\n",
    "    \n",
    "    while (sp.ST[-1][:-1] < 0).any():\n",
    "        iteration_number += 1\n",
    "        log.info('          ITERATION #%s'%iteration_number)\n",
    "        \n",
    "        sp = sp.make_iteration(method)\n",
    "        \n",
    "        x, w = sp.get_solution()\n",
    "        solutions.append(x)\n",
    "    \n",
    "    log.info('FINISHED in %d iterations'%iteration_number)\n",
    "    \n",
    "    log.info('path %s'%solutions)\n",
    "    x, w = sp.get_solution()\n",
    "    \n",
    "    log.info('SOLUTIONS %s'%solutions)\n",
    "    \n",
    "    if draw == True and sp.m != 2:\n",
    "        raise Warning(\"Can't draw with dim != 2\")\n",
    "        \n",
    "    if draw == True:\n",
    "        draw_all(sp, solutions)\n",
    "    \n",
    "    #assert(sp.ST[-1][-1] == sp.c @ x)\n",
    "    return x, sp.c @ x, iteration_number\n",
    "\n",
    "\n",
    "def solve_dual(A, b, c, draw=False):\n",
    "    return solve_lin_prog(-A.T, -c, -b, draw=draw)"
   ]
  },
  {
   "cell_type": "code",
   "execution_count": 299,
   "metadata": {},
   "outputs": [
    {
     "name": "stdout",
     "output_type": "stream",
     "text": [
      "LLLLLLLLLLLLLLLLLLLLLLLLLL\n",
      "min 0.0\n",
      "LLLLLLLLLLLLLLLLLLLLLLLLLL\n",
      "min 0.0\n",
      "LLLLLLLLLLLLLLLLLLLLLLLLLL\n",
      "min 0.0\n",
      "LLLLLLLLLLLLLLLLLLLLLLLLLL\n",
      "min 0.0\n",
      "LLLLLLLLLLLLLLLLLLLLLLLLLL\n",
      "min 1.0\n",
      "LLLLLLLLLLLLLLLLLLLLLLLLLL\n",
      "min 2.0\n",
      "(array([ 1.,  0.,  1.,  0.]), 1.0, 6)\n"
     ]
    }
   ],
   "source": [
    "def callback(xk, **kwargs):\n",
    "    print('X', xk)\n",
    "    print(kwargs)\n",
    "# Пример, который циклится   \n",
    "c = -np.array([-10, 57, 9, 24.])\n",
    "A = np.array([[0.5, -5.5, -2.5, 9],\n",
    "                     [0.5, -1.5, -0.5, 1],\n",
    "                     [1, 0, 0, 0]])\n",
    "b = np.array([0, 0, 1])\n",
    "#print(linprog(-c, A_ub=A, b_ub=b, options=dict(bland=True), callback=callback))\n",
    "\n",
    "ans = solve_lin_prog(A, b, c, method='blend')\n",
    "print(ans)\n",
    "corr_ans = (np.array([ 1.,  0.,  1.,  0.]), 1.0)\n",
    "assert((float_equal(ans[0], corr_ans[0])).all() and float_equal(ans[1], corr_ans[1]).all())"
   ]
  },
  {
   "cell_type": "code",
   "execution_count": 304,
   "metadata": {
    "scrolled": true
   },
   "outputs": [
    {
     "name": "stdout",
     "output_type": "stream",
     "text": [
      "     fun: -0.99999999999999978\n",
      " message: 'Optimization terminated successfully.'\n",
      "     nit: 7\n",
      "   slack: array([ 1.5,  0. ,  0. ])\n",
      "  status: 0\n",
      " success: True\n",
      "       x: array([ 1.,  0.,  1.,  0.])\n",
      "LLLLLLLLLLLLLLLLLLLLLLLLLL\n",
      "min 0.0\n",
      "LLLLLLLLLLLLLLLLLLLLLLLLLL\n",
      "min 0.0\n",
      "LLLLLLLLLLLLLLLLLLLLLLLLLL\n",
      "min 0.0\n",
      "LLLLLLLLLLLLLLLLLLLLLLLLLL\n",
      "min 0.0\n",
      "LLLLLLLLLLLLLLLLLLLLLLLLLL\n",
      "min 1.0\n",
      "LLLLLLLLLLLLLLLLLLLLLLLLLL\n",
      "min 1.5\n",
      "(array([ 1.,  0.,  1.,  0.]), 1.0, 6)\n"
     ]
    }
   ],
   "source": [
    "# Пример, который циклится\n",
    "A=np.array([[0.5,-3.5,-2, 4],[0.5, -1, -0.5, 0.5], [1, 0, 0, 0]])\n",
    "b=np.array([0,0,1])\n",
    "c=np.array([1, -2, 0, -2])\n",
    "print(linprog(-c, A_ub=A, b_ub=b, options=dict(bland=True, tol=1e-8, maxiter=10 ** 6)))\n",
    "ans = solve_lin_prog(A, b, c, method='blend')\n",
    "corr_ans = (np.array([ 1.,  0.,  1.,  0.]), 1.0)\n",
    "print(ans)\n"
   ]
  },
  {
   "cell_type": "code",
   "execution_count": 301,
   "metadata": {},
   "outputs": [],
   "source": [
    "#method = 'largest_coef'\n",
    "method = 'blend'"
   ]
  },
  {
   "cell_type": "code",
   "execution_count": 287,
   "metadata": {},
   "outputs": [
    {
     "data": {
      "image/png": "[encoded data removed]",
      "text/plain": [
       "<matplotlib.figure.Figure at 0x7fbe5e7780b8>"
      ]
     },
     "metadata": {},
     "output_type": "display_data"
    },
    {
     "name": "stdout",
     "output_type": "stream",
     "text": [
      "(array([ 4.,  0.]), 20.0, 1)\n"
     ]
    }
   ],
   "source": [
    "# Пример ненулевой начальной точки\n",
    "A=np.array([[1,2],[2,0.5]])\n",
    "b=np.array([5,8])\n",
    "c=np.array([5,1])\n",
    "ans = solve_lin_prog(A, b, c, draw=True, method='largest_coef', start_point=np.array([0, 5]))\n",
    "corr_ans = (np.array([ 4.,  0.]), 20.0)\n",
    "print(ans)"
   ]
  },
  {
   "cell_type": "code",
   "execution_count": 288,
   "metadata": {
    "scrolled": true
   },
   "outputs": [
    {
     "data": {
      "image/png": "[encoded data removed]",
      "text/plain": [
       "<matplotlib.figure.Figure at 0x7fbe5dfda3c8>"
      ]
     },
     "metadata": {},
     "output_type": "display_data"
    },
    {
     "name": "stdout",
     "output_type": "stream",
     "text": [
      "(array([ 1.33333333,  0.33333333]), -3.0000000000000004, 0)\n"
     ]
    }
   ],
   "source": [
    "# Пример инициализации\n",
    "A=np.array([[-1,1],[-1, -2], [0, 1]])\n",
    "b=np.array([-1, -2, 1])\n",
    "c=np.array([-2, -1])\n",
    "ans = solve_lin_prog(A, b, c, method='largest_coef', draw=True)\n",
    "corr_ans = (np.array([ 1.33333333,  0.33333333]), -3)\n",
    "print(ans)\n",
    "assert((float_equal(ans[0], corr_ans[0])).all() and float_equal(ans[1], corr_ans[1]).all())"
   ]
  },
  {
   "cell_type": "code",
   "execution_count": 289,
   "metadata": {
    "scrolled": true
   },
   "outputs": [
    {
     "data": {
      "image/png": "[encoded data removed]",
      "text/plain": [
       "<matplotlib.figure.Figure at 0x7fbe5e00b860>"
      ]
     },
     "metadata": {},
     "output_type": "display_data"
    },
    {
     "name": "stdout",
     "output_type": "stream",
     "text": [
      "(array([ 1.57142857,  0.85714286]), -1.2857142857142856, 1)\n"
     ]
    }
   ],
   "source": [
    "# Пример инициализации\n",
    "A = np.array([[-4,-2],[-2,0], [3,2],[-1,3], [0,-3]])\n",
    "b = np.array([-8,-2,10,1,-2])\n",
    "c = np.array([-3,4])\n",
    "ans = solve_lin_prog(A, b, c, method=method, draw=True)\n",
    "print(ans)\n",
    "corr_ans = (np.array([ 1.57142857,  0.85714286]), -1.2857142857142856)\n",
    "assert((float_equal(ans[0], corr_ans[0])).all() and float_equal(ans[1], corr_ans[1]).all())"
   ]
  },
  {
   "cell_type": "code",
   "execution_count": 290,
   "metadata": {
    "scrolled": true
   },
   "outputs": [
    {
     "name": "stdout",
     "output_type": "stream",
     "text": [
      "Problem is unbounded\n"
     ]
    }
   ],
   "source": [
    "# Пример неограниченной задачи\n",
    "A=np.array([[-1,-1],[-2, -1]])\n",
    "b=np.array([1, 2])\n",
    "c=np.array([2, 1])\n",
    "try:\n",
    "    ans = solve_lin_prog(A, b, c, method=method, draw=True)\n",
    "except Exception as e:\n",
    "    print(e)\n"
   ]
  },
  {
   "cell_type": "code",
   "execution_count": 291,
   "metadata": {
    "scrolled": false
   },
   "outputs": [
    {
     "name": "stdout",
     "output_type": "stream",
     "text": [
      "Problem is infeasible\n"
     ]
    }
   ],
   "source": [
    "# Пример недопустимой задачи\n",
    "A=np.array([[1,1],[-1, -1]])\n",
    "b=np.array([1, -2])\n",
    "c=np.array([-2, -1])\n",
    "try:\n",
    "    ans = solve_lin_prog(A, b, c, method=method, draw=True)\n",
    "except Exception as e:\n",
    "    print(e)"
   ]
  },
  {
   "cell_type": "code",
   "execution_count": 292,
   "metadata": {
    "scrolled": true
   },
   "outputs": [
    {
     "data": {
      "image/png": "[encoded data removed]",
      "text/plain": [
       "<matplotlib.figure.Figure at 0x7fbe5deb80f0>"
      ]
     },
     "metadata": {},
     "output_type": "display_data"
    },
    {
     "name": "stdout",
     "output_type": "stream",
     "text": [
      "(array([ 4.,  0.]), 20.0, 1)\n"
     ]
    },
    {
     "data": {
      "image/png": "[encoded data removed]",
      "text/plain": [
       "<matplotlib.figure.Figure at 0x7fbe5e6c49b0>"
      ]
     },
     "metadata": {},
     "output_type": "display_data"
    },
    {
     "name": "stdout",
     "output_type": "stream",
     "text": [
      "(array([ 0. ,  2.5]), -20.0, 1)\n"
     ]
    },
    {
     "data": {
      "image/png": "[encoded data removed]",
      "text/plain": [
       "<matplotlib.figure.Figure at 0x7fbe5e247a90>"
      ]
     },
     "metadata": {},
     "output_type": "display_data"
    },
    {
     "name": "stdout",
     "output_type": "stream",
     "text": [
      "(array([ 4.,  5.]), 31.0, 3)\n",
      "Something\n",
      "(array([ 2.,  0.,  1.]), 13.0, 2)\n",
      "(array([ 1.,  0.,  1.]), -13.0, 1)\n",
      "(array([  0.,  15.,   0.,  25.]), 145.0, 5)\n",
      "(array([ 3.5,  0. ,  0.5]), -145.0, 1)\n"
     ]
    }
   ],
   "source": [
    "A=np.array([[1,2],[2,0.5]])\n",
    "b=np.array([5,8])\n",
    "c=np.array([5,1])\n",
    "ans = solve_lin_prog(A, b, c, draw=True, method=method)\n",
    "print(ans)\n",
    "corr_ans = (np.array([ 4.,  0.]), 20.0)\n",
    "assert((ans[0] == corr_ans[0]).all() and ans[1] == corr_ans[1])\n",
    "try:\n",
    "    ans = solve_dual(A, b, c, draw=True)\n",
    "    print(ans)\n",
    "    corr_ans = (np.array([ 0. ,  2.5]), -20.0, 0)\n",
    "    assert((ans[0] == corr_ans[0]).all() and ans[1] == corr_ans[1])\n",
    "except Exception as e:\n",
    "    print(e)\n",
    "\n",
    "A=np.array([[1,-1],[2,-1], [0, 1]])\n",
    "b=np.array([1,3,5])\n",
    "c=np.array([4,3])\n",
    "ans = solve_lin_prog(A, b, c, draw=True, method=method)\n",
    "print(ans)\n",
    "corr_ans = (np.array([ 4.,  5.]), 31.0)\n",
    "assert((ans[0] == corr_ans[0]).all() and ans[1] == corr_ans[1])\n",
    "try:\n",
    "    ans = solve_dual(A, b, c, draw=True)\n",
    "    print(ans)\n",
    "    #corr_ans = (array([ 0. ,  2.5]), -20.0, 0)\n",
    "    #assert((ans[0] == corr_ans[0]).all() and ans[1] == corr_ans[1])\n",
    "except Exception as e:\n",
    "    print(e)\n",
    "#print(is_optimal(A,b,c,x))\n",
    "\n",
    "A=np.array([[2,3,1],[4,1,2],[3,4,2]])\n",
    "b=np.array([5, 11, 8])\n",
    "c=np.array([5, 4, 3])\n",
    "ans = solve_lin_prog(A, b, c, method=method)\n",
    "print(ans)\n",
    "corr_ans = (np.array([ 2.,  0.,  1.]), 13.0)\n",
    "assert((ans[0] == corr_ans[0]).all() and ans[1] == corr_ans[1])\n",
    "try:\n",
    "    ans = solve_dual(A, b, c, draw=False)\n",
    "    print(ans)\n",
    "    #corr_ans = (array([ 0. ,  2.5]), -20.0, 0)\n",
    "    #assert((ans[0] == corr_ans[0]).all() and ans[1] == corr_ans[1])\n",
    "except Exception as e:\n",
    "    print(e)\n",
    "\n",
    "A=np.array([[1,1,1,1],[2,1,-1,-1],[0,-1,0,1]])\n",
    "b=np.array([40, 10, 10])\n",
    "c=np.array([0.5, 3,1,4])\n",
    "ans = solve_lin_prog(A, b, c, method=method)\n",
    "print(ans)\n",
    "corr_ans = (np.array([  0.,  15.,   0.,  25.]), 145.0)\n",
    "assert((ans[0] == corr_ans[0]).all() and ans[1] == corr_ans[1])\n",
    "try:\n",
    "    ans = solve_dual(A, b, c, draw=False)\n",
    "    print(ans)\n",
    "    corr_ans = (np.array([ 3.5,  0. ,  0.5]), -145.0, 1)\n",
    "    assert((ans[0] == corr_ans[0]).all() and ans[1] == corr_ans[1])\n",
    "except Exception as e:\n",
    "    print(e)"
   ]
  },
  {
   "cell_type": "code",
   "execution_count": 293,
   "metadata": {
    "scrolled": true
   },
   "outputs": [
    {
     "name": "stdout",
     "output_type": "stream",
     "text": [
      "Точка:  [   0.    0.    0.  625.]\n"
     ]
    },
    {
     "ename": "NameError",
     "evalue": "name 'best' is not defined",
     "output_type": "error",
     "traceback": [
      "\u001b[0;31m---------------------------------------------------------------------------\u001b[0m",
      "\u001b[0;31mNameError\u001b[0m                                 Traceback (most recent call last)",
      "\u001b[0;32m<ipython-input-293-10d5ac01811d>\u001b[0m in \u001b[0;36m<module>\u001b[0;34m()\u001b[0m\n\u001b[1;32m      1\u001b[0m \u001b[0mprint\u001b[0m \u001b[0;34m(\u001b[0m\u001b[0;34mu'Точка: '\u001b[0m\u001b[0;34m,\u001b[0m \u001b[0mx\u001b[0m\u001b[0;34m)\u001b[0m\u001b[0;34m\u001b[0m\u001b[0m\n\u001b[0;32m----> 2\u001b[0;31m \u001b[0mprint\u001b[0m \u001b[0;34m(\u001b[0m\u001b[0;34mu'Ответ: '\u001b[0m\u001b[0;34m,\u001b[0m \u001b[0mbest\u001b[0m\u001b[0;34m)\u001b[0m\u001b[0;34m\u001b[0m\u001b[0m\n\u001b[0m\u001b[1;32m      3\u001b[0m \u001b[0mprint\u001b[0m \u001b[0;34m(\u001b[0m\u001b[0;34mu'Число итераций: '\u001b[0m\u001b[0;34m,\u001b[0m \u001b[0mn_iter\u001b[0m\u001b[0;34m)\u001b[0m\u001b[0;34m\u001b[0m\u001b[0m\n",
      "\u001b[0;31mNameError\u001b[0m: name 'best' is not defined"
     ]
    }
   ],
   "source": [
    "print (u'Точка: ', x)\n",
    "print (u'Ответ: ', best)\n",
    "print (u'Число итераций: ', n_iter)"
   ]
  },
  {
   "cell_type": "code",
   "execution_count": 231,
   "metadata": {
    "scrolled": true
   },
   "outputs": [],
   "source": [
    "def is_optimal (A,b,c, x):\n",
    "    \"\"\"\n",
    "    Здесь должна быть реализована проверка оптимальности точки. \n",
    "    Алгоритм должен работать для фиксированных n,m за константное время\n",
    "    \"\"\"\n",
    "    # Если точка недопустима, она не оптимальна\n",
    "    if (A@x>b).any() or (x < 0).any():\n",
    "        return False\n",
    "    \n",
    "    # Берём двойственную задачу\n",
    "    A_ = -A.T\n",
    "    c_ = -b\n",
    "    b_ = -c\n",
    "    log.debug(A_, b_, c_)\n",
    "    \n",
    "    # Теорема о комплементарной фиктивности: \n",
    "    # если неравенства обращаются в равенства, то соответствующие фиктивные переменные не 0,\n",
    "    # соответствующие переменные двойственной задачи не 0\n",
    "    not_zeros_in_primal = (x != 0)\n",
    "    not_zeros_in_dual = (A@x == b)\n",
    "    log.debug('mask %s'%not_zeros_in_primal, not_zeros_in_dual)\n",
    "    log.debug('A_cut %s'%A_[:, not_zeros_in_dual][not_zeros_in_primal])\n",
    "    log.debug('b_cut %s'%b_[not_zeros_in_primal])\n",
    "    x_nonzero = (np.linalg.inv(np.matrix(A_[:, not_zeros_in_dual][not_zeros_in_primal]))@b_[not_zeros_in_primal]).A1\n",
    "    log.info(\"x_nonzero %s\"%x_nonzero)\n",
    "    \n",
    "    x_ = np.zeros(A_.shape[1])\n",
    "    x_[not_zeros_in_dual] = x_nonzero\n",
    "    log.info('x %s'%x_)\n",
    "    # Если для двойственной задачи её точка недопустима, то для прямой точка была не оптимальной.\n",
    "    if (A_@x_ > b_+epsilon).any() or (x_ < -epsilon).any():\n",
    "        return False\n",
    "    \n",
    "    return True"
   ]
  },
  {
   "cell_type": "code",
   "execution_count": 232,
   "metadata": {},
   "outputs": [
    {
     "data": {
      "image/png": "[encoded data removed]",
      "text/plain": [
       "<matplotlib.figure.Figure at 0x7fbe5e507eb8>"
      ]
     },
     "metadata": {},
     "output_type": "display_data"
    },
    {
     "name": "stdout",
     "output_type": "stream",
     "text": [
      "(array([ 4.,  0.]), 20.0, 1)\n",
      "True\n",
      "False\n",
      "False\n"
     ]
    }
   ],
   "source": [
    "A=np.array([[1,2],[2,0.5]])\n",
    "b=np.array([5,8])\n",
    "c=np.array([5,1])\n",
    "print(solve_lin_prog(A, b, c, draw=True))\n",
    "x=np.array([4,0])\n",
    "print(is_optimal(A,b,c,x))\n",
    "x=np.array([0,2.5])\n",
    "print(is_optimal(A,b,c,x))\n",
    "x=np.array([0,0])\n",
    "print(is_optimal(A,b,c,x))"
   ]
  },
  {
   "cell_type": "code",
   "execution_count": 233,
   "metadata": {
    "scrolled": false
   },
   "outputs": [
    {
     "data": {
      "image/png": "[encoded data removed]",
      "text/plain": [
       "<matplotlib.figure.Figure at 0x7fbe5e561518>"
      ]
     },
     "metadata": {},
     "output_type": "display_data"
    },
    {
     "name": "stdout",
     "output_type": "stream",
     "text": [
      "True\n",
      "False\n",
      "False\n",
      "False\n",
      "False\n"
     ]
    }
   ],
   "source": [
    "c = np.array([1, -1])\n",
    "A = np.array([[-2, 1],\n",
    "              [1, -2],\n",
    "              [1, 1]])\n",
    "b = np.array([2, 2, 5])\n",
    "#x = np.array([1,4])\n",
    "solve_lin_prog(A, b, c, draw=True)\n",
    "x = np.array([4,1])\n",
    "print(is_optimal(A,b,c,x))\n",
    "x = np.array([1,4])\n",
    "print(is_optimal(A,b,c,x))\n",
    "x = np.array([0,2])\n",
    "print(is_optimal(A,b,c,x))\n",
    "x = np.array([2,0])\n",
    "print(is_optimal(A,b,c,x))\n",
    "x = np.array([0,0])\n",
    "print(is_optimal(A,b,c,x))"
   ]
  },
  {
   "cell_type": "markdown",
   "metadata": {},
   "source": [
    "# ==========================================================\n",
    "# Задача на МНК (0.4 балла)"
   ]
  },
  {
   "cell_type": "markdown",
   "metadata": {},
   "source": [
    "* Для `method=0` решается обычным образом: $x = (A^TA)^{-1}A^Tb$ (было на лекции, нет смысла объяснять).\n",
    "Здесь $A = \n",
    "\\begin{pmatrix}\n",
    "\\dots\\\\\n",
    "\\sin t_i & t_i & 1\\\\\n",
    "\\dots \n",
    "\\end{pmatrix}$\n",
    " \n",
    "Для всех $i$ записывается $(a_2\\sin t_i, a_1 t_i, a_0)$ как $A \\cdot \\begin{pmatrix}a_2\\\\a_1\\\\a_0\\end{pmatrix}$\n",
    "\n",
    "* Для `method=1` сведём к задаче линейного программирования:\n",
    "$\\sum_i |a_2\\sin t_i + a_1 t_i + a_0 - y_i^{corr}| \\rightarrow \\min $\n",
    "\n",
    "$\\Leftrightarrow\n",
    "\\begin{cases}\n",
    "    |a_2\\sin t_i + a_1 t_i + a_0 - y_i^{corr}| \\le y_i^{err} \\forall i\\\\\n",
    "    \\sum y_i^{err} \\rightarrow \\min\n",
    " \\end{cases}$, где $y_i^{err}$ -- число, обозначающее ошибку по данной координате\n",
    " \n",
    "$\\Leftrightarrow \n",
    " \\begin{cases}\n",
    "    a_2\\sin t_i + a_1 t_i + a_0 - y_i^{corr} \\le y_i^{err} \\forall i\\\\\n",
    "    a_2\\sin t_i + a_1 t_i + a_0 - y_i^{corr} \\ge -y_i^{err} \\forall i\\\\\n",
    "    \\sum y_i^{err} \\rightarrow \\min\n",
    " \\end{cases}$\n",
    "\n",
    "Тогда задача сводится к\n",
    "$c^Tx \\rightarrow \\min\\\\\n",
    "\\begin{pmatrix}\n",
    "-E & A\\\\\n",
    "-E & -A\n",
    "\\end{pmatrix} x \\le \\begin{pmatrix}y^{corr}\\\\-y^{corr} \\end{pmatrix}$\n",
    "\n",
    "где $x = (y^{err}_1,\\dots,y^{err}_n,a_2,a_1,a_0), c = (1, \\dots, 1, 0, 0, 0)$.\n",
    "\n",
    "Наша реализация симплекс-метода максимизирует, поэтому домножим $c$ на $-1$.\n",
    "\n",
    "* Для `method=2`:\n",
    "$\\max_i |a_2\\sin t_i + a_1 t_i + a_0 - y_i^{corr}| \\rightarrow \\min $\n",
    "$\\Leftrightarrow \n",
    " \\begin{cases}\n",
    "    a_2\\sin t_i + a_1 t_i + a_0 - y_i^{corr} \\le y^{err} \\forall i\\\\\n",
    "    a_2\\sin t_i + a_1 t_i + a_0 - y_i^{corr} \\ge -y^{err} \\forall i\\\\\n",
    "    y^{err} \\rightarrow \\min\n",
    " \\end{cases}$\n",
    " \n",
    "$\\Leftrightarrow$ (для такой же A)\n",
    "\n",
    "$c^Tx \\rightarrow \\min\\\\\n",
    "\\begin{pmatrix}\n",
    "\\begin{pmatrix}-1\\\\ \\vdots \\\\ -1 \\end{pmatrix} & A\\\\\n",
    "\\begin{pmatrix}-1\\\\ \\vdots \\\\ -1 \\end{pmatrix} & -A\n",
    "\\end{pmatrix} x \\le \\begin{pmatrix}y^{corr}\\\\-y^{corr} \\end{pmatrix}$\n",
    "\n",
    "где $x = (y^{err},a_2,a_1,a_0), c = (1, 0, 0, 0)$"
   ]
  },
  {
   "cell_type": "code",
   "execution_count": 234,
   "metadata": {
    "scrolled": true
   },
   "outputs": [],
   "source": [
    "from math import sin\n",
    "import numpy as np\n",
    "\n",
    "\"\"\"Пусть физический закон описывается зависимостью \n",
    "некоторого измеряемого значения y(x, a) \n",
    "от времени и координаты x при параметрах a:\"\"\"\n",
    "def y(t,a): \n",
    "    return a[2]*sin(t)+a[1]*t +a[0]\n",
    "\n",
    "def y_vector(t, a):\n",
    "    return [y(t_, a) for t_ in t]\n",
    "\n",
    "\"\"\"\n",
    "Дан набор координат t размера m, значения распределены равномерно). Пусть m = 200.\n",
    "\"\"\"\n",
    "m = 50\n",
    "t=[i*10.0/m for i in range(m)]\n",
    "\n",
    "\n",
    "\"\"\"Для каждого момента времени t сгенерируйте соответствующее \n",
    "значение y(t,a) при некоторых параметрах  a_0, a_1, a_2. Для примера: \"\"\"\n",
    "a=[10,100,1000]\n",
    "\n",
    "def get_y (a, σ):\n",
    "    \"\"\"Результаты измерений отличаются от истинных значений в силу действия случайной аддитивной помехи \n",
    "    (случайность подчиняется нормальному закону распределения N(0, σ))\"\"\"\n",
    "    y_real=np.array([y(i,a) for i in t])\n",
    "    y_corr=y_real+np.random.normal(0,σ,m)\n",
    "    return y_real, y_corr\n",
    "\n",
    "#todo -выбрать параметр\n",
    "#σ=0.5\n",
    "σ=200\n",
    "\n",
    "# генерация значений. изначальные и с помехами\n",
    "y_real, y_corr= get_y(a,σ)\n",
    "\n",
    "def solve_overdefined_system(A, b, method=0):\n",
    "    A = np.matrix(A)\n",
    "    b = b\n",
    "    if method == 0:\n",
    "        return ((A.T@A).I @ A.T @ b).A1\n",
    "    elif method == 1:\n",
    "        E = np.eye(A.shape[0])\n",
    "        A_ = np.bmat([[-E, A],\n",
    "                      [-E, -A]]).A\n",
    "        b_ = np.hstack([b, -b])\n",
    "        c_ = -np.hstack([np.ones(A.shape[0]), np.zeros(A.shape[1])]) # Точно с минусом?\n",
    "        #print(A.shape, A_.shape, b_.shape, c_.shape)\n",
    "        #x, _, _ = solve_lin_prog(A_, b_, c_, method='largest_coef')\n",
    "        #return x[-A.shape[1]:]\n",
    "        x = linprog(-c_, A_ub=A_, b_ub=b_, options=dict(bland=True, tol=1e-8, maxiter=10 ** 6))\n",
    "        return x.x[-A.shape[1]:]\n",
    "    elif method == 2:\n",
    "        ones = np.ones(A.shape[0]).reshape(-1,1)\n",
    "        A_ = np.bmat([[-ones, A],\n",
    "                      [-ones, -A]]).A\n",
    "        b_ = np.hstack([b, -b])\n",
    "        c_ = -np.hstack([[1], np.zeros(A.shape[1])])\n",
    "        #print(A.shape, A_.shape, b_.shape, c_.shape)\n",
    "        \n",
    "        #x, _, _ = solve_lin_prog(A_, b_, c_)\n",
    "        #return x[-A.shape[1]:]\n",
    "        x = linprog(-c_, A_ub=A_, b_ub=b_, options=dict(bland=True, tol=1e-8, maxiter=10 ** 6))\n",
    "        return x.x[-A.shape[1]:]\n",
    "        \n",
    "\n",
    "# Я решил вынести функцию наружу для большей универсальности.\n",
    "def get_params (y_corr, t, func, method=0):\n",
    "    \"\"\"\n",
    "    По сгенерированному набору точек y_corr дайте оценку параметрам a\n",
    "    закона с учетом знания общей формулы тремя различными способами:\n",
    "    •\tmethod=0 -> сумма квадратов невязок будет минимальна.\n",
    "    •\tmethod=1 -> сумма абсолютных значений невязок будет минимальна.\n",
    "    •\tmethod=2 -> максимальное абсолютное значение невязки будет минимально.\n",
    "    \n",
    "    #todo - написать ф-ю\n",
    "    \"\"\"\n",
    "    A = np.matrix([func(t_) for t_ in t])\n",
    "    return solve_overdefined_system(A, y_corr, method=method)\n"
   ]
  },
  {
   "cell_type": "markdown",
   "metadata": {},
   "source": [
    "## Задание 1 (0.2 балла)\n",
    "1.\tПостройте в одной координатной плоскости графики у(t, a) и  оценочные значения y(t,a*) для всех 3 методов\n",
    "\n",
    "2.\tВычислите как отличается каждый из оценочных параметров от своего истинного значения. Как меняется это отличие при изменении σ?\n",
    "3.\tСкорректируйте y_corr[0]  и y_corr[-1] пусть одно из них будет на 50 больше, а другое на 50 меньше. Постройте новые оценочные значения параметров  и соответствующие графики. Какая из оценок получилась более устойчивой к выбросам?"
   ]
  },
  {
   "cell_type": "code",
   "execution_count": 235,
   "metadata": {
    "scrolled": true
   },
   "outputs": [],
   "source": [
    "def analyze_approximation(t, y_corr):\n",
    "    plt.figure(figsize=(10, 5))\n",
    "    plt.plot(t, y_vector(t, a), color='black')\n",
    "    plt.scatter(t, y_corr, color='gray', alpha=0.5)\n",
    "    \n",
    "    a_est = get_params(y_corr, t, lambda t_:[1, t_, np.sin(t_)], method=0)\n",
    "    print('For method=0', a_est)\n",
    "    plt.plot(t, y_vector(t, a_est), color='r', label='For method=0')\n",
    "    \n",
    "    a_est = get_params(y_corr, t, lambda t_:[1, t_, np.sin(t_)], method=2)\n",
    "    print('For method=2', a_est)\n",
    "    plt.plot(t, y_vector(t, a_est), color='b', label='For method=2')\n",
    "    \n",
    "    a_est = get_params(y_corr, t, lambda t_:[1, t_, np.sin(t_)], method=1)\n",
    "    print('For method=1', a_est)\n",
    "    plt.plot(t, y_vector(t, a_est), color='g', label='For method=1')\n",
    "    \n",
    "    plt.legend()\n",
    "    plt.ylim(-2000, 2000)\n",
    "    plt.show()"
   ]
  },
  {
   "cell_type": "code",
   "execution_count": 236,
   "metadata": {
    "scrolled": false
   },
   "outputs": [
    {
     "name": "stdout",
     "output_type": "stream",
     "text": [
      "For method=0 [   25.85236415    93.58749894  1006.20604545]\n",
      "For method=1 [    0.            90.57440867  1027.40672257]\n",
      "For method=2 [ 227.20136091   58.66992841  926.81875781]\n"
     ]
    },
    {
     "data": {
      "image/png": "[encoded data removed]",
      "text/plain": [
       "<matplotlib.figure.Figure at 0x7fbe5e5199e8>"
      ]
     },
     "metadata": {},
     "output_type": "display_data"
    }
   ],
   "source": [
    "analyze_approximation(t, y_corr)"
   ]
  },
  {
   "cell_type": "code",
   "execution_count": 237,
   "metadata": {
    "scrolled": false
   },
   "outputs": [
    {
     "name": "stdout",
     "output_type": "stream",
     "text": [
      "For method=0 [ 1149.95587805  -140.43193305  1125.90737684]\n",
      "For method=1 [   76.62327868    77.64583853  1036.2179452 ]\n",
      "For method=2 [ 1567.51140161     0.          7689.06903297]\n"
     ]
    },
    {
     "data": {
      "image/png": "[encoded data removed]",
      "text/plain": [
       "<matplotlib.figure.Figure at 0x7fbe5e14e400>"
      ]
     },
     "metadata": {},
     "output_type": "display_data"
    }
   ],
   "source": [
    "y_corr_with_outlier = y_corr.copy()\n",
    "outlier = 10000\n",
    "y_corr_with_outlier[0] += outlier\n",
    "y_corr_with_outlier[-1] -= outlier\n",
    "\n",
    "analyze_approximation(t, y_corr_with_outlier)"
   ]
  },
  {
   "cell_type": "markdown",
   "metadata": {},
   "source": [
    "Хуже всего аппроксимирует method=2, он же совсем неустойчив к выбросам.\n",
    "method=1 аппроксимирует слегка лучше МНК, но более устойчив к выбросам, чем method=0\n",
    "method=0 — обычный МНК — довольно хорошо аппроксимирует и довольно устойчив к выбросам. К тому же, он не требует для своей работы симплекс-метода и поэтому работает быстрее. Кажется, что лучше использовать для практических нужд именно его и минимизировать именно в смысле наименьших квадратов, когда это возможно."
   ]
  },
  {
   "cell_type": "markdown",
   "metadata": {},
   "source": [
    "## Задание 2 (0.2 балла)\n",
    "Возьмем случайную матрицу A  200x80 и случайный вектор b из распределения N(0,1). \n",
    "\n",
    "1. Решите переопределенную систему тремя способами, минимизируя l1, l2 и linf нормы вектора b – Ax.\n",
    "2. Постройте распределение ошибок для каждого решения.\n",
    "3. Какими свойствами обладают распределения?"
   ]
  },
  {
   "cell_type": "code",
   "execution_count": 238,
   "metadata": {
    "scrolled": true
   },
   "outputs": [],
   "source": [
    "A = np.random.normal(size=(200, 80))\n",
    "b = np.random.normal(size=(200))\n",
    "\n",
    "x0 = solve_overdefined_system(A, b, method=0)\n",
    "x2 = solve_overdefined_system(A, b, method=2)\n",
    "x1 = solve_overdefined_system(A, b, method=1)"
   ]
  },
  {
   "cell_type": "code",
   "execution_count": 239,
   "metadata": {},
   "outputs": [
    {
     "data": {
      "image/png": "[encoded data removed]",
      "text/plain": [
       "<matplotlib.figure.Figure at 0x7fbe5e4ccdd8>"
      ]
     },
     "metadata": {},
     "output_type": "display_data"
    },
    {
     "data": {
      "image/png": "[encoded data removed]",
      "text/plain": [
       "<matplotlib.figure.Figure at 0x7fbe5e63bac8>"
      ]
     },
     "metadata": {},
     "output_type": "display_data"
    },
    {
     "data": {
      "image/png": "[encoded data removed]",
      "text/plain": [
       "<matplotlib.figure.Figure at 0x7fbe5dfaea90>"
      ]
     },
     "metadata": {},
     "output_type": "display_data"
    },
    {
     "data": {
      "image/png": "[encoded data removed]",
      "text/plain": [
       "<matplotlib.figure.Figure at 0x7fbe5df7a9b0>"
      ]
     },
     "metadata": {},
     "output_type": "display_data"
    }
   ],
   "source": [
    "def ecdf(x):\n",
    "    xs = np.sort(x)\n",
    "    ys = np.arange(1, len(xs)+1)/float(len(xs))\n",
    "    return xs, ys\n",
    "\n",
    "plt.figure()\n",
    "plt.plot(*ecdf(b-A@x0), color='r', label='For method=0')\n",
    "plt.plot(*ecdf(b-A@x1), color='g', label='For method=1')\n",
    "plt.plot(*ecdf(b-A@x2), color='b', label='For method=2')\n",
    "plt.show()\n",
    "\n",
    "plt.figure()\n",
    "plt.hist(b-A@x0)\n",
    "plt.show()\n",
    "plt.hist(b-A@x1)\n",
    "plt.show()\n",
    "plt.hist(b-A@x2)\n",
    "\n",
    "plt.show()"
   ]
  },
  {
   "cell_type": "markdown",
   "metadata": {
    "collapsed": true
   },
   "source": [
    "## Бонус +1 Балл\n",
    "Напишите программу которая для обоих методов из задачи 5 будет использовать 2^n-1 итераций (бонус за каждый метод) и напишите обоснование (итого 0.5 балла за каждый метод)"
   ]
  },
  {
   "cell_type": "markdown",
   "metadata": {},
   "source": [
    "Лексикографический метод влияет только на выбор выходящей переменной. Выбор входящей же может осуществляться любым методом, в том числе методом наибольшего коэффициента. Для него известен простой пример, для которого время работы $2^n-1$ — деформированный гиперкуб Кли-Минти. Там будут обязательно обойдены все вершины.\n",
    "\n",
    "Он строится так:\n"
   ]
  },
  {
   "cell_type": "code",
   "execution_count": 278,
   "metadata": {
    "scrolled": true
   },
   "outputs": [],
   "source": [
    "def generate_killer_sequence(n, method='blend'):\n",
    "    if method=='lexical':\n",
    "        c = np.array([10**i for i in range(n, 0, -1)])\n",
    "        b = np.array([100**i for i in range(0, n)])\n",
    "        A = np.eye(n)\n",
    "        for i in range(0, n):\n",
    "            for j in range(0, i):\n",
    "                A[i, j] = 2*10**(i-j)\n",
    "        return A, b, c\n",
    "    elif method=='lexical2':\n",
    "        a = 5 # >= 3\n",
    "        c = np.array([a**i for i in range(n, 0, -1)])\n",
    "        b = np.array([a**(2*(i-1)) for i in range(0, n)])\n",
    "        A = np.eye(n)\n",
    "        for i in range(0, n):\n",
    "            for j in range(0, i):\n",
    "                A[i, j] = 2*a**(i-j)\n",
    "        return A, b, c\n",
    "    elif method=='blend':\n",
    "        a = 0.1 # 0 < a <1/3\n",
    "        c = np.array([a**i for i in range(n, 0, -1)])\n",
    "        b = np.array([1 for i in range(0, n)])\n",
    "        A = np.eye(n)\n",
    "        for i in range(0, n):\n",
    "            for j in range(0, i):\n",
    "                A[i, j] = 2*a**(i-j)\n",
    "        return A, b, c\n",
    "    elif method=='blend2':\n",
    "        a = 0.1 # 0 < a <1/3\n",
    "        c = np.zeros(2*n)\n",
    "        for i in range(0, n):\n",
    "            c[2*i] = a**(n-i)\n",
    "        b = np.array([1 for i in range(0, 2*n, 2)])\n",
    "        A = np.zeros((n, 2*n))\n",
    "        for i in range(0, n):\n",
    "            A[i, 2*i] = 1\n",
    "            for j in range(0, i):\n",
    "                A[i, 2*j] = 2*a**(i-j)\n",
    "        return A, b, c"
   ]
  },
  {
   "cell_type": "code",
   "execution_count": 279,
   "metadata": {},
   "outputs": [
    {
     "name": "stdout",
     "output_type": "stream",
     "text": [
      "[ 0.  1.] 5.0 3\n",
      "[  0.   0.  25.] 125.0 7\n",
      "[   0.    0.    0.  625.] 3125.0 15\n",
      "Success\n"
     ]
    }
   ],
   "source": [
    "for i in range(2, 5):\n",
    "    A, b, c = generate_killer_sequence(i, method='lexical2')\n",
    "    #print(A, b, c)\n",
    "    x, f, n_iter = solve_lin_prog(A, b, c, method='lexical')\n",
    "    print(x, f, n_iter)\n",
    "    assert (2**i-1 == n_iter)\n",
    "print(\"Success\")"
   ]
  },
  {
   "cell_type": "code",
   "execution_count": 280,
   "metadata": {},
   "outputs": [
    {
     "name": "stdout",
     "output_type": "stream",
     "text": [
      "[[ 1.   0.   0.   0. ]\n",
      " [ 0.2  0.   1.   0. ]] [1 1] [ 0.01  0.    0.1   0.  ]\n",
      "3\n",
      "[[ 1.    0.    0.    0.    0.    0.  ]\n",
      " [ 0.2   0.    1.    0.    0.    0.  ]\n",
      " [ 0.02  0.    0.2   0.    1.    0.  ]] [1 1 1] [ 0.001  0.     0.01   0.     0.1    0.   ]\n",
      "5\n"
     ]
    },
    {
     "ename": "AssertionError",
     "evalue": "",
     "output_type": "error",
     "traceback": [
      "\u001b[0;31m---------------------------------------------------------------------------\u001b[0m",
      "\u001b[0;31mAssertionError\u001b[0m                            Traceback (most recent call last)",
      "\u001b[0;32m<ipython-input-280-15d2181cf635>\u001b[0m in \u001b[0;36m<module>\u001b[0;34m()\u001b[0m\n\u001b[1;32m      6\u001b[0m     \u001b[0mans\u001b[0m \u001b[0;34m=\u001b[0m \u001b[0mlinprog\u001b[0m\u001b[0;34m(\u001b[0m\u001b[0;34m-\u001b[0m\u001b[0mc\u001b[0m\u001b[0;34m,\u001b[0m \u001b[0mA_ub\u001b[0m\u001b[0;34m=\u001b[0m\u001b[0mA\u001b[0m\u001b[0;34m,\u001b[0m \u001b[0mb_ub\u001b[0m\u001b[0;34m=\u001b[0m\u001b[0mb\u001b[0m\u001b[0;34m,\u001b[0m \u001b[0moptions\u001b[0m\u001b[0;34m=\u001b[0m\u001b[0mdict\u001b[0m\u001b[0;34m(\u001b[0m\u001b[0mbland\u001b[0m\u001b[0;34m=\u001b[0m\u001b[0;32mTrue\u001b[0m\u001b[0;34m)\u001b[0m\u001b[0;34m)\u001b[0m\u001b[0;34m\u001b[0m\u001b[0m\n\u001b[1;32m      7\u001b[0m     \u001b[0mprint\u001b[0m\u001b[0;34m(\u001b[0m\u001b[0mans\u001b[0m\u001b[0;34m.\u001b[0m\u001b[0mnit\u001b[0m\u001b[0;34m)\u001b[0m\u001b[0;34m\u001b[0m\u001b[0m\n\u001b[0;32m----> 8\u001b[0;31m     \u001b[0;32massert\u001b[0m \u001b[0;34m(\u001b[0m\u001b[0;36m2\u001b[0m\u001b[0;34m**\u001b[0m\u001b[0mi\u001b[0m\u001b[0;34m-\u001b[0m\u001b[0;36m1\u001b[0m \u001b[0;34m==\u001b[0m \u001b[0mans\u001b[0m\u001b[0;34m.\u001b[0m\u001b[0mnit\u001b[0m\u001b[0;34m)\u001b[0m\u001b[0;34m\u001b[0m\u001b[0m\n\u001b[0m",
      "\u001b[0;31mAssertionError\u001b[0m: "
     ]
    }
   ],
   "source": [
    "for i in range(2, 5):\n",
    "    A, b, c = generate_killer_sequence(i, method='blend2')\n",
    "    print(A, b, c)\n",
    "    #x, f, n_iter = solve_lin_prog(A, b, c, method='blend')\n",
    "    #print(x, f, n_iter)\n",
    "    ans = linprog(-c, A_ub=A, b_ub=b, options=dict(bland=True))\n",
    "    print(ans.nit)\n",
    "    assert (2**i-1 == ans.nit)"
   ]
  },
  {
   "cell_type": "code",
   "execution_count": 34,
   "metadata": {},
   "outputs": [
    {
     "name": "stdout",
     "output_type": "stream",
     "text": [
      "     fun: -125.0\n",
      " message: 'Optimization terminated successfully.'\n",
      "     nit: 7\n",
      "   slack: array([  5.,  25.,   0.])\n",
      "  status: 0\n",
      " success: True\n",
      "       x: array([   0.,    0.,  125.])\n"
     ]
    },
    {
     "data": {
      "text/plain": [
       "(array([   0.,    0.,  125.]), 125.0, 5)"
      ]
     },
     "execution_count": 34,
     "metadata": {},
     "output_type": "execute_result"
    }
   ],
   "source": [
    "# Avis-Chvatal example\n",
    "# https://link.springer.com/chapter/10.1007/BFb0121192\n",
    "a = 2\n",
    "c = np.array([a**2,a,1])  # maximize\n",
    "A = np.array([[1, 0, 0],\n",
    "              [2*a, 1, 0],\n",
    "              [2*a**2,2*a, 1]])\n",
    "b = np.array([5, 25, 125])\n",
    "\n",
    "# a = 0.1\n",
    "# c = np.array([a**2,a,1])  # maximize\n",
    "# A = np.array([[1, 0, 0],\n",
    "#             [2*a, 1, 0],\n",
    "#             [2*a**2,2*a, 1]])\n",
    "# b = np.array([1, 1, 1])\n",
    "\n",
    "# c = np.array([a,1])  # maximize\n",
    "# A = np.array([[1, 0],\n",
    "#             [2*a, 1]])\n",
    "# b = np.array([1, 1])\n",
    "\n",
    "print(linprog(-c, A_ub=A, b_ub=b))\n",
    "solve_lin_prog(A, b, c, method='blend')"
   ]
  },
  {
   "cell_type": "code",
   "execution_count": null,
   "metadata": {},
   "outputs": [],
   "source": []
  }
 ],
 "metadata": {
  "kernelspec": {
   "display_name": "Python 3",
   "language": "python",
   "name": "python3"
  },
  "language_info": {
   "codemirror_mode": {
    "name": "ipython",
    "version": 3
   },
   "file_extension": ".py",
   "mimetype": "text/x-python",
   "name": "python",
   "nbconvert_exporter": "python",
   "pygments_lexer": "ipython3",
   "version": "3.6.0"
  }
 },
 "nbformat": 4,
 "nbformat_minor": 2
}
