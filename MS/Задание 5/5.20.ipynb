{
 "cells": [
  {
   "cell_type": "markdown",
   "metadata": {
    "deletable": true,
    "editable": true
   },
   "source": [
    "# Математическая статистика\n",
    "## Практическое задание 5\n",
    "\n",
    "В данном задании предлагается провести некоторое исследование модели линейной регрессии и критериев для проверки статистических гипотез, в частности применить этим модели к реальным данным.\n",
    "\n",
    "**Правила:**\n",
    "\n",
    "* Выполненную работу нужно отправить на почту `probability.diht@yandex.ru`, указав тему письма `\"[номер группы] Фамилия Имя - Задание 5\"`. Квадратные скобки обязательны. Вместо `Фамилия Имя` нужно подставить свои фамилию и имя.\n",
    "* Прислать нужно ноутбук и его pdf-версию. Названия файлов должны быть такими: `5.N.ipynb` и `5.N.pdf`, где `N` - ваш номер из таблицы с оценками.\n",
    "* Никакой код из данного задания при проверке запускаться не будет.\n",
    "* Некоторые задачи отмечены символом <font size=\"5\" color=\"red\">\\*</font>. Эти задачи являются дополнительными. Успешное выполнение большей части таких задач (за все задания) является необходимым условием получения бонусного балла за практическую часть курса.\n",
    "* Баллы за каждую задачу указаны далее. Если сумма баллов за задание меньше 25% (без учета доп. задач), то все задание оценивается в 0 баллов.\n",
    "\n",
    "\n",
    "**Баллы за задание:**\n",
    "\n",
    "* Задача 1 - 7 баллов\n",
    "* Задача 2 - 2 балла\n",
    "* Задача 3<font size=\"5\" color=\"red\">\\*</font> - 3 балла\n",
    "* Задача 4 - 2 балла\n",
    "* Задача 5<font size=\"5\" color=\"red\">\\*</font> - 10 баллов\n",
    "* Задача 6 - 5 баллов\n",
    "* Задача 7 - 4 балла\n",
    "* Задача 8<font size=\"5\" color=\"red\">\\*</font> - 4 балла\n",
    "* Задача 9<font size=\"5\" color=\"red\">\\*</font> - 10 баллов"
   ]
  },
  {
   "cell_type": "markdown",
   "metadata": {
    "deletable": true,
    "editable": true
   },
   "source": [
    "## 1. Линейная регрессия"
   ]
  },
  {
   "cell_type": "markdown",
   "metadata": {
    "deletable": true,
    "editable": true
   },
   "source": [
    "**Задача 1.** По шаблону напишите класс, реализующий линейную регрессию. Интерфейс этого класса в некоторой степени соответствует классу <a href=\"http://scikit-learn.org/stable/modules/generated/sklearn.linear_model.LinearRegression.html#sklearn.linear_model.LinearRegression\">`LinearRegression`</a> из библиотеки `sklearn`."
   ]
  },
  {
   "cell_type": "code",
   "execution_count": 3,
   "metadata": {
    "collapsed": false,
    "deletable": true,
    "editable": true
   },
   "outputs": [],
   "source": [
    "import numpy as np\n",
    "import scipy as scipy\n",
    "import scipy.stats as sps\n",
    "import pandas as pd\n",
    "import matplotlib.pyplot as plt\n",
    "%matplotlib inline"
   ]
  },
  {
   "cell_type": "code",
   "execution_count": 4,
   "metadata": {
    "collapsed": false,
    "deletable": true,
    "editable": true
   },
   "outputs": [],
   "source": [
    "class LinearRegression:\n",
    "    def __init__(self):\n",
    "        super()\n",
    "        \n",
    "    def fit(self, X, Y, alpha=0.95):\n",
    "        ''' Обучение модели. Предполагается модель Y = X * theta + epsilon, \n",
    "            где X --- регрессор, Y --- отклик,\n",
    "            а epsilon имеет нормальное распределение с параметрами (0, sigma^2 * I_n).\n",
    "            alpha --- уровень доверия для доверительного интервала.\n",
    "        '''\n",
    "        \n",
    "        self.n, self.k = X.shape\n",
    "        A = np.linalg.inv(X.T.dot(X))\n",
    "        # МНК оценка.\n",
    "        self.theta = A.dot(X.T).dot(Y)\n",
    "        sq = (Y - X.dot(self.theta))\n",
    "        # Несмещенная оценка для sigma^2.\n",
    "        self.sigma_sq = sq.T.dot(sq) / (self.n - self.k)\n",
    "        df_ = self.n - self.k\n",
    "        # Доверительные интервалы для коэффициентов (матрица расмера k x 2)\n",
    "        self.conf_int = np.array([(self.theta[i] - np.sqrt(A[i][i] * self.sigma_sq) \n",
    "                                       * sps.t.ppf(q = (alpha + 1) / 2, df = df_), \n",
    "                                  (self.theta[i] - np.sqrt(A[i][i] * self.sigma_sq) \n",
    "                                       * sps.t.ppf(q = (1 - alpha) / 2, df = df_))) \n",
    "                                  for i in range(self.k)])\n",
    "        self.conf_int = self.conf_int.reshape((self.k,2))\n",
    "\n",
    "        return self\n",
    "    \n",
    "    def summary(self):\n",
    "        print('Linear regression on %d features and %d examples' % (self.k, self.n))\n",
    "        print('Sigma: %.6f' % self.sigma_sq)\n",
    "        print('\\t\\tLower\\t\\tEstimation\\tUpper')\n",
    "        for j in range(self.k):\n",
    "            print('theta_%d:\\t%.6f\\t%.6f\\t%.6f' % (j, self.conf_int[j, 0], \n",
    "                                                   self.theta[j], self.conf_int[j, 1]))\n",
    "        \n",
    "    def predict(self, X):\n",
    "        ''' Возвращает предсказание отклика на новых объектах X. '''\n",
    "        \n",
    "        Y_pred = X.dot(theta)\n",
    "        return Y_pred"
   ]
  },
  {
   "cell_type": "markdown",
   "metadata": {
    "deletable": true,
    "editable": true
   },
   "source": [
    "Загрузите данные о потреблении мороженного в зависимости от температуры воздуха и цены (файл `ice_cream.txt`).\n",
    "Примените реализованный выше класс линейной регрессии к этим данным предполагая, что модель имеет вид $ic = \\theta_1 + \\theta_2\\ t$, где $t$ --- температура воздуха (столбец `temp`), $ic$ --- постребление мороженного в литрах на человека (столбец `IC`).\n",
    "Значения температуры предварительно переведите из Фаренгейта в Цельсий [(Фаренгейт — 32) / 1,8 = Цельсий].\n",
    "\n",
    "К обученной модели примените фунцию `summary` и постройте график регрессии, то есть график прямой $ic = \\widehat{\\theta}_1 + \\widehat{\\theta}_2\\ t$, где $\\widehat{\\theta}_1, \\widehat{\\theta}_2$ --- МНК-оценки коэффициентов.\n",
    "На график нанесите точки выборки.\n",
    "Убедитесь, что построейнный график совпадает с графиком из презентации с первой лекции, правда, с точностью до значений температура (она была неправильно переведена из Фаренгейта в Цельсий)."
   ]
  },
  {
   "cell_type": "code",
   "execution_count": 5,
   "metadata": {
    "collapsed": false,
    "deletable": true,
    "editable": true
   },
   "outputs": [],
   "source": [
    "ice_cream = pd.read_table('ice_cream.txt')"
   ]
  },
  {
   "cell_type": "code",
   "execution_count": 6,
   "metadata": {
    "collapsed": false,
    "deletable": true,
    "editable": true
   },
   "outputs": [
    {
     "name": "stdout",
     "output_type": "stream",
     "text": [
      "[[  1.      0.386   0.27   78.     41.     56.      0.   ]\n",
      " [  2.      0.374   0.282  79.     56.     63.      0.   ]\n",
      " [  3.      0.393   0.277  81.     63.     68.      0.   ]\n",
      " [  4.      0.425   0.28   80.     68.     69.      0.   ]\n",
      " [  5.      0.406   0.272  76.     69.     65.      0.   ]]\n",
      "[[  1.           5.        ]\n",
      " [  1.          13.33333333]\n",
      " [  1.          17.22222222]\n",
      " [  1.          20.        ]\n",
      " [  1.          20.55555556]]\n",
      "[[ 0.386]\n",
      " [ 0.374]\n",
      " [ 0.393]\n",
      " [ 0.425]\n",
      " [ 0.406]]\n"
     ]
    }
   ],
   "source": [
    "data = np.array(ice_cream.values)\n",
    "print(data[:5])\n",
    "n = len(data)\n",
    "temp = ((data[:,4] - 32) / 1.8).reshape((n, 1))\n",
    "on = np.ones(n).reshape((n,1))\n",
    "X = np.hstack((on, temp))\n",
    "print(X[:5])\n",
    "Y = data[:,1].reshape(n,1)\n",
    "print(Y[:5])"
   ]
  },
  {
   "cell_type": "code",
   "execution_count": 7,
   "metadata": {
    "collapsed": false,
    "deletable": true,
    "editable": true
   },
   "outputs": [
    {
     "name": "stdout",
     "output_type": "stream",
     "text": [
      "Linear regression on 2 features and 30 examples\n",
      "Sigma: 0.001786\n",
      "\t\tLower\t\tEstimation\tUpper\n",
      "theta_0:\t0.283276\t0.306298\t0.329319\n",
      "theta_1:\t0.003831\t0.005593\t0.007355\n"
     ]
    }
   ],
   "source": [
    "solver = LinearRegression()\n",
    "solver.fit(X, Y)\n",
    "solver.summary()"
   ]
  },
  {
   "cell_type": "code",
   "execution_count": 8,
   "metadata": {
    "collapsed": false,
    "deletable": true,
    "editable": true
   },
   "outputs": [
    {
     "data": {
      "text/plain": [
       "array([[ 0.07072257, -0.00393571],\n",
       "       [-0.00393571,  0.00041429]])"
      ]
     },
     "execution_count": 8,
     "metadata": {},
     "output_type": "execute_result"
    }
   ],
   "source": [
    "np.linalg.inv(X.T.dot(X))"
   ]
  },
  {
   "cell_type": "code",
   "execution_count": 9,
   "metadata": {
    "collapsed": false,
    "deletable": true,
    "editable": true
   },
   "outputs": [
    {
     "data": {
      "image/png": "[encoded data removed]",
      "text/plain": [
       "<matplotlib.figure.Figure at 0x7fdaa47d64a8>"
      ]
     },
     "metadata": {},
     "output_type": "display_data"
    }
   ],
   "source": [
    "# Строим графики.\n",
    "def show_results(solver, line):\n",
    "    fig = plt.figure(figsize=(14,7))\n",
    "    thetas = solver.theta\n",
    "    t_min = min(temp) - 1\n",
    "    t_max = max(temp) + 1\n",
    "    t = np.arange(t_min, t_max, 0.005)\n",
    "    plt.plot(t, line(t, thetas), label=\"Forecast line\")\n",
    "    plt.scatter(temp, Y, color=\"g\", label=\"Sample points\")\n",
    "    plt.title(\"Regression\")\n",
    "    plt.xlabel(\"temperature\")\n",
    "    plt.ylabel(\"IC\")\n",
    "    plt.legend(fontsize=15, loc=2)\n",
    "    plt.show()\n",
    "line = lambda x, thetas: thetas[0] + thetas[1] * x\n",
    "show_results(solver, line)"
   ]
  },
  {
   "cell_type": "markdown",
   "metadata": {
    "deletable": true,
    "editable": true
   },
   "source": [
    "Теперь учтите влияние года (столбец `Year`) для двух случаев:\n",
    "* модель $ic = \\theta_1 + \\theta_2\\ t + \\theta_3 y_1 + \\theta_4 y_2$, где $y_1 = I\\{1\\ год\\}, y_2 = I\\{2\\ год\\}$. Поясните, почему нельзя рассмативать одну переменную $y$ --- номер года.\n",
    "* для каждого года рассматривается своя линейная зависимость $ic = \\theta_1 + \\theta_2\\ t$.\n",
    "\n",
    "В каждом случае нарисуйте графики. Отличаются ли полученные результаты? От чего это зависит? Как зависит потребление мороженного от года? "
   ]
  },
  {
   "cell_type": "code",
   "execution_count": 10,
   "metadata": {
    "collapsed": false,
    "deletable": true,
    "editable": true
   },
   "outputs": [
    {
     "name": "stdout",
     "output_type": "stream",
     "text": [
      "Linear regression on 4 features and 30 examples\n",
      "Sigma: 0.001016\n",
      "\t\tLower\t\tEstimation\tUpper\n",
      "theta_0:\t0.251176\t0.277050\t0.302923\n",
      "theta_1:\t0.004741\t0.006095\t0.007449\n",
      "theta_2:\t-0.011237\t0.016491\t0.044218\n",
      "theta_3:\t0.041535\t0.074307\t0.107078\n",
      "None\n"
     ]
    },
    {
     "data": {
      "image/png": "[encoded data removed]",
      "text/plain": [
       "<matplotlib.figure.Figure at 0x7fdaa47b9dd8>"
      ]
     },
     "metadata": {},
     "output_type": "display_data"
    }
   ],
   "source": [
    "y = np.array(\n",
    "    [np.array([1 if x == 0 else 0 for x in data[:, 6]]).reshape(n,1),\n",
    "     np.array([1 if x == 1 else 0 for x in data[:, 6]]).reshape(n,1),\n",
    "     np.array([1 if x == 2 else 0 for x in data[:, 6]]).reshape(n,1)])\n",
    "\n",
    "# Первая модель.\n",
    "solver_2 = LinearRegression()\n",
    "X_1 = np.hstack((on, temp, y[1], y[2]))\n",
    "solver_2.fit(X_1, Y)\n",
    "print(solver_2.summary())\n",
    "fig = plt.figure(figsize=(14,7))\n",
    "thetas = solver_2.theta\n",
    "t_min = min(temp) - 1\n",
    "t_max = max(temp) + 1\n",
    "t = np.arange(t_min, t_max, 0.005)\n",
    "line_1 = lambda i, t, thetas: thetas[0] + thetas[1] * t + thetas[i]\n",
    "plt.plot(t, line(t, thetas), label=\"Year = 0\")\n",
    "plt.plot(t, line_1(2, t, thetas), label=\"Year = 1\")\n",
    "plt.plot(t, line_1(3, t, thetas), label=\"Year = 2\")\n",
    "plt.scatter(temp, Y, color=\"g\", label=\"Sample points\")\n",
    "plt.title(\"Regression\")\n",
    "plt.xlabel(\"temperature\")\n",
    "plt.ylabel(\"IC\")\n",
    "plt.legend(fontsize=15, loc=2)\n",
    "plt.show()"
   ]
  },
  {
   "cell_type": "code",
   "execution_count": 11,
   "metadata": {
    "collapsed": false,
    "deletable": true,
    "editable": true
   },
   "outputs": [
    {
     "data": {
      "image/png": "[encoded data removed]",
      "text/plain": [
       "<matplotlib.figure.Figure at 0x7fdaa2497a58>"
      ]
     },
     "metadata": {},
     "output_type": "display_data"
    }
   ],
   "source": [
    "# Для каждого года рассмотрим свою линейную зависимость.\n",
    "y_s = np.array(\n",
    "    [np.sum([1 if x == 0 else 0 for x in data[:, 6]]),\n",
    "     np.sum([1 if x == 1 else 0 for x in data[:, 6]]),\n",
    "     np.sum([1 if x == 2 else 0 for x in data[:, 6]])])\n",
    "sizes = np.cumsum(y_s)\n",
    "colors = ['violet', 'purple', 'orange']\n",
    "def show_year_results():\n",
    "    fig = plt.figure(figsize=(14,7))\n",
    "    t_min = min(temp) - 1\n",
    "    t_max = max(temp) + 1\n",
    "    t = np.arange(t_min, t_max, 0.005)\n",
    "    \n",
    "    for i in range(3):\n",
    "        X = Y = tmp = []\n",
    "        if i == 0:\n",
    "            X = np.hstack((on[:sizes[0]], temp[:sizes[0]]))\n",
    "            Y = data[:sizes[0],1]\n",
    "            tmp = temp[:sizes[0]]\n",
    "        else:\n",
    "            tmp = temp[sizes[i-1]:sizes[i]]\n",
    "            X = np.hstack((on[sizes[i-1]:sizes[i]], temp[sizes[i-1]:sizes[i]]))\n",
    "            Y = data[sizes[i-1]:sizes[i], 1]\n",
    "        cur_solver = LinearRegression()\n",
    "        cur_solver.fit(X, Y)\n",
    "        thetas = cur_solver.theta\n",
    "        plt.plot(t, line(t, thetas), label=\"Forecast line, year: \" + str(i))\n",
    "        plt.scatter(tmp, Y, label=\"Sample points, year: \" + str(i), color = colors[i])\n",
    "    plt.title(\"Regression\")\n",
    "    plt.xlabel(\"temperature\")\n",
    "    plt.ylabel(\"IC\")\n",
    "    plt.legend(fontsize=15, loc=2)\n",
    "    plt.show()\n",
    "show_year_results()"
   ]
  },
  {
   "cell_type": "markdown",
   "metadata": {
    "deletable": true,
    "editable": true
   },
   "source": [
    "*Нельзя рассматривать одну переменную, потому что абсолютное значение не года не несет для регрессии информации, мы должны учитывать каждый год как индикатор, так как он влияет на все значения в своей подвыборке. *\n",
    "\n",
    "*В зависимости от года меняется спрос на мороженное, видно что в год с номером два, употребление мороженного было больше, при той же температуре, что и в год с номером 1. Так же годы 0 и 1 похожи по наклону графиков, а в год с номером 2 прямая наклонена сильнее *"
   ]
  },
  {
   "cell_type": "markdown",
   "metadata": {
    "deletable": true,
    "editable": true
   },
   "source": [
    "Наконец, обучите модель на предсказание потребления мороженного в зависимости от всех переменных.\n",
    "Не забудьте, что для года нужно ввести две переменных.\n",
    "Для полученной модели выведите `summary`."
   ]
  },
  {
   "cell_type": "code",
   "execution_count": 12,
   "metadata": {
    "collapsed": false,
    "deletable": true,
    "editable": true
   },
   "outputs": [
    {
     "name": "stdout",
     "output_type": "stream",
     "text": [
      "Linear regression on 8 features and 30 examples\n",
      "Sigma: 0.000885\n",
      "\t\tLower\t\tEstimation\tUpper\n",
      "theta_0:\t0.011829\t0.596645\t1.181460\n",
      "theta_1:\t-0.008863\t-0.004508\t-0.000154\n",
      "theta_2:\t-2.321498\t-0.636402\t1.048693\n",
      "theta_3:\t-0.006058\t-0.001509\t0.003040\n",
      "theta_4:\t0.004670\t0.006645\t0.008620\n",
      "theta_5:\t-0.002430\t-0.000807\t0.000817\n",
      "theta_6:\t0.026010\t0.081362\t0.136713\n",
      "theta_7:\t0.092651\t0.189384\t0.286118\n",
      "None\n"
     ]
    }
   ],
   "source": [
    "solver_all = LinearRegression()\n",
    "# Не забываем привести к нужной размерности второй столбец температуры.\n",
    "X_all = np.hstack((on, data[:,0].reshape(n,1), data[:,2:4], temp, ((data[:,5] - 32) / 1.8).reshape(n,1), y[1], y[2]))\n",
    "solver_all.fit(X_all, Y)\n",
    "print(solver_all.summary())"
   ]
  },
  {
   "cell_type": "markdown",
   "metadata": {
    "deletable": true,
    "editable": true
   },
   "source": [
    "Но это еще не все.\n",
    "Постройте теперь линейную регрессию для модели $ic = \\theta_1 + \\theta_2\\ t + \\theta_3\\ t^2 + \\theta_4\\ t^3$.\n",
    "Выведите для нее summary и постройте график предсказания, то есть график кривой $ic = \\widehat{\\theta}_1 + \\widehat{\\theta}_2\\ t + \\widehat{\\theta}_3\\ t^2 + \\widehat{\\theta}_4\\ t^3$. Хорошие ли получаются результаты?"
   ]
  },
  {
   "cell_type": "code",
   "execution_count": 13,
   "metadata": {
    "collapsed": false,
    "deletable": true,
    "editable": true
   },
   "outputs": [
    {
     "data": {
      "image/png": "[encoded data removed]",
      "text/plain": [
       "<matplotlib.figure.Figure at 0x7fdaa24f0f28>"
      ]
     },
     "metadata": {},
     "output_type": "display_data"
    }
   ],
   "source": [
    "solver_pow = LinearRegression()\n",
    "X_pow = np.hstack((on, temp, temp ** 2, temp ** 3))\n",
    "line = lambda t, thetas: thetas[0] + thetas[1] * t + thetas[2] * t ** 2 + thetas[3] * t ** 3\n",
    "solver_pow.fit(X_pow, Y)\n",
    "show_results(solver_pow, line)"
   ]
  },
  {
   "cell_type": "markdown",
   "metadata": {
    "deletable": true,
    "editable": true
   },
   "source": [
    "*Результаты получаются хорошие, но тудно сказать, точнее эта модель предыдущей или нет, нужна большая выборка.*"
   ]
  },
  {
   "cell_type": "markdown",
   "metadata": {
    "deletable": true,
    "editable": true
   },
   "source": [
    "Чтобы понять, почему так происходит, выведите значения матрицы $(X^T X)^{-1}$ для данной матрицы и посчитайте для нее индекс обусловленности $\\sqrt{\\left.\\lambda_{max}\\right/\\lambda_{min}}$, где $\\lambda_{max}, \\lambda_{min}$ --- максимальный и минимальный собственные значения матрицы $X^T X$. Собственные значения можно посчитать функцией <a href=\"https://docs.scipy.org/doc/scipy/reference/generated/scipy.linalg.eigvals.html\">`scipy.linalg.eigvals`</a>.\n",
    "\n",
    "Прокомментируйте полученные результаты. Помочь в этом может следующая <a href=\"https://ru.wikipedia.org/wiki/%D0%A7%D0%B8%D1%81%D0%BB%D0%BE_%D0%BE%D0%B1%D1%83%D1%81%D0%BB%D0%BE%D0%B2%D0%BB%D0%B5%D0%BD%D0%BD%D0%BE%D1%81%D1%82%D0%B8\">статья</a>."
   ]
  },
  {
   "cell_type": "code",
   "execution_count": 14,
   "metadata": {
    "collapsed": false,
    "deletable": true,
    "editable": true
   },
   "outputs": [
    {
     "name": "stdout",
     "output_type": "stream",
     "text": [
      "Матрица A:  [[  9.37480084e-02   3.89861423e-03  -1.78656900e-03   6.69029822e-05]\n",
      " [  3.89861423e-03   7.18536599e-03  -8.80905447e-04   2.52158328e-05]\n",
      " [ -1.78656900e-03  -8.80905447e-04   1.56779604e-04  -5.35416603e-06]\n",
      " [  6.69029822e-05   2.52158328e-05  -5.35416603e-06   1.95858936e-07]]\n",
      "Собственные значения:  [  9.39587724e-02+0.j   7.10180670e-03+0.j   2.97693228e-05+0.j\n",
      "   1.41790261e-09+0.j]\n",
      "Индекс обусловленности:  (8140.3947489+0j)\n"
     ]
    }
   ],
   "source": [
    "A = np.linalg.inv(X_pow.T.dot(X_pow))\n",
    "print(\"Матрица A: \", A)\n",
    "eigenvalues = scipy.linalg.eigvals(A)\n",
    "print(\"Собственные значения: \", eigenvalues)\n",
    "print(\"Индекс обусловленности: \", np.sqrt(max(eigenvalues) / min(eigenvalues)))"
   ]
  },
  {
   "cell_type": "markdown",
   "metadata": {
    "deletable": true,
    "editable": true
   },
   "source": [
    "** Вывод:** мы рассмотрели несколько подходов к линейной регрессии. Смотрели на модель в зависимости от того какие признаки мы учитываем. Узнали, что если признак не несет информации в своем абсолютном значении (а разделяется нашу выборку на какие-то части), то его можно учитывать его индикатором. Так же мы увидели что усложнение (повышение степени) в нашей модели привело к изменению ее способности восстанавливать искомую зависимость. А большой индекс обусловленности, говорит, что высока вероятность переобучения, того что наша модель сложнее настоящей и может выдавать плохие результаты на новой выборке."
   ]
  },
  {
   "cell_type": "markdown",
   "metadata": {
    "deletable": true,
    "editable": true
   },
   "source": [
    "**Задача 2.** В данной задаче нужно реализовать функцию отбора признаков для линейной регрессии. Иначе говоря, пусть есть модель $y = \\theta_1 x_1 + ... + \\theta_k x_k$. Нужно определить, какие $\\theta_j$ нужно положить равными нулю, чтобы качество полученной модели было максимальным.\n",
    "\n",
    "Для этого имеющиеся данные нужно случайно разделить на две части --- обучение и тест (train и test). На первой части нужно обучить модель регресии, взяв некоторые из признаков, то есть рассмотреть модель $y = \\theta_{j_1} x_{j_1} + ... + \\theta_{j_s} x_{j_s}$. По второй части нужно посчитать ее качество --- среднеквадратичное отклонение (mean squared error) предсказания от истинного значения отклика, то есть величину\n",
    "$$MSE = \\sum\\limits_{i \\in test} \\left(\\widehat{y}(x_i) - Y_i\\right)^2,$$\n",
    "где $x_i = (x_{i,1}, ..., x_{i,k})$, $Y_i$ --- отклик на объекте $x_i$, а $\\widehat{y}(x)$ --- оценка отклика на объекте $x$.\n",
    "\n",
    "Если $k$ невелико, то подобным образом можно перебрать все поднаборы признаков и выбрать наилучший по значению MSE.\n",
    "\n",
    "Для выполнения задания воспользуйтесь следующими функциями:\n",
    "* <a href=\"http://scikit-learn.org/stable/modules/generated/sklearn.linear_model.LinearRegression.html#sklearn.linear_model.LinearRegression\">`sklearn.linear_model.LinearRegression`</a>\n",
    "--- реализация линейной регрессии. В данной реализации свободный параметр $\\theta_1$ по умолчанию автоматически включается в модель. Отключить это можно с помощью `fit_intercept=False`, но это не нужно. *В данной задаче требуется, чтобы вы воспользовались готовой реализацией линейной регрессии, а не своей. Ведь на практике важно уметь применять готовые реализации, а не писать их самостоятельно.*\n",
    "\n",
    "* <a href=\"http://scikit-learn.org/0.16/modules/generated/sklearn.cross_validation.train_test_split.html\">`sklearn.cross_validation.train_test_split`</a>\n",
    "--- функция разбиения данных на train и test. Установите параметр `test_size=0.3`.\n",
    "\n",
    "* <a href=\"http://scikit-learn.org/stable/modules/generated/sklearn.metrics.mean_squared_error.html\">`sklearn.metrics.mean_squared_error`</a>\n",
    "--- реализация MSE.\n",
    "\n",
    "Для перебора реализуйте функцию."
   ]
  },
  {
   "cell_type": "code",
   "execution_count": 15,
   "metadata": {
    "collapsed": false,
    "deletable": true,
    "editable": true
   },
   "outputs": [
    {
     "name": "stderr",
     "output_type": "stream",
     "text": [
      "/home/sharik/.pyenv/versions/3.6.0/lib/python3.6/site-packages/sklearn/cross_validation.py:44: DeprecationWarning: This module was deprecated in version 0.18 in favor of the model_selection module into which all the refactored classes and functions are moved. Also note that the interface of the new CV iterators are different from that of this module. This module will be removed in 0.20.\n",
      "  \"This module will be removed in 0.20.\", DeprecationWarning)\n"
     ]
    }
   ],
   "source": [
    "from sklearn import linear_model\n",
    "from sklearn import cross_validation\n",
    "from sklearn.metrics import mean_squared_error"
   ]
  },
  {
   "cell_type": "code",
   "execution_count": 16,
   "metadata": {
    "collapsed": true,
    "deletable": true,
    "editable": true
   },
   "outputs": [],
   "source": [
    "def best_features(X_train, X_test, Y_train, Y_test):\n",
    "    mses = []  # сюда записывайте значения MSE\n",
    "    k = X_train.shape[1]\n",
    "\n",
    "    for j in range(1, 2 ** k):  # номер набора признаков\n",
    "        mask = np.array([j & (1 << s) for s in range(k)], dtype=bool)\n",
    "        features_numbers = np.arange(k)[mask]  # набор признаков\n",
    "        # Делаем все необходимое.\n",
    "        model = linear_model.LinearRegression()\n",
    "        model.fit(X_train[:, features_numbers], Y_train)\n",
    "        mse =  mean_squared_error(Y_test, model.predict(X_test[:, features_numbers])) # MSE для данного набора признаков\n",
    "        mses.append(mse)\n",
    "        \n",
    "    # Печать 10 лучших наборов\n",
    "    print('mse\\t features')\n",
    "    mses = np.array(mses)\n",
    "    best_numbres = np.argsort(mses)[:10]\n",
    "    for j in best_numbres:\n",
    "        mask = np.array([j & (1 << s) for s in range(k)], dtype=bool)\n",
    "        features_numbers = np.arange(k)[mask]\n",
    "        print('%.3f\\t' % mses[j], features_numbers)"
   ]
  },
  {
   "cell_type": "markdown",
   "metadata": {
    "deletable": true,
    "editable": true
   },
   "source": [
    "Примените реализованный отбор признаков к датасетам\n",
    "* <a href=\"http://archive.ics.uci.edu/ml/datasets/Yacht+Hydrodynamics\">Yacht Hydrodynamics</a> --- для парусных яхт нужно оценить остаточное сопротивление на единицу массы смещения (последний столбец) в зависимости от различных характеристик яхты.\n",
    "\n",
    "* <a href=\"http://scikit-learn.org/stable/modules/generated/sklearn.datasets.load_boston.html#sklearn.datasets.load_boston\">Boston Housing Prices</a> --- цены на дома в Бостоне в зависимости от ряда особенностей."
   ]
  },
  {
   "cell_type": "code",
   "execution_count": 17,
   "metadata": {
    "collapsed": false,
    "deletable": true,
    "editable": true
   },
   "outputs": [],
   "source": [
    "import requests\n",
    "from io import StringIO\n",
    "r = requests.get('http://archive.ics.uci.edu/ml/machine-learning-databases/00243/yacht_hydrodynamics.data')"
   ]
  },
  {
   "cell_type": "code",
   "execution_count": 18,
   "metadata": {
    "collapsed": false,
    "deletable": true,
    "editable": true
   },
   "outputs": [],
   "source": [
    "yacht = pd.read_csv(StringIO(r.text), delimiter='\\s+')"
   ]
  },
  {
   "cell_type": "code",
   "execution_count": 19,
   "metadata": {
    "collapsed": false,
    "deletable": true,
    "editable": true
   },
   "outputs": [],
   "source": [
    "yacht_data = np.array(yacht.values)"
   ]
  },
  {
   "cell_type": "code",
   "execution_count": 20,
   "metadata": {
    "collapsed": true,
    "deletable": true,
    "editable": true
   },
   "outputs": [],
   "source": [
    "yacht_n = len(yacht_data)\n",
    "yacht_X = yacht_data[:,0:6]\n",
    "yacht_Y = yacht_data[:,6].reshape(yacht_n,1)"
   ]
  },
  {
   "cell_type": "code",
   "execution_count": 21,
   "metadata": {
    "collapsed": false,
    "deletable": true,
    "editable": true
   },
   "outputs": [],
   "source": [
    "X_train, X_test, Y_train, Y_test = cross_validation.train_test_split(yacht_X, yacht_Y, test_size=0.3, random_state=40)"
   ]
  },
  {
   "cell_type": "code",
   "execution_count": 22,
   "metadata": {
    "collapsed": false,
    "deletable": true,
    "editable": true
   },
   "outputs": [
    {
     "name": "stdout",
     "output_type": "stream",
     "text": [
      "mse\t features\n",
      "78.049\t [0 5]\n",
      "78.056\t [0 3 5]\n",
      "78.066\t [1 5]\n",
      "78.070\t [1 3 5]\n",
      "78.349\t [3 5]\n",
      "78.355\t [0 1 2 5]\n",
      "78.396\t [5]\n",
      "78.404\t [0 1 2 3 4]\n",
      "78.921\t [1 2 5]\n",
      "78.924\t [0 2 5]\n"
     ]
    }
   ],
   "source": [
    "best_features(X_train, X_test, Y_train, Y_test)"
   ]
  },
  {
   "cell_type": "code",
   "execution_count": 23,
   "metadata": {
    "collapsed": false,
    "deletable": true,
    "editable": true
   },
   "outputs": [],
   "source": [
    "# Теперь со вторым датасетом.\n",
    "from sklearn.datasets import load_boston\n",
    "boston  = load_boston()\n",
    "boston_X = boston.data\n",
    "boston_Y = boston.target.reshape(len(boston.target), 1)"
   ]
  },
  {
   "cell_type": "code",
   "execution_count": 24,
   "metadata": {
    "collapsed": false,
    "deletable": true,
    "editable": true
   },
   "outputs": [],
   "source": [
    "X_train, X_test, Y_train, Y_test = cross_validation.train_test_split(boston_X, boston_Y, test_size=0.3, random_state=40)"
   ]
  },
  {
   "cell_type": "code",
   "execution_count": 25,
   "metadata": {
    "collapsed": false,
    "deletable": true,
    "editable": true
   },
   "outputs": [
    {
     "name": "stdout",
     "output_type": "stream",
     "text": [
      "mse\t features\n",
      "31.397\t [ 1  4  5  7  8  9 10 11 12]\n",
      "31.407\t [ 1  4  5  6  7  8  9 10 11 12]\n",
      "31.431\t [ 1  3  4  5  7  8  9 10 11 12]\n",
      "31.465\t [ 1  3  4  5  6  7  8  9 10 11 12]\n",
      "31.530\t [ 1  2  4  5  7  8  9 10 11 12]\n",
      "31.542\t [ 1  2  4  5  6  7  8  9 10 11 12]\n",
      "31.781\t [ 1  2  3  4  5  7  8  9 10 11 12]\n",
      "31.828\t [ 1  2  3  4  5  6  7  8  9 10 11 12]\n",
      "32.000\t [ 1  3  4  5  7  8 10 11 12]\n",
      "32.027\t [ 1  3  4  5  6  7  8 10 11 12]\n"
     ]
    }
   ],
   "source": [
    "best_features(X_train, X_test, Y_train, Y_test)"
   ]
  },
  {
   "cell_type": "markdown",
   "metadata": {
    "deletable": true,
    "editable": true
   },
   "source": [
    "** Вывод:** По результатам для Yacht Hydrodynamics лучшая модель для линейной регрессии учитывает признаки с номерами 1 и 5, это  Prismatic coefficient и Froude number соответственно. Для Boston Housing Prices лучшая модель учитывает признаки 1, 4, 5, 7, 8, 9, 10, 11 и 12. Мы выяснили, что в зависимости от выбора признаков, на которых мы используем нашу модель, меняется ее точность."
   ]
  },
  {
   "cell_type": "markdown",
   "metadata": {
    "deletable": true,
    "editable": true
   },
   "source": [
    "**Задача 3<font size=\"5\" color=\"red\">\\*</font>.** Загрузите <a href=\"http://people.sc.fsu.edu/~jburkardt/datasets/regression/x01.txt\">датасет</a>, в котором показана зависимость веса мозга от веса туловища для некоторых видов млекопитающих. Задача состоит в том, чтобы подобрать по этим данным хорошую модель регрессии. Для этого, можно попробовать взять некоторые функции от значения веса туловища, например, степенную, показательную, логарифмическую. Можно также сделать преобразование значений веса мозга, например, прологарифмировать. Кроме того, можно разбить значения веса туловища на несколько частей и на каждой части строить свою модель линейной регрессии."
   ]
  },
  {
   "cell_type": "markdown",
   "metadata": {
    "deletable": true,
    "editable": true
   },
   "source": [
    "**Задача 4.** Пусть $X_1, ..., X_n$ --- выборка из распределения $\\mathcal{N}(a, \\sigma^2)$. Постройте точную доверительную область для параметра $\\theta = (a, \\sigma^2)$ уровня доверия $\\alpha=0.95$ для сгенерированной выборки размера $n \\in \\{5, 20, 50\\}$ из стандартного нормального распределения. Какой вывод можно сделать?"
   ]
  },
  {
   "cell_type": "markdown",
   "metadata": {
    "deletable": true,
    "editable": true
   },
   "source": [
    "**Доверительная область.**\n",
    "\n",
    "Знаем: $T = \\frac{\\overline{X}-a}{\\frac{S}{\\sqrt{n}}} \\sim T_{n-1}$. Пусть $u_{\\frac{1\\pm\\sqrt{\\alpha}}{2}}$ — квантили $T_{n-1}$. Тогда $\\sqrt{\\alpha}=P\\left(u_{\\frac{1-\\sqrt{\\alpha}}{2}} < T < u_{\\frac{1+\\sqrt{\\alpha}}{2}}\\right) = \\ldots = P\\left(\\overline{X} - \\frac{S}{\\sqrt{n}} u_{\\frac{1+\\sqrt{\\alpha}}{2}} < a < \\overline{X} - \\frac{S}{\\sqrt{n}} u_{\\frac{1-\\sqrt{\\alpha}}{2}}\\right)$, значит $\\left(\\overline{X} - \\frac{S}{\\sqrt{n}} u_{\\frac{1+\\sqrt{\\alpha}}{2}}, \\overline{X} - \\frac{S}{\\sqrt{n}} u_{\\frac{1-\\sqrt{\\alpha}}{2}}\\right)$ — доверительный интервал уровня доверия $\\sqrt{\\alpha}$ для $a$.\n",
    "\n",
    "Знаем: $R = \\frac{n-1}{\\sigma^2}S^2 \\sim \\chi^2_{n-1}$. Пусть $v_{\\frac{1\\pm\\sqrt{\\alpha}}{2}}$ - квантили $\\chi^2_{n-1}$. Тогда $\\sqrt{\\alpha} = P\\left(v_{\\frac{1-\\sqrt{\\alpha}}{2}} < R < v_{\\frac{1+\\sqrt{\\alpha}}{2}}\\right) = \\ldots = P\\left(\\frac{(n-1)S^2}{v_{\\frac{1+\\sqrt{\\alpha}}{2}}} < \\sigma^2 < \\frac{(n-1)S^2}{v_{\\frac{1-\\sqrt{\\alpha}}{2}}}\\right)$, значит $\\left(\\frac{(n-1)S^2}{v_{\\frac{1+\\sqrt{\\alpha}}{2}}}, \\frac{(n-1)S^2}{v_{\\frac{1-\\sqrt{\\alpha}}{2}}}\\right)$ — доверительный интервал уровня доверия $\\sqrt{\\alpha}$ для $\\sigma^2$.\n",
    "\n",
    "Знаем, что $\\overline{X}$ и $S^2$ независимы, значит, $T$ и $R$ тоже независимы. Таким образом, $\\alpha = P(u_{\\frac{1-\\sqrt{\\alpha}}{2}} < T < u_{\\frac{1+\\sqrt{\\alpha}}{2}}, v_{\\frac{1-\\sqrt{\\alpha}}{2}} < R < v_{\\frac{1+\\sqrt{\\alpha}}{2}})$.\n",
    "\n",
    "Декартово произведение доверительных интервалов (уровней доверия $\\sqrt{\\alpha}$) и будет искомой доверительной областью уровня доверия $\\alpha$."
   ]
  },
  {
   "cell_type": "code",
   "execution_count": 26,
   "metadata": {
    "collapsed": false,
    "deletable": true,
    "editable": true
   },
   "outputs": [],
   "source": [
    "n = [5, 20, 50]\n",
    "def do_task(n, a=0, sigma=1, alpha=0.95):\n",
    "    sample = sps.norm.rvs(size=n, loc=a, scale=sigma)\n",
    "    alpha_sq = np.sqrt(alpha)\n",
    "    mean = np.mean(sample)\n",
    "    s_2 = (np.mean(sample ** 2) - np.mean(sample) ** 2)\n",
    "    s = np.sqrt(s_2)\n",
    "    u_1 = sps.t.ppf(q=(1 - alpha_sq) / 2, df=n - 1)\n",
    "    u_2 = sps.t.ppf(q=(1 + alpha_sq) / 2, df=n - 1)\n",
    "    borders_a = [mean - s / np.sqrt(n) * u_2, mean - s / np.sqrt(n) * u_1]\n",
    "    \n",
    "    v_1 = sps.chi2.ppf(q=(1 + alpha_sq) / 2, df=n - 1)\n",
    "    v_2 = sps.chi2.ppf(q=(1 - alpha_sq) / 2, df=n - 1)\n",
    "    borders_s_2 = [(n - 1) * s_2 / v_1, (n - 1) * s_2 / v_2]\n",
    "    print(\"n =\", n)\n",
    "    print(\"Доверительный интервал для a: \", borders_a, '\\n')\n",
    "    print(\"Доверительный интервал для sigma^2: \", borders_s_2, '\\n')"
   ]
  },
  {
   "cell_type": "code",
   "execution_count": 27,
   "metadata": {
    "collapsed": false,
    "deletable": true,
    "editable": true
   },
   "outputs": [
    {
     "name": "stdout",
     "output_type": "stream",
     "text": [
      "n = 5\n",
      "Доверительный интервал для a:  [-1.2226002399085047, 1.163587915986831] \n",
      "\n",
      "Доверительный интервал для sigma^2:  [0.18448921542827107, 6.9812128336048751] \n",
      "\n"
     ]
    }
   ],
   "source": [
    "# n = 5\n",
    "do_task(n[0])"
   ]
  },
  {
   "cell_type": "code",
   "execution_count": 28,
   "metadata": {
    "collapsed": false,
    "deletable": true,
    "editable": true
   },
   "outputs": [
    {
     "name": "stdout",
     "output_type": "stream",
     "text": [
      "n = 20\n",
      "Доверительный интервал для a:  [-0.40456803573324129, 0.58939712042765557] \n",
      "\n",
      "Доверительный интервал для sigma^2:  [0.45058725584408127, 2.0082063976025188] \n",
      "\n"
     ]
    }
   ],
   "source": [
    "# n = 20\n",
    "do_task(n[1])"
   ]
  },
  {
   "cell_type": "code",
   "execution_count": 29,
   "metadata": {
    "collapsed": false,
    "deletable": true,
    "editable": true
   },
   "outputs": [
    {
     "name": "stdout",
     "output_type": "stream",
     "text": [
      "n = 50\n",
      "Доверительный интервал для a:  [-0.31169311573343478, 0.2891362798307382] \n",
      "\n",
      "Доверительный интервал для sigma^2:  [0.56330838414485873, 1.4050434668911782] \n",
      "\n"
     ]
    }
   ],
   "source": [
    "# n = 50\n",
    "do_task(n[2])"
   ]
  },
  {
   "cell_type": "markdown",
   "metadata": {
    "deletable": true,
    "editable": true
   },
   "source": [
    "**Задача 5<font size=\"5\" color=\"red\">\\*</font>.** \n",
    "Пусть дана линейная гауссовская модель $Y = X\\theta + \\varepsilon$, где $\\varepsilon \\sim \\mathcal{N}(0, \\beta^{-1}I_n)$.\n",
    "Пусть $\\theta$ имеет априорное распределение $\\mathcal{N}(0, \\alpha^{-1}I_k)$. \n",
    "Такая постановка задачи соответствует Ridge-регрессии.\n",
    "Оценкой параметров будет математическое ожидание по апостериорному распределению, аналогично можно получить доверительный интервал.\n",
    "Кроме того, с помощью апостериорного распределения можно получить доверительный интервал для отклика на новом объекте, а не только точечную оценку.\n",
    "\n",
    "Реализуйте класс RidgeRegression подобно классу LinearRegression, но добавьте в него так же возможность получения доверительного интервала для отклика на новом объекте.\n",
    "Примените модель к некоторых датасетам, которые рассматривались в предыдущих задачах.\n",
    "Нарисуйте графики оценки отклика на новом объекте и доверительные интервалы для него."
   ]
  },
  {
   "cell_type": "markdown",
   "metadata": {
    "deletable": true,
    "editable": true
   },
   "source": [
    "## 2. Проверка статистических гипотез"
   ]
  },
  {
   "cell_type": "markdown",
   "metadata": {
    "deletable": true,
    "editable": true
   },
   "source": [
    "**Задача 6.** \n",
    "Существует примета, что если перед вам дорогу перебегает черный кот, то скоро случится неудача. \n",
    "Вы же уже достаточно хорошо знаете статистику и хотите проверить данную примету. \n",
    "Сформулируем задачу на математическом языке. \n",
    "Пусть $X_1, ..., X_n \\sim Bern(p)$ --- проведенные наблюдения, где $X_i = 1$, если в $i$-м испытании случилась неудача после того, как черный кот перебежал дорогу, а $p$ --- неизвестная вероятность такого события. \n",
    "Нужно проверить гипотезу $H_0: p=1/2$ (отсутствие связи между черным котом и неудачей) против альтернативы $H_1: p>1/2$ (неудача происходит чаще если черный кот перебегает дорогу).\n",
    "\n",
    "Известно, что $S = \\left\\{T(X) > c_\\alpha\\right\\}$, где $T(X) = \\sum X_i$, является равномерно наиболее мощным критерием для данной задачи. \n",
    "Чему при этом равно $c_\\alpha$?\n",
    "При этом p-value в данной задаче определяется как $p(t) = \\mathsf{P}_{0.5}(T(X) > t)$, где $t = \\sum x_i$ --- реализация статистики $T(X)$.\n",
    "\n",
    "Для начала проверьте, что критерий работает.\n",
    "Возьмите несколько значений $n$ и реализаций статистики $T(X)$.\n",
    "В каждом случае найдите значение $c_\\alpha$ и p-value.\n",
    "Оформите это в виде таблицы.\n",
    "\n",
    "Пользуйтесь функциями из `scipy.stats`, про которые подробно написано в файле `python_5`. Внимательно проверьте правильность строгих и нестрогих знаков."
   ]
  },
  {
   "cell_type": "markdown",
   "metadata": {
    "collapsed": false,
    "deletable": true,
    "editable": true
   },
   "source": [
    "Скорее всего, наша гипотеза $H_0$ верна, а тогда $p = \\frac{1}{2}$. $T(X)$ имеет распределение $Bin(n, \\theta)$, и $c_\\alpha$ -- $1 - \\alpha$ - квантиль распределения $Bin(n, \\theta_0)$"
   ]
  },
  {
   "cell_type": "code",
   "execution_count": 30,
   "metadata": {
    "collapsed": false,
    "deletable": true,
    "editable": true
   },
   "outputs": [
    {
     "data": {
      "text/html": [
       "<div>\n",
       "<table border=\"1\" class=\"dataframe\">\n",
       "  <thead>\n",
       "    <tr style=\"text-align: right;\">\n",
       "      <th></th>\n",
       "      <th>n</th>\n",
       "      <th>t</th>\n",
       "      <th>c</th>\n",
       "      <th>p-value</th>\n",
       "      <th>Отвергаем H_0</th>\n",
       "    </tr>\n",
       "  </thead>\n",
       "  <tbody>\n",
       "    <tr>\n",
       "      <th>0</th>\n",
       "      <td>10</td>\n",
       "      <td>6</td>\n",
       "      <td>8.0</td>\n",
       "      <td>0.171875</td>\n",
       "      <td>False</td>\n",
       "    </tr>\n",
       "    <tr>\n",
       "      <th>1</th>\n",
       "      <td>30</td>\n",
       "      <td>10</td>\n",
       "      <td>19.0</td>\n",
       "      <td>0.950631</td>\n",
       "      <td>False</td>\n",
       "    </tr>\n",
       "    <tr>\n",
       "      <th>2</th>\n",
       "      <td>50</td>\n",
       "      <td>25</td>\n",
       "      <td>31.0</td>\n",
       "      <td>0.443862</td>\n",
       "      <td>False</td>\n",
       "    </tr>\n",
       "    <tr>\n",
       "      <th>3</th>\n",
       "      <td>100</td>\n",
       "      <td>51</td>\n",
       "      <td>58.0</td>\n",
       "      <td>0.382177</td>\n",
       "      <td>False</td>\n",
       "    </tr>\n",
       "  </tbody>\n",
       "</table>\n",
       "</div>"
      ],
      "text/plain": [
       "     n   t     c   p-value Отвергаем H_0\n",
       "0   10   6   8.0  0.171875         False\n",
       "1   30  10  19.0  0.950631         False\n",
       "2   50  25  31.0  0.443862         False\n",
       "3  100  51  58.0  0.382177         False"
      ]
     },
     "execution_count": 30,
     "metadata": {},
     "output_type": "execute_result"
    }
   ],
   "source": [
    "n = [10, 30, 50, 100]\n",
    "statistics = []\n",
    "for i in n:\n",
    "    alpha = 0.05\n",
    "    t = np.sum(sps.bernoulli(p=0.5).rvs(size=i))\n",
    "    c = sps.binom(n=i, p=0.5).ppf(1 - alpha)\n",
    "    p_value = sps.binom(i, 0.5).sf(t)\n",
    "    H_0 = False\n",
    "    if t > c:\n",
    "        H_0 = True\n",
    "    statistics.append([i, t, c, p_value, H_0])\n",
    "# Выведем значения красиво, а не через print.\n",
    "pd.DataFrame(data=statistics, columns=['n', 't', 'c', 'p-value', r'Отвергаем H_0'])"
   ]
  },
  {
   "cell_type": "markdown",
   "metadata": {
    "deletable": true,
    "editable": true
   },
   "source": [
    "*Видно, что на уровне значимости $\\alpha = 0.05$, $t < c$ и наша гипотеза не отвергается.*"
   ]
  },
  {
   "cell_type": "markdown",
   "metadata": {
    "deletable": true,
    "editable": true
   },
   "source": [
    "Для каких истинных значений $p$ с точки зрения практики можно считать, что связь между черным котом и неудачей есть? \n",
    "Теперь сгенерируйте 10 выборок для двух случаев: 1). $n=5, p=0.75$; 2). $n=10^5, p=0.51$. \n",
    "В каждом случае в виде таблицы выведите реализацию статистики $T(X)$, соответствующее p-value и 0/1 - отвергается ли $H_0$ (выводите 1, если отвергается).\n",
    "Какие выводы можно сделать?"
   ]
  },
  {
   "cell_type": "code",
   "execution_count": 31,
   "metadata": {
    "collapsed": false,
    "deletable": true,
    "editable": true
   },
   "outputs": [],
   "source": [
    "def do_task(n, p, alpha=0.05, N=10):\n",
    "    loc_statistics=[]\n",
    "    for i in range(10):\n",
    "        t = np.sum(sps.bernoulli(p=p).rvs(size=n))\n",
    "        c = sps.binom(n=n, p=0.5).ppf(1 - alpha)\n",
    "        p_value = sps.binom(n, 0.5).sf(t)\n",
    "        H_0 = False\n",
    "        if t > c:\n",
    "            H_0 = True\n",
    "        loc_statistics.append([t, c, p_value, H_0])\n",
    "    print(\"n = \", n)\n",
    "    return pd.DataFrame(data=loc_statistics, columns=['t', 'c', 'p-value', r'Отвергаем H_0'])"
   ]
  },
  {
   "cell_type": "code",
   "execution_count": 32,
   "metadata": {
    "collapsed": false,
    "deletable": true,
    "editable": true
   },
   "outputs": [
    {
     "name": "stdout",
     "output_type": "stream",
     "text": [
      "n =  5\n"
     ]
    },
    {
     "data": {
      "text/html": [
       "<div>\n",
       "<table border=\"1\" class=\"dataframe\">\n",
       "  <thead>\n",
       "    <tr style=\"text-align: right;\">\n",
       "      <th></th>\n",
       "      <th>t</th>\n",
       "      <th>c</th>\n",
       "      <th>p-value</th>\n",
       "      <th>Отвергаем H_0</th>\n",
       "    </tr>\n",
       "  </thead>\n",
       "  <tbody>\n",
       "    <tr>\n",
       "      <th>0</th>\n",
       "      <td>5</td>\n",
       "      <td>4.0</td>\n",
       "      <td>0.00000</td>\n",
       "      <td>True</td>\n",
       "    </tr>\n",
       "    <tr>\n",
       "      <th>1</th>\n",
       "      <td>3</td>\n",
       "      <td>4.0</td>\n",
       "      <td>0.18750</td>\n",
       "      <td>False</td>\n",
       "    </tr>\n",
       "    <tr>\n",
       "      <th>2</th>\n",
       "      <td>4</td>\n",
       "      <td>4.0</td>\n",
       "      <td>0.03125</td>\n",
       "      <td>False</td>\n",
       "    </tr>\n",
       "    <tr>\n",
       "      <th>3</th>\n",
       "      <td>4</td>\n",
       "      <td>4.0</td>\n",
       "      <td>0.03125</td>\n",
       "      <td>False</td>\n",
       "    </tr>\n",
       "    <tr>\n",
       "      <th>4</th>\n",
       "      <td>2</td>\n",
       "      <td>4.0</td>\n",
       "      <td>0.50000</td>\n",
       "      <td>False</td>\n",
       "    </tr>\n",
       "    <tr>\n",
       "      <th>5</th>\n",
       "      <td>5</td>\n",
       "      <td>4.0</td>\n",
       "      <td>0.00000</td>\n",
       "      <td>True</td>\n",
       "    </tr>\n",
       "    <tr>\n",
       "      <th>6</th>\n",
       "      <td>5</td>\n",
       "      <td>4.0</td>\n",
       "      <td>0.00000</td>\n",
       "      <td>True</td>\n",
       "    </tr>\n",
       "    <tr>\n",
       "      <th>7</th>\n",
       "      <td>4</td>\n",
       "      <td>4.0</td>\n",
       "      <td>0.03125</td>\n",
       "      <td>False</td>\n",
       "    </tr>\n",
       "    <tr>\n",
       "      <th>8</th>\n",
       "      <td>5</td>\n",
       "      <td>4.0</td>\n",
       "      <td>0.00000</td>\n",
       "      <td>True</td>\n",
       "    </tr>\n",
       "    <tr>\n",
       "      <th>9</th>\n",
       "      <td>4</td>\n",
       "      <td>4.0</td>\n",
       "      <td>0.03125</td>\n",
       "      <td>False</td>\n",
       "    </tr>\n",
       "  </tbody>\n",
       "</table>\n",
       "</div>"
      ],
      "text/plain": [
       "   t    c  p-value Отвергаем H_0\n",
       "0  5  4.0  0.00000          True\n",
       "1  3  4.0  0.18750         False\n",
       "2  4  4.0  0.03125         False\n",
       "3  4  4.0  0.03125         False\n",
       "4  2  4.0  0.50000         False\n",
       "5  5  4.0  0.00000          True\n",
       "6  5  4.0  0.00000          True\n",
       "7  4  4.0  0.03125         False\n",
       "8  5  4.0  0.00000          True\n",
       "9  4  4.0  0.03125         False"
      ]
     },
     "execution_count": 32,
     "metadata": {},
     "output_type": "execute_result"
    }
   ],
   "source": [
    "# 1\n",
    "do_task(5, 0.75)"
   ]
  },
  {
   "cell_type": "code",
   "execution_count": 33,
   "metadata": {
    "collapsed": false,
    "deletable": true,
    "editable": true
   },
   "outputs": [
    {
     "name": "stdout",
     "output_type": "stream",
     "text": [
      "n =  100000\n"
     ]
    },
    {
     "data": {
      "text/html": [
       "<div>\n",
       "<table border=\"1\" class=\"dataframe\">\n",
       "  <thead>\n",
       "    <tr style=\"text-align: right;\">\n",
       "      <th></th>\n",
       "      <th>t</th>\n",
       "      <th>c</th>\n",
       "      <th>p-value</th>\n",
       "      <th>Отвергаем H_0</th>\n",
       "    </tr>\n",
       "  </thead>\n",
       "  <tbody>\n",
       "    <tr>\n",
       "      <th>0</th>\n",
       "      <td>51006</td>\n",
       "      <td>50260.0</td>\n",
       "      <td>9.709001e-11</td>\n",
       "      <td>True</td>\n",
       "    </tr>\n",
       "    <tr>\n",
       "      <th>1</th>\n",
       "      <td>50925</td>\n",
       "      <td>50260.0</td>\n",
       "      <td>2.406118e-09</td>\n",
       "      <td>True</td>\n",
       "    </tr>\n",
       "    <tr>\n",
       "      <th>2</th>\n",
       "      <td>50869</td>\n",
       "      <td>50260.0</td>\n",
       "      <td>1.906133e-08</td>\n",
       "      <td>True</td>\n",
       "    </tr>\n",
       "    <tr>\n",
       "      <th>3</th>\n",
       "      <td>51114</td>\n",
       "      <td>50260.0</td>\n",
       "      <td>9.010218e-13</td>\n",
       "      <td>True</td>\n",
       "    </tr>\n",
       "    <tr>\n",
       "      <th>4</th>\n",
       "      <td>51027</td>\n",
       "      <td>50260.0</td>\n",
       "      <td>4.050747e-11</td>\n",
       "      <td>True</td>\n",
       "    </tr>\n",
       "    <tr>\n",
       "      <th>5</th>\n",
       "      <td>50767</td>\n",
       "      <td>50260.0</td>\n",
       "      <td>6.044067e-07</td>\n",
       "      <td>True</td>\n",
       "    </tr>\n",
       "    <tr>\n",
       "      <th>6</th>\n",
       "      <td>50918</td>\n",
       "      <td>50260.0</td>\n",
       "      <td>3.137430e-09</td>\n",
       "      <td>True</td>\n",
       "    </tr>\n",
       "    <tr>\n",
       "      <th>7</th>\n",
       "      <td>50952</td>\n",
       "      <td>50260.0</td>\n",
       "      <td>8.491307e-10</td>\n",
       "      <td>True</td>\n",
       "    </tr>\n",
       "    <tr>\n",
       "      <th>8</th>\n",
       "      <td>50931</td>\n",
       "      <td>50260.0</td>\n",
       "      <td>1.913658e-09</td>\n",
       "      <td>True</td>\n",
       "    </tr>\n",
       "    <tr>\n",
       "      <th>9</th>\n",
       "      <td>51082</td>\n",
       "      <td>50260.0</td>\n",
       "      <td>3.781477e-12</td>\n",
       "      <td>True</td>\n",
       "    </tr>\n",
       "  </tbody>\n",
       "</table>\n",
       "</div>"
      ],
      "text/plain": [
       "       t        c       p-value Отвергаем H_0\n",
       "0  51006  50260.0  9.709001e-11          True\n",
       "1  50925  50260.0  2.406118e-09          True\n",
       "2  50869  50260.0  1.906133e-08          True\n",
       "3  51114  50260.0  9.010218e-13          True\n",
       "4  51027  50260.0  4.050747e-11          True\n",
       "5  50767  50260.0  6.044067e-07          True\n",
       "6  50918  50260.0  3.137430e-09          True\n",
       "7  50952  50260.0  8.491307e-10          True\n",
       "8  50931  50260.0  1.913658e-09          True\n",
       "9  51082  50260.0  3.781477e-12          True"
      ]
     },
     "execution_count": 33,
     "metadata": {},
     "output_type": "execute_result"
    }
   ],
   "source": [
    "# 2\n",
    "do_task(10 ** 5, 0.51)"
   ]
  },
  {
   "cell_type": "markdown",
   "metadata": {
    "deletable": true,
    "editable": true
   },
   "source": [
    "*Видно, что при увеличении выборки, мы всегда отвергаем нашу гипотезу, а при маленьком размере мы ее в основном не отвергаем.*\n",
    "\n",
    "*При очень большом размере выборки, даже небольшое отклонение p от 0.5 ощутимо проявляется на нашей статистике, и соответственно мы попадаем в критическом множество и наша гипотеза отвергается и вероятность ее получения очень мала.*"
   ]
  },
  {
   "cell_type": "markdown",
   "metadata": {
    "deletable": true,
    "editable": true
   },
   "source": [
    "Возникает задача подбора оптимального размера выборки.\n",
    "\n",
    "Для этого сначала зафиксируйте значение $p^* > 1/2$, которое будет обладать следующим свойством.\n",
    "Если истинное $p > p^*$, то такое отклонение от $1/2$ с практической точки зрения признается существенным, то есть действительно чаще случается неудача после того, как черный кот перебегает дорогу.\n",
    "В противном случае отклонение с практической точки зрения признается несущественным.\n",
    "\n",
    "Теперь для некоторых $n$ постройте графики функции мощности критерия при $1/2 < p < 1$ и уровне значимости 0.05.\n",
    "Выберите такое $n^*$, для которого функция мощности дает значение 0.8 при $p^*$.\n",
    "Для выбранного $n^*$ проведите эксперимент, аналогичный проведенным ранее экспериментам, сгенерировав выборки для следующих истинных значений $p$: 1). $1/2 < p < p^*$; 2). $p > p^*$.\n",
    "Сделайте вывод."
   ]
  },
  {
   "cell_type": "markdown",
   "metadata": {
    "deletable": true,
    "editable": true
   },
   "source": [
    "$p^* = 0.7$"
   ]
  },
  {
   "cell_type": "code",
   "execution_count": 34,
   "metadata": {
    "collapsed": false,
    "deletable": true,
    "editable": true
   },
   "outputs": [
    {
     "data": {
      "image/png": "[encoded data removed]",
      "text/plain": [
       "<matplotlib.figure.Figure at 0x7fda93784048>"
      ]
     },
     "metadata": {},
     "output_type": "display_data"
    }
   ],
   "source": [
    "p_s = 0.7\n",
    "alpha = 0.05\n",
    "def test_power(n, p_s, alpha=0.05):\n",
    "    return sps.binom.sf(sps.binom(n=n, p=0.5).ppf(1 - alpha), n=n, p=p_s)\n",
    "n = [5, 10, 30, 37, 40, 50]\n",
    "fig = plt.figure(figsize=(17,8))\n",
    "\n",
    "p = np.linspace(0.5, 1, 100)\n",
    "for i in range(6):\n",
    "    plt.plot(p, test_power(n[i], p), label=\"n = \" + str(n[i]))\n",
    "    plt.xlabel(\"p\")\n",
    "    plt.ylabel(\"Test power\")\n",
    "plt.legend(fontsize=10,loc=2)\n",
    "plt.show()\n",
    "\n",
    "def find_n_s(p_s):\n",
    "    best_n = 0\n",
    "    diff = 100000\n",
    "    for n in range(300):\n",
    "        if np.abs(test_power(n, p_s) - 0.8) < diff:\n",
    "            diff = np.abs(test_power(n, p_s) - 0.8)\n",
    "            best_n = n\n",
    "    print(best_n)\n",
    "    return best_n, diff"
   ]
  },
  {
   "cell_type": "code",
   "execution_count": 35,
   "metadata": {
    "collapsed": false,
    "deletable": true,
    "editable": true
   },
   "outputs": [
    {
     "name": "stderr",
     "output_type": "stream",
     "text": [
      "/home/sharik/.pyenv/versions/3.6.0/lib/python3.6/site-packages/scipy/stats/_discrete_distns.py:67: RuntimeWarning: floating point number truncated to an integer\n",
      "  temp = special.bdtr(vals1, n, p)\n",
      "/home/sharik/.pyenv/versions/3.6.0/lib/python3.6/site-packages/ipykernel/__main__.py:20: RuntimeWarning: invalid value encountered in absolute\n"
     ]
    },
    {
     "name": "stdout",
     "output_type": "stream",
     "text": [
      "37\n",
      "Наилучшее n:  37\n",
      "Отличие мощности от 0.8:  0.00709569165279\n"
     ]
    }
   ],
   "source": [
    "n_s, diff = find_n_s(p_s)\n",
    "print(\"Наилучшее n: \", n_s)\n",
    "print(\"Отличие мощности от 0.8: \", diff)"
   ]
  },
  {
   "cell_type": "code",
   "execution_count": 36,
   "metadata": {
    "collapsed": false,
    "deletable": true,
    "editable": true
   },
   "outputs": [
    {
     "name": "stdout",
     "output_type": "stream",
     "text": [
      "n =  37\n"
     ]
    },
    {
     "data": {
      "text/html": [
       "<div>\n",
       "<table border=\"1\" class=\"dataframe\">\n",
       "  <thead>\n",
       "    <tr style=\"text-align: right;\">\n",
       "      <th></th>\n",
       "      <th>t</th>\n",
       "      <th>c</th>\n",
       "      <th>p-value</th>\n",
       "      <th>Отвергаем H_0</th>\n",
       "    </tr>\n",
       "  </thead>\n",
       "  <tbody>\n",
       "    <tr>\n",
       "      <th>0</th>\n",
       "      <td>18</td>\n",
       "      <td>23.0</td>\n",
       "      <td>0.500000</td>\n",
       "      <td>False</td>\n",
       "    </tr>\n",
       "    <tr>\n",
       "      <th>1</th>\n",
       "      <td>20</td>\n",
       "      <td>23.0</td>\n",
       "      <td>0.255688</td>\n",
       "      <td>False</td>\n",
       "    </tr>\n",
       "    <tr>\n",
       "      <th>2</th>\n",
       "      <td>17</td>\n",
       "      <td>23.0</td>\n",
       "      <td>0.628585</td>\n",
       "      <td>False</td>\n",
       "    </tr>\n",
       "    <tr>\n",
       "      <th>3</th>\n",
       "      <td>19</td>\n",
       "      <td>23.0</td>\n",
       "      <td>0.371415</td>\n",
       "      <td>False</td>\n",
       "    </tr>\n",
       "    <tr>\n",
       "      <th>4</th>\n",
       "      <td>22</td>\n",
       "      <td>23.0</td>\n",
       "      <td>0.093871</td>\n",
       "      <td>False</td>\n",
       "    </tr>\n",
       "    <tr>\n",
       "      <th>5</th>\n",
       "      <td>28</td>\n",
       "      <td>23.0</td>\n",
       "      <td>0.000376</td>\n",
       "      <td>True</td>\n",
       "    </tr>\n",
       "    <tr>\n",
       "      <th>6</th>\n",
       "      <td>22</td>\n",
       "      <td>23.0</td>\n",
       "      <td>0.093871</td>\n",
       "      <td>False</td>\n",
       "    </tr>\n",
       "    <tr>\n",
       "      <th>7</th>\n",
       "      <td>23</td>\n",
       "      <td>23.0</td>\n",
       "      <td>0.049436</td>\n",
       "      <td>False</td>\n",
       "    </tr>\n",
       "    <tr>\n",
       "      <th>8</th>\n",
       "      <td>25</td>\n",
       "      <td>23.0</td>\n",
       "      <td>0.010037</td>\n",
       "      <td>True</td>\n",
       "    </tr>\n",
       "    <tr>\n",
       "      <th>9</th>\n",
       "      <td>14</td>\n",
       "      <td>23.0</td>\n",
       "      <td>0.906129</td>\n",
       "      <td>False</td>\n",
       "    </tr>\n",
       "  </tbody>\n",
       "</table>\n",
       "</div>"
      ],
      "text/plain": [
       "    t     c   p-value Отвергаем H_0\n",
       "0  18  23.0  0.500000         False\n",
       "1  20  23.0  0.255688         False\n",
       "2  17  23.0  0.628585         False\n",
       "3  19  23.0  0.371415         False\n",
       "4  22  23.0  0.093871         False\n",
       "5  28  23.0  0.000376          True\n",
       "6  22  23.0  0.093871         False\n",
       "7  23  23.0  0.049436         False\n",
       "8  25  23.0  0.010037          True\n",
       "9  14  23.0  0.906129         False"
      ]
     },
     "execution_count": 36,
     "metadata": {},
     "output_type": "execute_result"
    }
   ],
   "source": [
    "# Проведем эксперимент, аналогичный проведенным ранее.\n",
    "# 1/2 < p < 0.7\n",
    "do_task(n_s, 0.58)"
   ]
  },
  {
   "cell_type": "code",
   "execution_count": 37,
   "metadata": {
    "collapsed": false,
    "deletable": true,
    "editable": true
   },
   "outputs": [
    {
     "name": "stdout",
     "output_type": "stream",
     "text": [
      "n =  37\n"
     ]
    },
    {
     "data": {
      "text/html": [
       "<div>\n",
       "<table border=\"1\" class=\"dataframe\">\n",
       "  <thead>\n",
       "    <tr style=\"text-align: right;\">\n",
       "      <th></th>\n",
       "      <th>t</th>\n",
       "      <th>c</th>\n",
       "      <th>p-value</th>\n",
       "      <th>Отвергаем H_0</th>\n",
       "    </tr>\n",
       "  </thead>\n",
       "  <tbody>\n",
       "    <tr>\n",
       "      <th>0</th>\n",
       "      <td>32</td>\n",
       "      <td>23.0</td>\n",
       "      <td>5.421971e-07</td>\n",
       "      <td>True</td>\n",
       "    </tr>\n",
       "    <tr>\n",
       "      <th>1</th>\n",
       "      <td>33</td>\n",
       "      <td>23.0</td>\n",
       "      <td>6.165646e-08</td>\n",
       "      <td>True</td>\n",
       "    </tr>\n",
       "    <tr>\n",
       "      <th>2</th>\n",
       "      <td>34</td>\n",
       "      <td>23.0</td>\n",
       "      <td>5.122274e-09</td>\n",
       "      <td>True</td>\n",
       "    </tr>\n",
       "    <tr>\n",
       "      <th>3</th>\n",
       "      <td>32</td>\n",
       "      <td>23.0</td>\n",
       "      <td>5.421971e-07</td>\n",
       "      <td>True</td>\n",
       "    </tr>\n",
       "    <tr>\n",
       "      <th>4</th>\n",
       "      <td>36</td>\n",
       "      <td>23.0</td>\n",
       "      <td>7.275958e-12</td>\n",
       "      <td>True</td>\n",
       "    </tr>\n",
       "    <tr>\n",
       "      <th>5</th>\n",
       "      <td>37</td>\n",
       "      <td>23.0</td>\n",
       "      <td>0.000000e+00</td>\n",
       "      <td>True</td>\n",
       "    </tr>\n",
       "    <tr>\n",
       "      <th>6</th>\n",
       "      <td>31</td>\n",
       "      <td>23.0</td>\n",
       "      <td>3.713765e-06</td>\n",
       "      <td>True</td>\n",
       "    </tr>\n",
       "    <tr>\n",
       "      <th>7</th>\n",
       "      <td>31</td>\n",
       "      <td>23.0</td>\n",
       "      <td>3.713765e-06</td>\n",
       "      <td>True</td>\n",
       "    </tr>\n",
       "    <tr>\n",
       "      <th>8</th>\n",
       "      <td>33</td>\n",
       "      <td>23.0</td>\n",
       "      <td>6.165646e-08</td>\n",
       "      <td>True</td>\n",
       "    </tr>\n",
       "    <tr>\n",
       "      <th>9</th>\n",
       "      <td>35</td>\n",
       "      <td>23.0</td>\n",
       "      <td>2.764864e-10</td>\n",
       "      <td>True</td>\n",
       "    </tr>\n",
       "  </tbody>\n",
       "</table>\n",
       "</div>"
      ],
      "text/plain": [
       "    t     c       p-value Отвергаем H_0\n",
       "0  32  23.0  5.421971e-07          True\n",
       "1  33  23.0  6.165646e-08          True\n",
       "2  34  23.0  5.122274e-09          True\n",
       "3  32  23.0  5.421971e-07          True\n",
       "4  36  23.0  7.275958e-12          True\n",
       "5  37  23.0  0.000000e+00          True\n",
       "6  31  23.0  3.713765e-06          True\n",
       "7  31  23.0  3.713765e-06          True\n",
       "8  33  23.0  6.165646e-08          True\n",
       "9  35  23.0  2.764864e-10          True"
      ]
     },
     "execution_count": 37,
     "metadata": {},
     "output_type": "execute_result"
    }
   ],
   "source": [
    "# p > 0.7\n",
    "do_task(n_s, 0.9)"
   ]
  },
  {
   "cell_type": "markdown",
   "metadata": {
    "deletable": true,
    "editable": true
   },
   "source": [
    "**Вывод:** В первом случае мы в большинстве случаев принимаем гипотезу, а во втором всегда отвергаем."
   ]
  },
  {
   "cell_type": "markdown",
   "metadata": {
    "deletable": true,
    "editable": true
   },
   "source": [
    "### Справка для выполнения следующих задач\n",
    "\n",
    "**Критерий согласия хи-квадрат**\n",
    "\n",
    "<a href=https://docs.scipy.org/doc/scipy/reference/generated/scipy.stats.chisquare.html#scipy.stats.chisquare>`scipy.stats.chisquare`</a>`(f_obs, f_exp=None, ddof=0)`\n",
    "\n",
    "`f_obs` --- число элементов выборки, попавших в каждый из интервалов\n",
    "\n",
    "`f_exp` --- ожидаемое число элементов выборки (по умолчанию равномерное)\n",
    "\n",
    "`ddof` --- поправка на число степеней свободы. Статистика асимптотически будет иметь распределение хи-квадрат с числом степеней свободы $k - 1 - ddof$, где $k$ --- число интервалов.\n",
    "\n",
    "Возвращает значение статистики критерия и соответствующее p-value.\n",
    "\n",
    "**Критерий согласия Колмогорова**\n",
    "\n",
    "<a href=https://docs.scipy.org/doc/scipy/reference/generated/scipy.stats.kstest.html#scipy.stats.kstest>`scipy.stats.kstest`</a>`(rvs, cdf, args=())`\n",
    "\n",
    "`rvs` --- выборка\n",
    "\n",
    "`cdf` --- функция распределения (сама функция или ее название)\n",
    "\n",
    "`args` --- параметры распределения\n",
    "\n",
    "Возвращает значение статистики критерия и соответствующее p-value."
   ]
  },
  {
   "cell_type": "markdown",
   "metadata": {
    "deletable": true,
    "editable": true
   },
   "source": [
    "**Задача 7.**\n",
    "\n",
    "* Проверьте, что ваша выборка значений скорости ветра из задания 2 действительно согласуется с распределением Вейбулла.\n",
    "\n",
    "* Проверьте, что при больших $n$ распределение статистики из задач 3 и 4 задания 2 действительно хорошо приближают предельное распределение.\n",
    "\n",
    "* Проверьте, что остатки в регрессии из задач выше нормальны.\n",
    "\n",
    "* Подберите класс распределений для выборки количества друзей из задания 1.\n",
    "\n",
    "Использовать можно два описанных выше критерия, либо любой другой критерий, если будет обоснована необходимость его применения в данной задаче, а так же будет приведено краткое описание критерия.\n",
    "Уровень значимости взять равным 0.05."
   ]
  },
  {
   "cell_type": "code",
   "execution_count": 38,
   "metadata": {
    "collapsed": true,
    "deletable": true,
    "editable": true
   },
   "outputs": [],
   "source": [
    "significance_level = 0.05"
   ]
  },
  {
   "cell_type": "markdown",
   "metadata": {
    "deletable": true,
    "editable": true
   },
   "source": [
    "* **Проверьте, что ваша выборка значений скорости ветра из задания 2 действительно согласуется с распределением Вейбулла.**"
   ]
  },
  {
   "cell_type": "code",
   "execution_count": 39,
   "metadata": {
    "collapsed": true,
    "deletable": true,
    "editable": true
   },
   "outputs": [],
   "source": [
    "sample = np.array([13.4,4.5,12.2,7.4,5.7,5.7,14.6,9,14.4,9.1,7.7,8.7,\n",
    "12.5,2.3,12.5,6,2.9,6.8,7,6.5,8.5,9.3,9.5,7,\n",
    "9.3,5.4,13.7,8.6,7.7,7,2.2,8.5,5.4,5.8,7.2,4.3,\n",
    "4.3,2.3,8.7,2.9,11,11,5.2,8.8,3.8,4.8,5.1,8.9,\n",
    "8.7,2.6,14,1,9.5,6,4.8,2.8,4.6,2,5.5,7.7,\n",
    "14.5,0.7,11.7,2.5,6.3,2,6.3,3.5,5.8,3,7,9.2,\n",
    "10,7.5,8,11.1,2.3,6.5,7.5,8.3,3,7.4,7,16.5,\n",
    "8.7,8.5,6.3,8.4,6.5,4.7,9.7,6.5,3.4,10.3,8.7,10.7,\n",
    "12.5,2,8,8,8.3,4.5,11.5,4.8,6,9.9,8.2,11.1,\n",
    "9.7,5.7,5.2,6.3,5.5,1.1,5.1,3.3,6.2,6.3,7.7,14.6,\n",
    "2.9,3,5.4,3.4,3.3,4.7,4,5.8,1.5,12.6,7.2,11.1,\n",
    "6.8,7,6,2.6,4,4.3,5.8,5.5,7.5,9.3,6.8,10.5,\n",
    "8.5,5.3,7.9,3.6,4.9,3.8,1.7,6.2,3.3,10.3,8.5,8.9,\n",
    "6.3,10.6,9.4,4.4,4.5,4.5,2,8.3,4.5,6.8,5.3,9.7,\n",
    "6.8,10,5.7,3.3,4.9,4.3,1.7,5.3,5.8,2,5.5,12,\n",
    "7,6,8,5.3,7.1,4.2,3.7,6.3,5,9.2,6.5,9.5,\n",
    "9.1,5.5,8.5,4.3,4,3.4,6.3,7,4.2,7.7,3.3,3,\n",
    "10.8,6.9,10.6,10.3,3.5,7.1,8.3,6.8,11,0.7,2.6,\n",
    "12.8,4,12,5.1,11.7,9.8,6.3,3.8,7,5.2,5.5,9.2,\n",
    "12,4.6,12,4.5,9.9,8.5,7.5,2.5,7.7,4.5,7.7,13,\n",
    "12.3,11.4,13.2,4.8,7.4,6.2,4,3.5,8,9.5,2.5,12.2,\n",
    "12,4.4,13,7.4,8,3,3,6.5,10.5,9.7,11.2,4.7,\n",
    "8.3,2.9,7.7,10.8,5.1,3.5,2.5,4,8,7.2,13.7,2.2,\n",
    "4.6,3.3,12,2.4,5.2,1.7,3.2,3.5,10,5.7,4,\n",
    "1.4,11.4,8,4.9,6.2,4.8,10.5,0.5,2,7,5.3,4.9,\n",
    "0.9,8.8,9.6,4.5,3.2,4,7.7,4,2.2,6,4.5,7,\n",
    "3.7,8.2,5.7,5.8,4.5,3.5,2.6,5.8,2.7,8.2,3.7,6,\n",
    "6.9,15,5.2,7.1,6.8,6,8.2,6,3.5,13.2,8,8,\n",
    "10,3.8,6.9,5.5,8.5,9,7.5,6.8,11.2,7.5,12.6,\n",
    "9.8,10.7,5.4,7,10.3,10,8.8,7,10.5,1.3,13.4,\n",
    "8.7,11.7,10.2,12.7,6.3,10])\n",
    "c=2.270380\n",
    "scale=7.734840"
   ]
  },
  {
   "cell_type": "code",
   "execution_count": 40,
   "metadata": {
    "collapsed": false,
    "deletable": true,
    "editable": true
   },
   "outputs": [
    {
     "data": {
      "text/plain": [
       "KstestResult(statistic=0.023181946111633489, pvalue=0.98998968731065018)"
      ]
     },
     "execution_count": 40,
     "metadata": {},
     "output_type": "execute_result"
    }
   ],
   "source": [
    "sps.kstest(sample, sps.weibull_min(c=c, scale=scale).cdf)"
   ]
  },
  {
   "cell_type": "markdown",
   "metadata": {
    "deletable": true,
    "editable": true
   },
   "source": [
    "*Действительно, распределение скоростей ветра хорошо согласуется с распределением Вейбулла*"
   ]
  },
  {
   "cell_type": "markdown",
   "metadata": {
    "deletable": true,
    "editable": true
   },
   "source": [
    "* **Проверьте, что при больших $n$ распределение статистики из задач 3 и 4 задания 2 действительно хорошо приближают предельное распределение.** "
   ]
  },
  {
   "cell_type": "markdown",
   "metadata": {
    "deletable": true,
    "editable": true
   },
   "source": [
    "##### №3 a)"
   ]
  },
  {
   "cell_type": "code",
   "execution_count": 21,
   "metadata": {
    "collapsed": false,
    "deletable": true,
    "editable": true
   },
   "outputs": [
    {
     "name": "stdout",
     "output_type": "stream",
     "text": [
      "(200, 300)\n"
     ]
    },
    {
     "data": {
      "text/plain": [
       "KstestResult(statistic=0.085167366989248539, pvalue=0.10366636020326792)"
      ]
     },
     "execution_count": 21,
     "metadata": {},
     "output_type": "execute_result"
    }
   ],
   "source": [
    "theta = 0\n",
    "sample = sps.norm(loc=theta).rvs(size=(200, 300))\n",
    "estimation_values = sample.cumsum(axis=1)/np.arange(1, 301, 1.)\n",
    "print(estimation_values.shape)\n",
    "statistic_values = (estimation_values-theta) * np.linspace(1, 300, 300) ** 0.5\n",
    "T_values = statistic_values[:, -1]\n",
    "sps.kstest(T_values, sps.norm.cdf)"
   ]
  },
  {
   "cell_type": "markdown",
   "metadata": {
    "deletable": true,
    "editable": true
   },
   "source": [
    "*Действительно, распределение статистики хорошо приближает предельное распределение $\\mathcal{N}(\\theta, 1)$.*"
   ]
  },
  {
   "cell_type": "markdown",
   "metadata": {
    "deletable": true,
    "editable": true
   },
   "source": [
    "##### №3 b)"
   ]
  },
  {
   "cell_type": "code",
   "execution_count": 43,
   "metadata": {
    "collapsed": false,
    "deletable": true,
    "editable": true
   },
   "outputs": [
    {
     "data": {
      "text/plain": [
       "KstestResult(statistic=0.066979846386019559, pvalue=0.31795143947223226)"
      ]
     },
     "execution_count": 43,
     "metadata": {},
     "output_type": "execute_result"
    }
   ],
   "source": [
    "theta = 1\n",
    "sample = sps.poisson.rvs(mu=theta, size=(200, 300))\n",
    "estimation_values = sample.cumsum(axis=1)/np.arange(1, 301, 1.)\n",
    "statistic_values = (estimation_values - theta) * np.linspace(1, 300, 300) ** 0.5\n",
    "T_values = statistic_values[:, -1]\n",
    "sps.kstest(T_values, sps.norm.cdf)"
   ]
  },
  {
   "cell_type": "markdown",
   "metadata": {
    "deletable": true,
    "editable": true
   },
   "source": [
    "*Действительно, распределение статистики хорошо приближает предельное распределение $Pois(\\theta)$.*"
   ]
  },
  {
   "cell_type": "markdown",
   "metadata": {
    "deletable": true,
    "editable": true
   },
   "source": [
    "##### №4"
   ]
  },
  {
   "cell_type": "code",
   "execution_count": 38,
   "metadata": {
    "collapsed": false,
    "deletable": true,
    "editable": true
   },
   "outputs": [
    {
     "data": {
      "text/plain": [
       "KstestResult(statistic=0.76537314559590164, pvalue=0.0)"
      ]
     },
     "execution_count": 38,
     "metadata": {},
     "output_type": "execute_result"
    }
   ],
   "source": [
    "theta = 4\n",
    "sample = sps.uniform(loc=0, scale=theta).rvs(size=(200, 300))\n",
    "estimation_values = np.maximum.accumulate(sample, axis=1)\n",
    "statistic_values = (theta-estimation_values) * np.arange(1, 301, 1)\n",
    "T_values = statistic_values[:, -1]\n",
    "sps.kstest(T_values, sps.expon(scale=1/theta).cdf)"
   ]
  },
  {
   "cell_type": "markdown",
   "metadata": {
    "deletable": true,
    "editable": true
   },
   "source": [
    "*Действительно, распределение статистики хорошо приближает предельное распределение $U[0, \\theta]$.*"
   ]
  },
  {
   "cell_type": "markdown",
   "metadata": {},
   "source": [
    "* **Проверьте, что остатки в регрессии из задач выше нормальны.**"
   ]
  },
  {
   "cell_type": "markdown",
   "metadata": {},
   "source": [
    "Для примера возьмём задачу про мороженое"
   ]
  },
  {
   "cell_type": "code",
   "execution_count": 63,
   "metadata": {
    "collapsed": true
   },
   "outputs": [],
   "source": [
    "# Времени нет решить"
   ]
  },
  {
   "cell_type": "markdown",
   "metadata": {
    "deletable": true,
    "editable": true
   },
   "source": [
    "* **Подберите класс распределений для выборки количества друзей из задания 1.**"
   ]
  },
  {
   "cell_type": "code",
   "execution_count": 130,
   "metadata": {
    "collapsed": true,
    "deletable": true,
    "editable": true
   },
   "outputs": [],
   "source": [
    "sample_str = \"\"\"[   0.    0.    0.    0.    1.    2.    2.    3.    9.   12.   17.   20.\n",
    "   20.   20.   24.   26.   29.   30.   32.   32.   36.   37.   39.   40.\n",
    "   40.   42.   42.   45.   48.   51.   52.   57.   58.   59.   63.   65.\n",
    "   66.   68.   69.   69.   69.   70.   74.   76.   82.   86.   86.   92.\n",
    "   96.   99.   99.  100.  103.  104.  105.  106.  106.  107.  111.  111.\n",
    "  111.  112.  113.  114.  114.  115.  116.  118.  120.  120.  122.  123.\n",
    "  123.  123.  125.  126.  126.  130.  130.  131.  132.  132.  132.  134.\n",
    "  135.  135.  136.  136.  137.  137.  137.  139.  141.  141.  141.  145.\n",
    "  145.  145.  148.  148.  149.  154.  155.  158.  159.  162.  163.  163.\n",
    "  163.  164.  166.  166.  167.  168.  168.  170.  171.  172.  174.  174.\n",
    "  176.  179.  179.  180.  180.  180.  183.  183.  185.  188.  191.  192.\n",
    "  193.  194.  194.  195.  196.  198.  202.  202.  204.  205.  206.  207.\n",
    "  208.  210.  211.  214.  215.  216.  216.  216.  217.  217.  221.  224.\n",
    "  229.  237.  241.  241.  243.  247.  248.  250.  250.  252.  258.  260.\n",
    "  261.  264.  266.  269.  271.  272.  273.  283.  285.  285.  291.  291.\n",
    "  291.  293.  293.  295.  297.  300.  311.  313.  314.  314.  317.  317.\n",
    "  318.  320.  322.  323.  325.  326.  327.  335.  337.  340.  344.  345.\n",
    "  345.  347.  347.  351.  357.  357.  359.  362.  367.  369.  372.  374.\n",
    "  377.  377.  378.  379.  387.  393.  395.  398.  400.  400.  416.  416.\n",
    "  421.  436.  442.  446.  452.  453.  455.  479.  480.  481.  486.  490.\n",
    "  499.  502.  517.  532.  536.  552.  566.  584.  603.  606.  611.  771.\n",
    "  904.]\"\"\""
   ]
  },
  {
   "cell_type": "code",
   "execution_count": 133,
   "metadata": {
    "collapsed": false,
    "deletable": true,
    "editable": true
   },
   "outputs": [],
   "source": [
    "sample = np.array(sample_str)"
   ]
  },
  {
   "cell_type": "code",
   "execution_count": 64,
   "metadata": {
    "collapsed": false,
    "deletable": true,
    "editable": true
   },
   "outputs": [
    {
     "name": "stderr",
     "output_type": "stream",
     "text": [
      "/home/sharik/.pyenv/versions/3.6.0/lib/python3.6/site-packages/scipy/stats/_distn_infrastructure.py:1728: RuntimeWarning: divide by zero encountered in true_divide\n",
      "  x = np.asarray((x - loc)/scale, dtype=dtyp)\n"
     ]
    },
    {
     "name": "stdout",
     "output_type": "stream",
     "text": [
      "\n",
      "loc = 1.010101, scale = 5.050505\n"
     ]
    },
    {
     "data": {
      "text/plain": [
       "KstestResult(statistic=0.06401103660423102, pvalue=0.098571141711415011)"
      ]
     },
     "execution_count": 64,
     "metadata": {},
     "output_type": "execute_result"
    },
    {
     "data": {
      "image/png": "[encoded data removed]",
      "text/plain": [
       "<matplotlib.figure.Figure at 0x7fdaa24ce240>"
      ]
     },
     "metadata": {},
     "output_type": "display_data"
    }
   ],
   "source": [
    "# Удобно смотреть по такому графику \n",
    "# (https://docs.scipy.org/doc/scipy-0.14.0/reference/generated/scipy.stats.probplot.html)\n",
    "sps.probplot(x=sample, dist=sps.rayleigh, plot=plt)\n",
    "\n",
    "# Поиск по сетке с двумя итерациями\n",
    "mloc, mscale = 0, 0\n",
    "max_pvalue = 0\n",
    "for loc in np.linspace(0, 500, 100):\n",
    "    #print(loc/1000, end=' ')\n",
    "    for scale in np.linspace(0, 500, 100):\n",
    "        pvalue = sps.kstest(sample, sps.rayleigh(loc=loc, scale=scale).cdf).pvalue\n",
    "        if pvalue > max_pvalue:\n",
    "            max_pvalue = pvalue\n",
    "            mloc = loc\n",
    "            mscale = scale\n",
    "for loc in np.linspace(0, 100, 100):\n",
    "    #print(loc/1000, end=' ')\n",
    "    for scale in np.linspace(0, 100, 100):\n",
    "        pvalue = sps.kstest(sample, sps.rayleigh(loc=loc, scale=scale).cdf).pvalue\n",
    "        if pvalue > max_pvalue:\n",
    "            max_pvalue = pvalue\n",
    "            mloc = loc\n",
    "            mscale = scale\n",
    "print()\n",
    "print(\"loc = %f, scale = %f\"%(mloc, mscale))\n",
    "sps.kstest(sample, sps.rayleigh(loc=mloc, scale=mscale).cdf)"
   ]
  },
  {
   "cell_type": "markdown",
   "metadata": {},
   "source": [
    "Внезапно, распределение Релэя подходит по картинке (экспоненциальное и нормальное подходили хуже).\n",
    "Параметры из поиска по сетке — loc = 1.010101, scale = 5.050505.\n",
    "Удовлетворяют критерию."
   ]
  },
  {
   "cell_type": "markdown",
   "metadata": {
    "deletable": true,
    "editable": true
   },
   "source": [
    "**Вывод:** Критерии хи-квадрат и Колмогорова почти всегда работают."
   ]
  },
  {
   "cell_type": "markdown",
   "metadata": {
    "deletable": true,
    "editable": true
   },
   "source": [
    "**Задача 8<font size=\"5\" color=\"red\">\\*</font>.** Проведите исследование согласно примеру 2 параграфа 2 главы 18 книги М.Б. Лагутина \"Наглядная математическая статистика\"."
   ]
  },
  {
   "cell_type": "markdown",
   "metadata": {
    "deletable": true,
    "editable": true
   },
   "source": [
    "**Задача 9<font size=\"5\" color=\"red\">\\*</font>.** \n",
    "Изучите Q-Q plot и критерий Шапиро-Уилка для проверки нормальности, напишите их теоретическое пояснение.\n",
    "В изучении могут помочь материалы курса <a href=\"http://wiki.cs.hse.ru/%D0%9F%D1%80%D0%B8%D0%BA%D0%BB%D0%B0%D0%B4%D0%BD%D0%BE%D0%B9_%D1%81%D1%82%D0%B0%D1%82%D0%B8%D1%81%D1%82%D0%B8%D1%87%D0%B5%D1%81%D0%BA%D0%B8%D0%B9_%D0%B0%D0%BD%D0%B0%D0%BB%D0%B8%D0%B7_%D0%B4%D0%B0%D0%BD%D0%BD%D1%8B%D1%85\"> ПСАД</a>.\n",
    "\n",
    "Постройте графики Q-Q plot для различных распределений и дайте к ним пояснение.\n",
    "Проверьте различные данные на нормальность с помощью различных критериев и Q-Q plot.\n",
    "Данные можно использовать из задачи 7 или какие-либо еще, например, отдельные компоненты из Ирисов Фишера.\n",
    "Постарайтесь так же правильно контролировать вероятность общей ошибки первого рода."
   ]
  }
 ],
 "metadata": {
  "kernelspec": {
   "display_name": "Python 3",
   "language": "python",
   "name": "python3"
  },
  "language_info": {
   "codemirror_mode": {
    "name": "ipython",
    "version": 3
   },
   "file_extension": ".py",
   "mimetype": "text/x-python",
   "name": "python",
   "nbconvert_exporter": "python",
   "pygments_lexer": "ipython3",
   "version": "3.6.0"
  }
 },
 "nbformat": 4,
 "nbformat_minor": 0
}
