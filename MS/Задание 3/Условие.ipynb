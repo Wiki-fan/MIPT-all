{
 "cells": [
  {
   "cell_type": "markdown",
   "metadata": {
    "deletable": true,
    "editable": true
   },
   "source": [
    "# Математическая статистика\n",
    "## Практическое задание 3\n",
    "\n",
    "В данном задании рассматриваются свойства условного математического ожидания. В частности, рассматривается модель смеси гауссовских распределений.\n",
    "\n",
    "**Правила:**\n",
    "\n",
    "* Выполненную работу нужно отправить на почту `probability.diht@yandex.ru`, указав тему письма `\"[номер группы] Фамилия Имя - Задание 3\"`. Квадратные скобки обязательны. Вместо `Фамилия Имя` нужно подставить свои фамилию и имя.\n",
    "* Прислать нужно ноутбук и его pdf-версию. Названия файлов должны быть такими: `3.N.ipynb` и `3.N.pdf`, где `N` - ваш номер из таблицы с оценками.\n",
    "* Никакой код из данного задания при проверке запускаться не будет.\n",
    "* Некоторые задачи отмечены символом <font size=\"5\" color=\"red\">\\*</font>. Эти задачи являются дополнительными. Успешное выполнение большей части таких задач (за все задания) является необходимым условием получения бонусного балла за практическую часть курса.\n",
    "* Баллы за каждую задачу указаны далее. Если сумма баллов за задание меньше 25% (без учета доп. задач), то все задание оценивается в 0 баллов.\n",
    "\n",
    "\n",
    "**Баллы за задание:**\n",
    "\n",
    "* Задача 1 - 3 балла\n",
    "* Задача 2 - 1 балл\n",
    "* Задача 3 - 2 балла\n",
    "* Задача 4 - 7 баллов\n",
    "* Задача 5<font size=\"5\" color=\"red\">\\*</font> - 10 баллов"
   ]
  },
  {
   "cell_type": "markdown",
   "metadata": {
    "deletable": true,
    "editable": true
   },
   "source": [
    "**Задача 1.** На вероятностном пространстве $\\left(\\mathbb{R}_+, \\mathcal{B}(\\mathbb{R}_+), \\mathsf{P}\\right)$, где $\\mathsf{P}$ --- экспоненциальное распределение с параметром $\\lambda$, задана случайная величина $\\xi$ по правилу $\\xi(\\omega) = \\omega$. Cигма-алгебра $\\mathcal{G}$ порождена счетной системой событий $\\{B_n\\}_{n\\geq1},$ где $B_n = \\{n-1\\leq \\omega<n\\}.$. Для $\\omega \\in [0, 5]$ постройте графики \n",
    "* плотности распределения $\\mathsf{P}$ для $\\lambda \\in \\{1, 3, 10\\}$\n",
    "* $\\xi$ и $\\mathsf{E}(\\xi | \\mathcal{G})$ как функции от $\\omega$ для $\\lambda \\in \\{1, 3, 10\\}$\n",
    "* $\\xi^2$ и $\\mathsf{E}(\\xi^2 | \\mathcal{G})$ как функции от $\\omega$ для $\\lambda \\in \\{1, 3, 10\\}$\n",
    "\n",
    "Используйте приведенный ниже шаблон. Одному и тому же значению $\\lambda$ во всех графиках должен соответствовать один и тот же цвет."
   ]
  },
  {
   "cell_type": "code",
   "execution_count": null,
   "metadata": {
    "collapsed": false,
    "deletable": true,
    "editable": true
   },
   "outputs": [],
   "source": [
    "# График 1\n",
    "plt.figure(figsize=(15, 4))\n",
    "plt.plot(..., lw=3, color=color, label='$\\\\lambda={}$'.format(l))\n",
    "plt.legend(fontsize=16)\n",
    "plt.ylim((0, 2))\n",
    "plt.grid(ls=':')\n",
    "\n",
    "# График 2\n",
    "plt.figure(figsize=(15, 5))\n",
    "plt.plot(..., lw=3, label='$\\\\xi$')\n",
    "for i in ...:  # события из сигма-алгебры\n",
    "    plt.hlines(..., color=color, lw=3,\n",
    "               label=('$\\\\mathsf{E}(\\\\xi|\\\\mathcal{G})$ при $\\\\lambda = ' + str(l) \n",
    "                      + '$') if i == 1 else '')\n",
    "plt.xlabel('$\\\\Omega$', fontsize=20)\n",
    "plt.legend(fontsize=16)\n",
    "plt.grid(ls=':')\n",
    "\n",
    "# График 3 для \\xi^2 аналогичен графику 2"
   ]
  },
  {
   "cell_type": "markdown",
   "metadata": {
    "deletable": true,
    "editable": true
   },
   "source": [
    "**Вывод:**\n",
    "..."
   ]
  },
  {
   "cell_type": "markdown",
   "metadata": {
    "deletable": true,
    "editable": true
   },
   "source": [
    "**Задача 2.** \n",
    "Пусть $\\xi = (\\xi_1, \\xi_2) \\sim \\mathcal{N}(a, \\Sigma)$, где $a=0$ и $\\Sigma = \\begin{pmatrix}10 & 8 \\\\ 8 & 10\\end{pmatrix}$. Для $y \\in \\{-3, 0, 1, 5\\}$ постройте графики условной плотности $f_{\\left.\\xi_1\\right|\\xi_2} \\left(x\\left|y\\right.\\right)$."
   ]
  },
  {
   "cell_type": "markdown",
   "metadata": {
    "deletable": true,
    "editable": true
   },
   "source": [
    "**Вывод:**\n",
    "..."
   ]
  },
  {
   "cell_type": "markdown",
   "metadata": {
    "deletable": true,
    "editable": true
   },
   "source": [
    "**Задача 3.**\n",
    "Имеется множество серверов, которые периодически выходят из строя. \n",
    "Обозначим $\\xi_i$ время между $i$-м моментом выхода из строя сервера и $(i+1)$-м.\n",
    "Известно, что величины $\\xi_i$ независимы в совокупности и имеют экспоненциальное распределение с параметром $\\lambda$.\n",
    "\n",
    "Обозначим $N_t$ --- количество серверов, которые вышли из строя к моменту времени $t$ (в начальный момент времени $N_0 = 0$).\n",
    "В курсе случайных процессов будет доказано, что для любых $s < t$ величина $N_t - N_s \\sim Pois(\\lambda (t - s))$ и независима с $N_s$.\n",
    "При этом $N_t$ как функция от $t$ будет называться пуассоновским процессом интенсивности $\\lambda$.\n",
    "\n",
    "Вам нужно знать, сколько серверов нужно докупить к моменту времени $t$ взамен вышедших из строя.\n",
    "В момент времени $s$ предсказанием количества серверов, вышедших из строя к моменту времени $t$, будем считать величину $\\mathsf{E}( N_t | N_s)$.\n",
    "\n",
    "Сгенерируйте выборку случайных величин $\\xi_i$ для $\\lambda = 1/4$ в количестве, чтобы их сумма была больше 100.\n",
    "Для $t=100$ постройте графики зависимости величины $\\mathsf{E}( N_t | N_s)$ от $s$ в предополжении, что условное математическое ожидание было посчитано при значении $\\lambda \\in \\{1/10, 1/4, 1/2, 1\\}$. Нарисуйте также на графике горизонтальную прямую уровня $N_{100}$."
   ]
  },
  {
   "cell_type": "markdown",
   "metadata": {
    "deletable": true,
    "editable": true
   },
   "source": [
    "**Вывод:** ..."
   ]
  },
  {
   "cell_type": "markdown",
   "metadata": {
    "deletable": true,
    "editable": true
   },
   "source": [
    "**Задача 4.** \n",
    "Рассмотрим модель смеси многомерных гауссовских распределений, то есть распределение, имеющее плотность $p(x) = \\sum\\limits_{k=1}^K p_k(x) \\mathsf{P}(T = k),$ где $T$ --- случайная величина, принимающая значения $\\{1, ..., K\\}$ и имеющая смысл номера компоненты смеси, а $p_k(x)$ --- плотность распределения $N(a_k, \\Sigma_k)$.\n",
    "\n",
    "\n",
    "Загрузите датасет \"Ирисы Фишера\", используя следующий код."
   ]
  },
  {
   "cell_type": "code",
   "execution_count": null,
   "metadata": {
    "collapsed": false,
    "deletable": true,
    "editable": true
   },
   "outputs": [],
   "source": [
    "from sklearn.datasets import load_iris\n",
    "data = load_iris()\n",
    "data['data']  # выборка\n",
    "data['target']  # номера компонент смеси"
   ]
  },
  {
   "cell_type": "markdown",
   "metadata": {
    "deletable": true,
    "editable": true
   },
   "source": [
    "В предположении, что каждый класс имеет гауссовское распределение, оцените его параметры. Используйте для этого функции `numpy.mean` и `numpy.cov`. Проверьте, что матрица ковариаций получилась правильной --- возможно, придется предварительно поменять порядок осей (транспонировать). Напечатайте полученные оценки."
   ]
  },
  {
   "cell_type": "code",
   "execution_count": null,
   "metadata": {
    "collapsed": false,
    "deletable": true,
    "editable": true
   },
   "outputs": [],
   "source": [
    "..."
   ]
  },
  {
   "cell_type": "markdown",
   "metadata": {
    "deletable": true,
    "editable": true
   },
   "source": [
    "Нарисуйте график плотности (тепловую карту) в проекции на первые две координаты и нанесите на график точки выборки. При выполнении задания полезно вспомнить решение части 3 задачи 1 задания 1. Используйте шаблон ниже."
   ]
  },
  {
   "cell_type": "code",
   "execution_count": null,
   "metadata": {
    "collapsed": true,
    "deletable": true,
    "editable": true
   },
   "outputs": [],
   "source": [
    "I = np.array([0, 1])  # это можно передавать в качестве индексов\n",
    "grid = np.mgrid[..., ...]\n",
    "density = ...\n",
    "\n",
    "plt.figure(figsize=(13, 7))\n",
    "plt.pcolormesh(grid[0], grid[1], density, cmap='Oranges')\n",
    "plt.scatter(..., alpha=0.2)\n",
    "CS = plt.contour(grid[0], grid[1], density, [0.01, 0.1, 0.2, 0.3, 0.4, 0.5])\n",
    "plt.clabel(CS, fontsize=14, inline=1, fmt='%1.2f', cmap='Set3')\n",
    "plt.show()"
   ]
  },
  {
   "cell_type": "markdown",
   "metadata": {
    "deletable": true,
    "editable": true
   },
   "source": [
    "Вычислите условное математическое ожидание $\\mathsf{E}( X | I\\{T \\not= k\\} = 1)$ для всех $k = 1,2,3$, где $X$ --- случайный вектор, имеющий распределение смеси.\n",
    "Постройте графики условной плотности $p_{X|I\\{T \\not= k\\}}\\left(x \\left| 1\\right.\\right)$ в проекции на первые две координаты. Подберите хорошие значения линий уровня."
   ]
  },
  {
   "cell_type": "code",
   "execution_count": null,
   "metadata": {
    "collapsed": false,
    "deletable": true,
    "editable": true
   },
   "outputs": [],
   "source": [
    "..."
   ]
  },
  {
   "cell_type": "markdown",
   "metadata": {
    "deletable": true,
    "editable": true
   },
   "source": [
    "Классифицируйте все пространство по принципу $k = \\text{arg}\\max\\limits_k p_{X|I\\{T = k\\}}\\left(x \\left| 1\\right.\\right)$.\n",
    "Посчитайте долю ошибок на выборке.\n",
    "Нарисуйте классификацию всего пространства в проекции на пары координат (0, 1), (1, 3) и (2, 3), где закрасьте разными цветами области, которые образовались в результате классификации."
   ]
  },
  {
   "cell_type": "code",
   "execution_count": null,
   "metadata": {
    "collapsed": false,
    "deletable": true,
    "editable": true
   },
   "outputs": [],
   "source": [
    "..."
   ]
  },
  {
   "cell_type": "markdown",
   "metadata": {
    "deletable": true,
    "editable": true
   },
   "source": [
    "**Вывод:** ..."
   ]
  },
  {
   "cell_type": "markdown",
   "metadata": {
    "deletable": true,
    "editable": true
   },
   "source": [
    "**Задача 5<font size=\"5\" color=\"red\">\\*</font>.** В предыдущей задача информация о принадлежности наблюдения конкретной компоненте смеси была известна заранее. Как выть в случае, если такой информации нет? Задача оценки параметров распределения смеси может быть решена с помощью иттерационного EM-алгоритма.\n",
    "\n",
    "Опишите, как работает EM-алгоритм (это обязательное условие, при котором эта задача будет проверяться). Затем примените EM-алгоритм к Ирисам Фишера и к некоторым искусственно сгенерированным датасетам. Исследуйте, как результат зависит от параметров алгоритма. Сделайте вывод.\n",
    "\n",
    "*Разобраться в EM-алгоритме помогут:*\n",
    "\n",
    "https://basegroup.ru/community/articles/em\n",
    "\n",
    "http://www.machinelearning.ru/wiki/index.php?title=%D0%95%D0%9C-%D0%B0%D0%BB%D0%B3%D0%BE%D1%80%D0%B8%D1%82%D0%BC\n",
    "\n",
    "https://en.wikipedia.org/wiki/Expectation%E2%80%93maximization_algorithm\n",
    "\n",
    "Bishop, C.M. Pattern Recognition and Machine Learning, глава 9.\n",
    "\n",
    "*Реализация EM-алгоритма для смеси гауссовских распределений:*\n",
    "\n",
    "http://scikit-learn.org/stable/modules/generated/sklearn.mixture.GaussianMixture.html#sklearn.mixture.GaussianMixture"
   ]
  }
 ],
 "metadata": {
  "kernelspec": {
   "display_name": "Python 3",
   "language": "python",
   "name": "python3"
  },
  "language_info": {
   "codemirror_mode": {
    "name": "ipython",
    "version": 3
   },
   "file_extension": ".py",
   "mimetype": "text/x-python",
   "name": "python",
   "nbconvert_exporter": "python",
   "pygments_lexer": "ipython3",
   "version": "3.6.0"
  }
 },
 "nbformat": 4,
 "nbformat_minor": 0
}
