{
 "cells": [
  {
   "cell_type": "code",
   "execution_count": 1,
   "metadata": {},
   "outputs": [],
   "source": [
    "import networkx as nx\n",
    "from networkx.algorithms import bipartite\n",
    "import matplotlib.pyplot as plt\n",
    "%matplotlib inline\n",
    "import random\n",
    "import itertools\n",
    "import math\n",
    "import numpy as np\n",
    "nx.__version__\n",
    "\n",
    "import pytsp\n",
    "import tqdm, sys\n",
    "\n",
    "import importlib\n",
    "import logging as log\n",
    "importlib.reload(log)\n",
    "log.basicConfig(level=log.INFO, format='LOG %(message)s', stream=sys.stdout)\n",
    "\n",
    "# import os\n",
    "# path = '/home/sharik/code/complexity/concorde/build/TSP/concorde'\n",
    "# os.environ[\"PATH\"] += os.pathsep + path\n",
    "import subprocess\n",
    "\n",
    "import matplotlib.colors\n",
    "rb_cmap = matplotlib.colors.LinearSegmentedColormap.from_list(\"a\", [\"black\", \"blue\", \"red\", \"purple\"])\n",
    "\n",
    "from scipy.special import comb"
   ]
  },
  {
   "cell_type": "code",
   "execution_count": 2,
   "metadata": {},
   "outputs": [],
   "source": [
    "def draw_weighted_graph(G, **kwargs):\n",
    "    pos = nx.get_node_attributes(G, 'pos')\n",
    "    nx.draw(G, pos, with_labels=True, **kwargs)\n",
    "    labels = nx.get_edge_attributes(G,'weight')\n",
    "    nx.draw_networkx_edge_labels(G,pos,edge_labels=labels)\n",
    "    plt.show()\n",
    "\n",
    "def draw_12_tsp(G, **kwargs):\n",
    "    pos = nx.get_node_attributes(G, 'pos')\n",
    "    edge_color = [0 if G[i][j]['weight'] == 1 else 1 for (i, j) in G.edges]\n",
    "    width = [0 if G[i][j]['weight'] == 1 else 4 for (i, j) in G.edges]\n",
    "    alpha = [1 if G[i][j]['weight'] == 1 else 0.5 for (i, j) in G.edges]\n",
    "    nx.draw(G, pos, with_labels=True,  \\\n",
    "            edge_color=edge_color, width=width, edge_cmap=rb_cmap, **kwargs)\n",
    "    \n",
    "    labels = dict([(edge, 2) for (edge, i) in nx.get_edge_attributes(G,'weight').items() if i == 2])\n",
    "    nx.draw_networkx_edge_labels(G,pos,edge_labels=labels)\n",
    "    plt.show()\n",
    "\n",
    "def choose_color(edge, A, C):\n",
    "    if edge in A.edges and edge in C.edges:\n",
    "        return 3\n",
    "    elif edge in A.edges:\n",
    "        return 1\n",
    "    elif edge in C.edges:\n",
    "        return 2\n",
    "    else:\n",
    "        return 0"
   ]
  },
  {
   "cell_type": "code",
   "execution_count": 3,
   "metadata": {},
   "outputs": [],
   "source": [
    "def weight_of_path(G, path):\n",
    "    s = 0\n",
    "    try:\n",
    "        for i in range(0, len(path)-1):\n",
    "            u = list(G.nodes())[path[i]]\n",
    "            v = list(G.nodes())[path[i+1]]\n",
    "            s += G[u][v]['weight']\n",
    "    except KeyError:\n",
    "        return math.inf\n",
    "    return s\n",
    "\n",
    "def weight_of_cycle(G, path):\n",
    "    return weight_of_path(G, path) + G[list(G.nodes)[path[0]]][list(G.nodes)[path[-1]]]['weight']"
   ]
  },
  {
   "cell_type": "code",
   "execution_count": 4,
   "metadata": {},
   "outputs": [],
   "source": [
    "def solve_with_concorde(G):\n",
    "    \"\"\"Обращение к библиотеке Concorde.\"\"\"\n",
    "    matrix = nx.to_numpy_matrix(G, weight='weight').A\n",
    "    for i in range(0, matrix.shape[0]):\n",
    "        for j in range(0, i):#matrix.shape[1]):\n",
    "            if matrix[i][j] == 0:\n",
    "                matrix[i][j] = 32768\n",
    "    #print(matrix)\n",
    "    matrix_sym = pytsp.atsp_tsp(matrix, strategy=\"cutoff\")\n",
    "    outf = \"./myroute.tsp\"\n",
    "    with open(outf, 'w') as dest:\n",
    "        dest.write(pytsp.dumps_matrix(matrix_sym, name=\"My Route\"))\n",
    "\n",
    "    #tour = pytsp.run(outf, start=0, solver=\"concorde\")\n",
    "    #print(subprocess.call([\"/home/sharik/code/complexity/concorde/build/TSP/concorde\", outf]))\n",
    "    response = subprocess.call([\"/home/sharik/build/concorde/TSP/concorde\", outf])\n",
    "    \n",
    "    inf = './myroute.sol'\n",
    "    path = []\n",
    "    with open(inf, 'r') as src:\n",
    "        n = int(src.readline())\n",
    "        lines = src.readlines()\n",
    "        for line in lines:\n",
    "            path += [int(x) for x in line.split(' ')[:-1]]\n",
    "    return n, path"
   ]
  },
  {
   "cell_type": "code",
   "execution_count": 5,
   "metadata": {},
   "outputs": [],
   "source": [
    "def check_if_matching(G, k):\n",
    "    \"\"\"Проверка, является ли граф G k-паросочетанием\"\"\"\n",
    "    for n in G.nodes:\n",
    "        if len(list(G.neighbors(n))) > k:\n",
    "            return False\n",
    "    return True\n",
    "\n",
    "def get_components_count(G):\n",
    "    \"\"\"Подсчёт по графу G всех необходимых значений: \n",
    "    количество путей и циклов, объединением которых он является,\n",
    "    количество вершин в циклах и\n",
    "    количество синглтонов\"\"\"\n",
    "    subgraphs = nx.connected_component_subgraphs(G)\n",
    "    number_vertices_in_cycles = 0\n",
    "    components_count = 0\n",
    "    singletons_count = 0\n",
    "    for g in subgraphs:\n",
    "        components_count += 1\n",
    "        if g.number_of_nodes() == 2 and g.number_of_edges() == 1:\n",
    "            singletons_count += 1\n",
    "        try:\n",
    "            if len(nx.find_cycle(g)) == len(g.nodes):\n",
    "                number_vertices_in_cycles += len(G.nodes)\n",
    "        except nx.NetworkXNoCycle:\n",
    "            pass\n",
    "    return components_count, number_vertices_in_cycles, singletons_count\n",
    "\n",
    "def get_chain_on_nodes(G, C_nodes):\n",
    "    \"\"\"Возвращает граф, который есть цепь из G на данных C_nodes вершинах\"\"\"\n",
    "    return set([(C_nodes[i], C_nodes[i+1]) \n",
    "                for i in range(0, len(C_nodes)-1) \n",
    "                if (C_nodes[i], C_nodes[i+1]) in G.edges])"
   ]
  },
  {
   "cell_type": "code",
   "execution_count": 6,
   "metadata": {},
   "outputs": [],
   "source": [
    "def improv(K, G, draw=False, simple=False):\n",
    "    \"\"\"Алгоритм K-IMPROV\"\"\"\n",
    "    if simple:\n",
    "        if K > G.number_of_edges():\n",
    "            K = G.number_of_edges()\n",
    "    else:\n",
    "        if K>G.number_of_nodes():\n",
    "            K = G.number_of_nodes()\n",
    "            \n",
    "    # Изначально A пусто\n",
    "    A = nx.Graph()\n",
    "    A.add_nodes_from(G.nodes)\n",
    "    A_components_num = sys.maxsize\n",
    "    A_vertices_in_cycles_num = sys.maxsize\n",
    "    A_singletons_num = sys.maxsize\n",
    "    \n",
    "    # Перебираем все возможные варианты для C\n",
    "    log.info('Граф с %d вершинами и %d рёбрами'%(G.number_of_nodes(), G.number_of_edges()))\n",
    "    if simple:\n",
    "        max_iter = sum([comb(G.number_of_edges(), i) for i in range(0, K+1)])-G.number_of_edges()-1\n",
    "    else:\n",
    "        max_iter = sum([comb(G.number_of_nodes(), i) for i in range(0, K+1)])-G.number_of_nodes()-1\n",
    "    log.info('Число комбинаций для перебора %d при K=%d'%(max_iter, K))\n",
    "    \n",
    "    n_global_iter = 0\n",
    "    something_changes = True\n",
    "    last_modification_iter, last_modification_global_iter = 0, 1\n",
    "    while something_changes:\n",
    "        n_global_iter += 1\n",
    "        log.info('             GLOBAL ITERATION %d'%n_global_iter)\n",
    "        something_changes = False\n",
    "        if simple:\n",
    "            C_edges_s = itertools.chain.from_iterable(itertools.combinations(G.edges, i) \n",
    "                                                      for i in range(1, K+1))\n",
    "        else:\n",
    "            C_nodes_s = itertools.chain.from_iterable(itertools.combinations(G.nodes, i) \n",
    "                                                      for i in range(2, K+1))\n",
    "            C_edges_s = map(lambda C_nodes: get_chain_on_nodes(G, C_nodes),C_nodes_s)\n",
    "        \n",
    "        pbar = tqdm.tqdm_notebook(total=max_iter)\n",
    "        for n_iter, C_edges in enumerate(C_edges_s):\n",
    "            pbar.update(1)\n",
    "            \n",
    "            if last_modification_global_iter < n_global_iter and n_iter > last_modification_iter:\n",
    "                log.info(\"Early exit: nothing to check\")\n",
    "                break\n",
    "            if C_edges == set():\n",
    "                continue\n",
    "            \n",
    "            C = nx.Graph()\n",
    "            C.add_nodes_from(G.nodes)\n",
    "            C.add_edges_from(C_edges)\n",
    "            G_new = nx.symmetric_difference(A, C)\n",
    "\n",
    "            cur_components_num, cur_vertices_in_cycles_num, cur_singletons_num = get_components_count(G_new)\n",
    "\n",
    "            if check_if_matching(G_new, 2):\n",
    "                if (cur_components_num<A_components_num) \\\n",
    "                        or (cur_components_num == A_components_num \\\n",
    "                            and cur_vertices_in_cycles_num > A_vertices_in_cycles_num) \\\n",
    "                        or (cur_components_num == A_components_num \\\n",
    "                            and cur_vertices_in_cycles_num == A_vertices_in_cycles_num \\\n",
    "                            and cur_singletons_num < A_singletons_num):\n",
    "                    something_changes = True\n",
    "                    log.info('Changing A: %d %d %d'%( cur_components_num, cur_vertices_in_cycles_num, cur_singletons_num))\n",
    "                    log.debug('was: %d %d %d'%( A_components_num, A_vertices_in_cycles_num, A_singletons_num))\n",
    "                    last_modification_iter = n_iter\n",
    "                    last_modification_global_iter = n_global_iter\n",
    "\n",
    "                    # Баг networkx: если вставить рисовалку сюда, первый раз будет неправильный цвет.\n",
    "    \n",
    "                    A = G_new\n",
    "                    A_components_num = cur_components_num\n",
    "                    A_vertices_in_cycles_num = cur_vertices_in_cycles_num\n",
    "                    A_singletons_num = cur_singletons_num\n",
    "\n",
    "                    if draw:\n",
    "                        edge_color = [choose_color(edge, A, C) for edge in G.edges ]\n",
    "                        plt.figure(figsize=(5,5))\n",
    "                        draw_weighted_graph(G, edge_color=edge_color, width=4, edge_cmap=rb_cmap)\n",
    "                        plt.show()\n",
    "        pbar.close()\n",
    "\n",
    "    algo_ans = G.number_of_nodes()+A_components_num\n",
    "    nx.draw(A, with_labels=True)\n",
    "    return algo_ans"
   ]
  },
  {
   "cell_type": "code",
   "execution_count": 7,
   "metadata": {},
   "outputs": [],
   "source": [
    "def get_G(nodes, edges):\n",
    "    \"\"\"Строит граф с данными вершинами и рёбрами (на вход можно подавать только рёбра только веса 1)\"\"\"\n",
    "    G = nx.Graph()\n",
    "    G.add_nodes_from(nodes)\n",
    "    G.add_edges_from(edges)\n",
    "    for u, v in G.edges():\n",
    "        G[u][v]['weight'] = 1\n",
    "    return G\n",
    "\n",
    "def process_tsp_manual(G, **kwargs):\n",
    "    \"\"\"Вспомогательная функция. \n",
    "    G: граф, в котором вершины имеют pos, рёбра имеют weight=1\n",
    "    Граф конвертируется в экземпляр (1,2)-TSP \n",
    "    (в нём проводятся рёбра длины 2, остальные рёбра считаются +inf).\n",
    "    Далее запускаются решатель Concorde и наш алгоритм, и сравнивается ответ.\"\"\"\n",
    "    #draw_weighted_graph(G)\n",
    "    \n",
    "    G_ = G.copy()\n",
    "    for i in G_.nodes():\n",
    "        for j in G_.nodes():\n",
    "            if i != j and not G_.has_edge(i, j):\n",
    "                G_.add_edge(i, j, weight=2)\n",
    "    \n",
    "    #draw_12_tsp(G_)\n",
    "    n, path = solve_with_concorde(G_)\n",
    "    print('Concorde path', path)\n",
    "    concorde_ans = weight_of_cycle(G_, path)\n",
    "    print('Concorde answer', concorde_ans)\n",
    "    \n",
    "    algo_ans = improv(15, G, **kwargs)\n",
    "    print('Algorithm answer', algo_ans)\n",
    "    \n",
    "    if concorde_ans*8/7<algo_ans:\n",
    "        print(\"ALGORITHM FAILED\")\n",
    "        return False\n",
    "    elif concorde_ans > algo_ans:\n",
    "        print(\"SOMETHING WRONG: algorithm is better than Concorde\")\n",
    "        return False\n",
    "    else:\n",
    "        print(\"ALGORITHM SUCCEEDED\")\n",
    "        return True"
   ]
  },
  {
   "cell_type": "code",
   "execution_count": 8,
   "metadata": {
    "scrolled": true
   },
   "outputs": [
    {
     "name": "stdout",
     "output_type": "stream",
     "text": [
      "Concorde path [0, 6, 3, 4, 5, 2, 1]\n",
      "Concorde answer 8\n",
      "LOG Граф с 7 вершинами и 8 рёбрами\n",
      "LOG Число комбинаций для перебора 120 при K=7\n",
      "LOG              GLOBAL ITERATION 1\n"
     ]
    },
    {
     "data": {
      "application/vnd.jupyter.widget-view+json": {
       "model_id": "b1b832940f6141779424331985ef5a09",
       "version_major": 2,
       "version_minor": 0
      },
      "text/html": [
       "<p>Failed to display Jupyter Widget of type <code>HBox</code>.</p>\n",
       "<p>\n",
       "  If you're reading this message in Jupyter Notebook or JupyterLab, it may mean\n",
       "  that the widgets JavaScript is still loading. If this message persists, it\n",
       "  likely means that the widgets JavaScript library is either not installed or\n",
       "  not enabled. See the <a href=\"https://ipywidgets.readthedocs.io/en/stable/user_install.html\">Jupyter\n",
       "  Widgets Documentation</a> for setup instructions.\n",
       "</p>\n",
       "<p>\n",
       "  If you're reading this message in another notebook frontend (for example, a static\n",
       "  rendering on GitHub or <a href=\"https://nbviewer.jupyter.org/\">NBViewer</a>),\n",
       "  it may mean that your frontend doesn't currently support widgets.\n",
       "</p>\n"
      ],
      "text/plain": [
       "HBox(children=(IntProgress(value=0, max=120), HTML(value='')))"
      ]
     },
     "metadata": {},
     "output_type": "display_data"
    },
    {
     "name": "stdout",
     "output_type": "stream",
     "text": [
      "LOG Changing A: 6 0 1\n",
      "LOG Changing A: 5 0 0\n",
      "LOG Changing A: 4 0 0\n",
      "LOG Changing A: 3 0 0\n",
      "LOG Changing A: 2 0 0\n",
      "LOG Changing A: 1 0 0\n",
      "\n",
      "LOG              GLOBAL ITERATION 2\n"
     ]
    },
    {
     "data": {
      "application/vnd.jupyter.widget-view+json": {
       "model_id": "914faf44ccde4a0da0800efef15c0bca",
       "version_major": 2,
       "version_minor": 0
      },
      "text/html": [
       "<p>Failed to display Jupyter Widget of type <code>HBox</code>.</p>\n",
       "<p>\n",
       "  If you're reading this message in Jupyter Notebook or JupyterLab, it may mean\n",
       "  that the widgets JavaScript is still loading. If this message persists, it\n",
       "  likely means that the widgets JavaScript library is either not installed or\n",
       "  not enabled. See the <a href=\"https://ipywidgets.readthedocs.io/en/stable/user_install.html\">Jupyter\n",
       "  Widgets Documentation</a> for setup instructions.\n",
       "</p>\n",
       "<p>\n",
       "  If you're reading this message in another notebook frontend (for example, a static\n",
       "  rendering on GitHub or <a href=\"https://nbviewer.jupyter.org/\">NBViewer</a>),\n",
       "  it may mean that your frontend doesn't currently support widgets.\n",
       "</p>\n"
      ],
      "text/plain": [
       "HBox(children=(IntProgress(value=0, max=120), HTML(value='')))"
      ]
     },
     "metadata": {},
     "output_type": "display_data"
    },
    {
     "name": "stdout",
     "output_type": "stream",
     "text": [
      "LOG Early exit: nothing to check\n",
      "\n",
      "Algorithm answer 8\n",
      "ALGORITHM SUCCEEDED\n"
     ]
    },
    {
     "data": {
      "text/plain": [
       "True"
      ]
     },
     "execution_count": 8,
     "metadata": {},
     "output_type": "execute_result"
    },
    {
     "data": {
      "image/png": "[encoded data removed]",
      "text/plain": [
       "<matplotlib.figure.Figure at 0x7f0ca8fae358>"
      ]
     },
     "metadata": {},
     "output_type": "display_data"
    }
   ],
   "source": [
    "G = get_G(\n",
    "    [[0, {'pos':(0,0)}],\n",
    "     [1, {'pos':(1,0)}],\n",
    "     [2, {'pos':(1,1)}],\n",
    "     [3, {'pos':(1,2)}],\n",
    "     [4, {'pos':(2,2)}],\n",
    "     [5, {'pos':(2,1)}],\n",
    "     [6, {'pos':(0,1)}]],\n",
    "    [[2, 6], [6, 0], [0, 1], [1,2], [2, 3], [3, 4], [4, 5], [5, 2]])\n",
    "\n",
    "# import dot2tex as d2t\n",
    "# dot_object = nx.drawing.nx_pydot.to_pydot(G)\n",
    "# texcode = d2t.dot2tex(dot_object.to_string(), format='tikz', crop=True)\n",
    "\n",
    "process_tsp_manual(G, draw=False)"
   ]
  },
  {
   "cell_type": "code",
   "execution_count": 9,
   "metadata": {
    "scrolled": true
   },
   "outputs": [
    {
     "name": "stdout",
     "output_type": "stream",
     "text": [
      "Concorde path [0, 6, 4, 5, 7, 2, 3, 1]\n",
      "Concorde answer 10\n",
      "LOG Граф с 8 вершинами и 8 рёбрами\n",
      "LOG Число комбинаций для перебора 247 при K=8\n",
      "LOG              GLOBAL ITERATION 1\n"
     ]
    },
    {
     "data": {
      "application/vnd.jupyter.widget-view+json": {
       "model_id": "9292683165f84d9cafbbc8f7a7264eef",
       "version_major": 2,
       "version_minor": 0
      },
      "text/html": [
       "<p>Failed to display Jupyter Widget of type <code>HBox</code>.</p>\n",
       "<p>\n",
       "  If you're reading this message in Jupyter Notebook or JupyterLab, it may mean\n",
       "  that the widgets JavaScript is still loading. If this message persists, it\n",
       "  likely means that the widgets JavaScript library is either not installed or\n",
       "  not enabled. See the <a href=\"https://ipywidgets.readthedocs.io/en/stable/user_install.html\">Jupyter\n",
       "  Widgets Documentation</a> for setup instructions.\n",
       "</p>\n",
       "<p>\n",
       "  If you're reading this message in another notebook frontend (for example, a static\n",
       "  rendering on GitHub or <a href=\"https://nbviewer.jupyter.org/\">NBViewer</a>),\n",
       "  it may mean that your frontend doesn't currently support widgets.\n",
       "</p>\n"
      ],
      "text/plain": [
       "HBox(children=(IntProgress(value=0, max=247), HTML(value='')))"
      ]
     },
     "metadata": {},
     "output_type": "display_data"
    },
    {
     "name": "stdout",
     "output_type": "stream",
     "text": [
      "LOG Changing A: 7 0 1\n",
      "LOG Changing A: 6 0 0\n",
      "LOG Changing A: 5 0 0\n",
      "LOG Changing A: 5 8 0\n",
      "LOG Changing A: 4 8 1\n",
      "LOG Changing A: 3 8 0\n",
      "LOG Changing A: 2 8 0\n",
      "LOG Changing A: 2 16 0\n",
      "\n",
      "LOG              GLOBAL ITERATION 2\n"
     ]
    },
    {
     "data": {
      "application/vnd.jupyter.widget-view+json": {
       "model_id": "c701a8000c7949fb8019e3a6af923821",
       "version_major": 2,
       "version_minor": 0
      },
      "text/html": [
       "<p>Failed to display Jupyter Widget of type <code>HBox</code>.</p>\n",
       "<p>\n",
       "  If you're reading this message in Jupyter Notebook or JupyterLab, it may mean\n",
       "  that the widgets JavaScript is still loading. If this message persists, it\n",
       "  likely means that the widgets JavaScript library is either not installed or\n",
       "  not enabled. See the <a href=\"https://ipywidgets.readthedocs.io/en/stable/user_install.html\">Jupyter\n",
       "  Widgets Documentation</a> for setup instructions.\n",
       "</p>\n",
       "<p>\n",
       "  If you're reading this message in another notebook frontend (for example, a static\n",
       "  rendering on GitHub or <a href=\"https://nbviewer.jupyter.org/\">NBViewer</a>),\n",
       "  it may mean that your frontend doesn't currently support widgets.\n",
       "</p>\n"
      ],
      "text/plain": [
       "HBox(children=(IntProgress(value=0, max=247), HTML(value='')))"
      ]
     },
     "metadata": {},
     "output_type": "display_data"
    },
    {
     "name": "stdout",
     "output_type": "stream",
     "text": [
      "LOG Early exit: nothing to check\n",
      "\n",
      "Algorithm answer 10\n",
      "ALGORITHM SUCCEEDED\n"
     ]
    },
    {
     "data": {
      "text/plain": [
       "True"
      ]
     },
     "execution_count": 9,
     "metadata": {},
     "output_type": "execute_result"
    },
    {
     "data": {
      "image/png": "[encoded data removed]",
      "text/plain": [
       "<matplotlib.figure.Figure at 0x7f0ca8eda4a8>"
      ]
     },
     "metadata": {},
     "output_type": "display_data"
    }
   ],
   "source": [
    "process_tsp_manual(get_G(\n",
    "    [[0, {'pos':(0,0)}],\n",
    "     [1, {'pos':(1,0)}],\n",
    "     [2, {'pos':(0,1)}],\n",
    "     [3, {'pos':(1,1)}],\n",
    "     [4, {'pos':(3,0)}],\n",
    "     [5, {'pos':(4,0)}],\n",
    "     [6, {'pos':(3,1)}],\n",
    "     [7, {'pos':(4,1)}]],\n",
    "    [[0, 1], [1, 3], [3, 2], [2,0], [6, 7], [7, 5], [5, 4], [4, 6]]),\n",
    "                  draw=False, simple=False)\n"
   ]
  },
  {
   "cell_type": "code",
   "execution_count": 10,
   "metadata": {},
   "outputs": [
    {
     "data": {
      "image/png": "[encoded data removed]",
      "text/plain": [
       "<matplotlib.figure.Figure at 0x7f0ca8ee4710>"
      ]
     },
     "metadata": {},
     "output_type": "display_data"
    },
    {
     "name": "stdout",
     "output_type": "stream",
     "text": [
      "Concorde path [0, 7, 6, 17, 2, 10, 13, 16, 15, 8, 11, 9, 3, 4, 12, 5, 14, 1]\n",
      "Concorde answer 19\n",
      "LOG Граф с 18 вершинами и 45 рёбрами\n",
      "LOG Число комбинаций для перебора 261953 при K=15\n",
      "LOG              GLOBAL ITERATION 1\n"
     ]
    },
    {
     "data": {
      "application/vnd.jupyter.widget-view+json": {
       "model_id": "cfa917f069504b9280f02114f327602e",
       "version_major": 2,
       "version_minor": 0
      },
      "text/html": [
       "<p>Failed to display Jupyter Widget of type <code>HBox</code>.</p>\n",
       "<p>\n",
       "  If you're reading this message in Jupyter Notebook or JupyterLab, it may mean\n",
       "  that the widgets JavaScript is still loading. If this message persists, it\n",
       "  likely means that the widgets JavaScript library is either not installed or\n",
       "  not enabled. See the <a href=\"https://ipywidgets.readthedocs.io/en/stable/user_install.html\">Jupyter\n",
       "  Widgets Documentation</a> for setup instructions.\n",
       "</p>\n",
       "<p>\n",
       "  If you're reading this message in another notebook frontend (for example, a static\n",
       "  rendering on GitHub or <a href=\"https://nbviewer.jupyter.org/\">NBViewer</a>),\n",
       "  it may mean that your frontend doesn't currently support widgets.\n",
       "</p>\n"
      ],
      "text/plain": [
       "HBox(children=(IntProgress(value=0, max=261953), HTML(value='')))"
      ]
     },
     "metadata": {},
     "output_type": "display_data"
    },
    {
     "name": "stdout",
     "output_type": "stream",
     "text": [
      "LOG Changing A: 17 0 1\n",
      "LOG Changing A: 16 0 0\n",
      "LOG Changing A: 15 0 0\n",
      "LOG Changing A: 14 0 0\n",
      "LOG Changing A: 13 0 0\n",
      "LOG Changing A: 12 0 0\n",
      "LOG Changing A: 11 0 1\n",
      "LOG Changing A: 10 0 0\n",
      "LOG Changing A: 9 0 1\n",
      "LOG Changing A: 8 0 0\n",
      "LOG Changing A: 7 0 0\n",
      "LOG Changing A: 7 18 0\n",
      "LOG Changing A: 6 18 1\n",
      "LOG Changing A: 5 18 2\n",
      "LOG Changing A: 4 18 1\n",
      "LOG Changing A: 3 18 0\n",
      "LOG Changing A: 2 18 0\n",
      "LOG Changing A: 1 0 0\n",
      "\n",
      "LOG              GLOBAL ITERATION 2\n"
     ]
    },
    {
     "data": {
      "application/vnd.jupyter.widget-view+json": {
       "model_id": "3680ed871db24951b1f65f4a79437d8a",
       "version_major": 2,
       "version_minor": 0
      },
      "text/html": [
       "<p>Failed to display Jupyter Widget of type <code>HBox</code>.</p>\n",
       "<p>\n",
       "  If you're reading this message in Jupyter Notebook or JupyterLab, it may mean\n",
       "  that the widgets JavaScript is still loading. If this message persists, it\n",
       "  likely means that the widgets JavaScript library is either not installed or\n",
       "  not enabled. See the <a href=\"https://ipywidgets.readthedocs.io/en/stable/user_install.html\">Jupyter\n",
       "  Widgets Documentation</a> for setup instructions.\n",
       "</p>\n",
       "<p>\n",
       "  If you're reading this message in another notebook frontend (for example, a static\n",
       "  rendering on GitHub or <a href=\"https://nbviewer.jupyter.org/\">NBViewer</a>),\n",
       "  it may mean that your frontend doesn't currently support widgets.\n",
       "</p>\n"
      ],
      "text/plain": [
       "HBox(children=(IntProgress(value=0, max=261953), HTML(value='')))"
      ]
     },
     "metadata": {},
     "output_type": "display_data"
    },
    {
     "name": "stdout",
     "output_type": "stream",
     "text": [
      "LOG Early exit: nothing to check\n",
      "\n",
      "Algorithm answer 19\n",
      "ALGORITHM SUCCEEDED\n"
     ]
    },
    {
     "data": {
      "text/plain": [
       "True"
      ]
     },
     "execution_count": 10,
     "metadata": {},
     "output_type": "execute_result"
    },
    {
     "data": {
      "image/png": "[encoded data removed]",
      "text/plain": [
       "<matplotlib.figure.Figure at 0x7f0ca85e43c8>"
      ]
     },
     "metadata": {},
     "output_type": "display_data"
    }
   ],
   "source": [
    "def set_edges_weight(G, w):\n",
    "    for u, v in G.edges():\n",
    "        G[u][v]['weight'] = w\n",
    "    return G\n",
    "\n",
    "def gen_random_graph(n, p=None, m=None):\n",
    "    if p is None and m is None or not (p is None or m is None):\n",
    "        raise Exception(\"Wrong params\")\n",
    "        \n",
    "    if p is not None:\n",
    "        G = nx.random_graphs.gnp_random_graph(n, p)\n",
    "    else:\n",
    "        G = nx.random_graphs.gnm_random_graph(n, m)\n",
    "    nx.draw(G, with_labels=True)\n",
    "    plt.show()\n",
    "    G = set_edges_weight(G, 1)\n",
    "    return G\n",
    "\n",
    "G = gen_random_graph(18, m=45)\n",
    "process_tsp_manual(G)"
   ]
  },
  {
   "cell_type": "code",
   "execution_count": null,
   "metadata": {},
   "outputs": [],
   "source": []
  },
  {
   "cell_type": "code",
   "execution_count": null,
   "metadata": {},
   "outputs": [],
   "source": []
  }
 ],
 "metadata": {
  "kernelspec": {
   "display_name": "Python 3",
   "language": "python",
   "name": "python3"
  },
  "language_info": {
   "codemirror_mode": {
    "name": "ipython",
    "version": 3
   },
   "file_extension": ".py",
   "mimetype": "text/x-python",
   "name": "python",
   "nbconvert_exporter": "python",
   "pygments_lexer": "ipython3",
   "version": "3.6.0"
  }
 },
 "nbformat": 4,
 "nbformat_minor": 2
}
