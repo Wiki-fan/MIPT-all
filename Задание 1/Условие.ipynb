{
 "cells": [
  {
   "cell_type": "markdown",
   "metadata": {},
   "source": [
    "# Математическая статистика\n",
    "## Практическое задание 1\n",
    "\n",
    "В данном задании рассматриваются различные способы генерации выборки из некоторых стандартных распределений, а так же рассматриваются некоторые свойства эмпирической функции распределения и ядерной оценки плотности.\n",
    "\n",
    "**Правила:**\n",
    "\n",
    "* Баллы за каждую задачу указаны далее. Если сумма баллов за задание меньше 25%, то все задание оценивается в 0 баллов.\n",
    "* Выполненную работу нужно отправить на почту `probability.diht@yandex.ru`, указав тему письма `\"[номер группы] Фамилия Имя - Задание 1\"`. Квадратные скобки обязательны.\n",
    "* Прислать нужно ноутбук и его pdf-версию. Названия файлов должны быть такими: `1.N.ipynb` и `1.N.pdf`, где `N` - ваш номер из таблицы с оценками.\n",
    "* Никакой код из данного задания при проверке запускаться не будет.\n",
    "\n",
    "**Баллы за задание:**\n",
    "\n",
    "* Задача 1 - 13 баллов\n",
    "* Задача 2 - 3 балла\n",
    "* Задача 3 - 5 баллов\n",
    "* Задача 4 - 3 балла\n",
    "* Задача 5 - 2 балла\n",
    "* Задача 6 - 1 балл\n",
    "* Задача 7 - 3 балла"
   ]
  },
  {
   "cell_type": "code",
   "execution_count": null,
   "metadata": {
    "collapsed": true
   },
   "outputs": [],
   "source": [
    "import numpy as np\n",
    "import scipy.stats as sps\n",
    "import matplotlib.pyplot as plt\n",
    "\n",
    "%matplotlib inline"
   ]
  },
  {
   "cell_type": "markdown",
   "metadata": {},
   "source": [
    "**Задача 1.** Имеется симметричная монета. С ее помощью напишите функцию генерации выборки из многомерного нормального распределения с заданными параметрами.\n",
    "\n",
    "*Часть 1.* Напишите сначала функцию генерации равномерного распределения на отрезке $[0, 1]$ с заданной точностью. Это можно сделать, записав случайную величину $\\xi \\sim U[0, 1]$ в двоичной системе системе счисления $\\xi = 0,\\xi_1\\xi_2\\xi_3...$. Тогда $\\xi_i \\sim Bern(1/2)$ и независимы в совокупности. Приближение заключается в том, что вместо генерации бесконечного количества $\\xi_i$ мы полагаем $\\xi = 0,\\xi_1\\xi_2\\xi_3...\\xi_n$.\n",
    "\n",
    "Для получения максимального балла реализовать функцию нужно так, чтобы она могла принимать на вход в качестве параметра `size` объект `tuple` любой размерности, и возвращать объект `numpy.array` соответствующей размерности. Например, если `size=(10, 1, 5)`, то функция должна вернуть объект размера $10 \\times 1 \\times 5$. Кроме того, функцию `coin` можно вызвать только один раз, и, конечно же, не использовать какие-либо циклы."
   ]
  },
  {
   "cell_type": "code",
   "execution_count": null,
   "metadata": {
    "collapsed": true
   },
   "outputs": [],
   "source": [
    "coin = sps.bernoulli(0.5).rvs  # симметричная монета\n",
    "# coin(size=10) --- реализация 10 бросков монеты\n",
    "\n",
    "def uniform(size=1, precision=30):\n",
    "    return # В одну строчку? ;)"
   ]
  },
  {
   "cell_type": "markdown",
   "metadata": {},
   "source": [
    "Для $U[0, 1]$ сгенерируйте выборку и постройте график плотности."
   ]
  },
  {
   "cell_type": "code",
   "execution_count": null,
   "metadata": {
    "collapsed": true
   },
   "outputs": [],
   "source": [
    "size = 100\n",
    "grid = np.linspace(-0.25, 1.25, 500)\n",
    "\n",
    "plt.figure(figsize=(10, 3))\n",
    "plt.scatter(<Сгенерируйте выборку размера size точности 50>,\n",
    "            np.zeros(size), alpha=0.4, label='sample')\n",
    "plt.plot(grid,\n",
    "         <Посчитайте плотность в точках grid, используя sps.uniform.pdf>,\n",
    "         color='red', label='density')\n",
    "plt.legend()\n",
    "plt.grid(ls=':')\n",
    "plt.show()"
   ]
  },
  {
   "cell_type": "markdown",
   "metadata": {},
   "source": [
    "Исследуйте, как меняется выборка в зависимости от precision."
   ]
  },
  {
   "cell_type": "code",
   "execution_count": null,
   "metadata": {
    "collapsed": true
   },
   "outputs": [],
   "source": [
    "size = 100\n",
    "\n",
    "plt.figure(figsize=(15, 3))\n",
    "for i, precision in enumerate([1, 2, 3, 5, 10, 30]):\n",
    "    plt.subplot(3, 2, i + 1)\n",
    "    plt.scatter(<Сгенерируйте выборку размера size точности precision>,\n",
    "                np.zeros(size), alpha=0.4)\n",
    "    plt.yticks([])\n",
    "    if i < 4: plt.xticks([])\n",
    "plt.show()"
   ]
  },
  {
   "cell_type": "markdown",
   "metadata": {},
   "source": [
    "**Вывод:**"
   ]
  },
  {
   "cell_type": "markdown",
   "metadata": {},
   "source": [
    "<...>"
   ]
  },
  {
   "cell_type": "markdown",
   "metadata": {},
   "source": [
    "*Часть 2.* Напишите функцию генерации выборки размера `size` (как и раньше, тут может быть `tuple`) из распределения $\\mathcal{N}(loc, scale^2)$ с помощью преобразования Бокса-Мюллера (задача 7.12 из книги по теории вероятностей).\n",
    "\n",
    "Для получения полного балла реализация должна быть без циклов."
   ]
  },
  {
   "cell_type": "code",
   "execution_count": null,
   "metadata": {
    "collapsed": true
   },
   "outputs": [],
   "source": [
    "def normal(size=1, loc=0, scale=1, precision=30):\n",
    "    <...>"
   ]
  },
  {
   "cell_type": "markdown",
   "metadata": {},
   "source": [
    "Для $\\mathcal{N}(0, 1)$ сгенерируйте выборку и постройте график плотности этого распределения на отрезке $[-3, 3]$."
   ]
  },
  {
   "cell_type": "code",
   "execution_count": null,
   "metadata": {
    "collapsed": true
   },
   "outputs": [],
   "source": [
    "<...>"
   ]
  },
  {
   "cell_type": "markdown",
   "metadata": {},
   "source": [
    "Пусть $P$ --- некоторое распределение на $(\\mathbb{R}, \\mathscr{B}(\\mathbb{R}))$. Числа $a$ и $\\sigma$ называются параметрами сдвига и масштаба соответственно для семейства распределений $\\left\\{P_{a,\\sigma}\\ \\left|\\ a \\in \\mathbb{R}, \\sigma \\in \\mathbb{R}_+\\right.\\right\\}$, где $P_{a,\\sigma}(B) = P\\left(\\frac{B-a}{\\sigma}\\right)$ и $\\frac{B-a}{\\sigma} = \\left\\{\\left. \\frac{x-a}{\\sigma}\\ \\right|\\ x \\in B \\right\\}$\n",
    "\n",
    "**Вопрос:** Найдите плотность $P_{a,\\sigma}$, если $P$ имеет плотность $p(x)$."
   ]
  },
  {
   "cell_type": "markdown",
   "metadata": {},
   "source": [
    "<...>"
   ]
  },
  {
   "cell_type": "markdown",
   "metadata": {},
   "source": [
    "**Вопрос:** Пусть $P$ --- стандартное нормальное распределение. Выпишите параметрическое семейство распределений, параметризованное параметрами сдвига и масштаба по отношению к распределению $P$. Какая связь между параметрами и характеристиками распределения (например, математическое ожидание)?"
   ]
  },
  {
   "cell_type": "markdown",
   "metadata": {},
   "source": [
    "<...>"
   ]
  },
  {
   "cell_type": "markdown",
   "metadata": {},
   "source": [
    "Постройте на одном графике разными цветами плотности стандартного нормального распределения, а так же для параметров $a=3, \\sigma=1$ и $a=0, \\sigma=2$. Интеравл по оси икс $[-7, 7]$.\n",
    "\n",
    "Ниже графика теми же цветами изобразите также точку $a$ и $3\\sigma$-интервал, используя шаблон, приведенный ниже."
   ]
  },
  {
   "cell_type": "code",
   "execution_count": null,
   "metadata": {
    "collapsed": true
   },
   "outputs": [],
   "source": [
    "plt.figure(figsize=(10, 5))\n",
    "<...>\n",
    "plt.plot([a - 3 * sigma, a + 3 * sigma], [-0.1, -0.1], color=...)\n",
    "plt.scatter(a, -0.1, color=..., s=50)\n",
    "<...>"
   ]
  },
  {
   "cell_type": "markdown",
   "metadata": {},
   "source": [
    "**Вывод:**"
   ]
  },
  {
   "cell_type": "markdown",
   "metadata": {},
   "source": [
    "<...>"
   ]
  },
  {
   "cell_type": "markdown",
   "metadata": {},
   "source": [
    "*Часть 3.* Теперь напишите функцию генерации выборки из многомерного нормального распределения с заданным вектором средних `mean` и матрицей ковариаций `cov_matrix`. Помочь в этом может теорема об эквивалентных определениях гауссовского вектора. Для извлечения квадратного корня из матрицы может пригодится следующая функция, которая вычисляет собственные значения и векторы матрицы."
   ]
  },
  {
   "cell_type": "code",
   "execution_count": null,
   "metadata": {
    "collapsed": true
   },
   "outputs": [],
   "source": [
    "from scipy.linalg import eigh"
   ]
  },
  {
   "cell_type": "markdown",
   "metadata": {},
   "source": [
    "На этот раз достаточно, чтобы функция корректно работала в случае, когда `size` является числом."
   ]
  },
  {
   "cell_type": "code",
   "execution_count": null,
   "metadata": {
    "collapsed": true
   },
   "outputs": [],
   "source": [
    "def gauss(mean, cov_matrix, size=1, precision=30):\n",
    "    # Преобразование типов\n",
    "    mean = np.array(mean)\n",
    "    cov_matrix = np.array(cov_matrix)\n",
    "    \n",
    "    # Проверка на корректность входа\n",
    "    assert mean.ndim == 1 and cov_matrix.ndim == 2\n",
    "    assert mean.shape[0] == cov_matrix.shape[0]\n",
    "    assert cov_matrix.shape[0] == cov_matrix.shape[1]\n",
    "    \n",
    "    <...>"
   ]
  },
  {
   "cell_type": "markdown",
   "metadata": {},
   "source": [
    "Сгенерируйте выборку размера `size` из двумерного нормального распределения с нулевым вектором средних и матрицей ковариаций $\\begin{pmatrix}2 & 1 \\\\ 1 & 2\\end{pmatrix}$.\n",
    "Нанесите точки выборки на график и отметьте цветом значение плотности.\n",
    "\n",
    "В инструкциях по Питону плотность вычислялась с помощью неэффективного кода. Подумайте, как можно написать эффективный короткий код, не использующий циклы."
   ]
  },
  {
   "cell_type": "code",
   "execution_count": null,
   "metadata": {
    "collapsed": true
   },
   "outputs": [],
   "source": [
    "size = 1000\n",
    "sample = <...>  # Генерация выборки\n",
    "\n",
    "grid = np.mgrid[-4:4:0.05, -4:4:0.05]\n",
    "density = sps.multivariate_normal.pdf(<...>)  # Вычисление плотности\n",
    "\n",
    "plt.figure(figsize=(10, 10))\n",
    "plt.pcolormesh(grid[0], grid[1], density, cmap='Oranges')\n",
    "plt.scatter(sample[:, 0], sample[:, 1], alpha=0.4, label='sample')\n",
    "plt.legend()\n",
    "plt.grid(ls=':')\n",
    "plt.xlim((-4, 4))\n",
    "plt.ylim((-4, 4))\n",
    "plt.show()"
   ]
  },
  {
   "cell_type": "markdown",
   "metadata": {},
   "source": [
    "**Вывод:**"
   ]
  },
  {
   "cell_type": "markdown",
   "metadata": {},
   "source": [
    "<...>"
   ]
  },
  {
   "cell_type": "markdown",
   "metadata": {},
   "source": [
    "**Задача 2.** Вы уже научились генерировать выборку из равномерного распределения. Напишите функцию генерации выборки из экспоненциального распределения, используя результат задачи 6.9 из книги по теории вероятностей.\n",
    "\n",
    "Для получения полного балла реализация должна быть без циклов, а параметр `size` может быть типа `tuple`."
   ]
  },
  {
   "cell_type": "code",
   "execution_count": null,
   "metadata": {
    "collapsed": true
   },
   "outputs": [],
   "source": [
    "def expon(size=1, lambd=1, precision=30):\n",
    "    return <...>"
   ]
  },
  {
   "cell_type": "markdown",
   "metadata": {},
   "source": [
    "Для $Exp(1)$ сгенерируйте выборку размера 100 и постройте график плотности этого распределения на отрезке $[-0.5, 5]$."
   ]
  },
  {
   "cell_type": "code",
   "execution_count": null,
   "metadata": {
    "collapsed": true
   },
   "outputs": [],
   "source": [
    "<...>"
   ]
  },
  {
   "cell_type": "markdown",
   "metadata": {},
   "source": [
    "**Вывод:**"
   ]
  },
  {
   "cell_type": "markdown",
   "metadata": {},
   "source": [
    "<...>"
   ]
  },
  {
   "cell_type": "markdown",
   "metadata": {},
   "source": [
    "**Задача 3.** Для каждого распределения постройте эмпирическую функцию распределения (ЭФР), гистограмму и ядерную оценку плотности. Сделать это помогут следующие функции."
   ]
  },
  {
   "cell_type": "code",
   "execution_count": null,
   "metadata": {
    "collapsed": true
   },
   "outputs": [],
   "source": [
    "from statsmodels.distributions.empirical_distribution import ECDF\n",
    "from statsmodels.nonparametric.kde import KDEUnivariate"
   ]
  },
  {
   "cell_type": "markdown",
   "metadata": {},
   "source": [
    "*1. Бернуллиевское.*\n",
    "\n",
    "Тут приведен пример построения ЭФР, просто запустите эту ячейку."
   ]
  },
  {
   "cell_type": "code",
   "execution_count": null,
   "metadata": {
    "collapsed": false
   },
   "outputs": [],
   "source": [
    "sample = coin(size=100)\n",
    "ecdf = ECDF(sample)\n",
    "grid = np.linspace(-0.5, 1.5, 500)\n",
    "\n",
    "plt.figure(figsize=(7, 3))\n",
    "plt.scatter(sample, np.zeros(size), alpha=0.4, label='sample')\n",
    "plt.plot(grid, ecdf(grid), color='red', label='ecdf')\n",
    "plt.legend()\n",
    "plt.grid(ls=':')\n",
    "plt.show()"
   ]
  },
  {
   "cell_type": "markdown",
   "metadata": {},
   "source": [
    "Далее, чтобы не копировать несколько раз один и тот же код, напишем некоторую функцию.\n",
    "\n",
    "В третьей функции нужно построить ядерную оценку плотности, о которой будет рассказано на лекциях. В частности, формула была на презентации на первой лекции. Пример построения можно посмотреть тут http://statsmodels.sourceforge.net/0.6.0/generated/statsmodels.nonparametric.kde.KDEUnivariate.html"
   ]
  },
  {
   "cell_type": "code",
   "execution_count": null,
   "metadata": {
    "collapsed": true
   },
   "outputs": [],
   "source": [
    "def draw_ecdf(sample, grid, cdf=None):\n",
    "    ''' По сетке grid cтроит графики эмпирической функции распределения \n",
    "    и истинной (если она задана) для всей выборки и для 1/10 ее части.\n",
    "    '''\n",
    "    \n",
    "    plt.figure(figsize=(16, 3))\n",
    "    for i, size in enumerate([len(sample) // 10, len(sample)]):\n",
    "        plt.subplot(1, 2, i + 1)\n",
    "        \n",
    "        plt.scatter(<Первые size точек из sample с нулевой y-координатой>, \n",
    "                    alpha=0.4, label='sample')\n",
    "        \n",
    "        if cdf is not None:\n",
    "            plt.plot(grid, \n",
    "                     <Значения функции распределения в точках grid>, \n",
    "                     color='green', alpha=0.3, lw=2, label='true cdf')\n",
    "        \n",
    "        plt.plot(grid, \n",
    "                 <Значения эмпирической функции распределения \n",
    "                 (по первым size точек из sample) в точках grid>, \n",
    "                 color='red', label='ecdf')\n",
    "        \n",
    "        plt.legend()\n",
    "        plt.grid(ls=':')\n",
    "        plt.title('sample size = {}'.format(size))\n",
    "    plt.show()\n",
    "\n",
    "    \n",
    "def draw_hist(sample, grid, pdf=None):\n",
    "    ''' Строит гистограмму и по сетке grid график истинной плотности \n",
    "    (если она задана) для всей выборки и для 1/10 ее части.\n",
    "    '''\n",
    "    \n",
    "    plt.figure(figsize=(16, 3))\n",
    "    for i, size in enumerate([len(sample) // 10, len(sample)]):\n",
    "        plt.subplot(1, 2, i + 1)\n",
    "        plt.hist(<Постройте гистограмму по первым size точек из sample>, \n",
    "                 <Установите 20 ячеек>,\n",
    "                 range=(grid.min(), grid.max()), \n",
    "                 normed=True)\n",
    "        \n",
    "        if pdf is not None:\n",
    "            plt.plot(grid, \n",
    "                     <Значения плотности в точках grid>, \n",
    "                     color='green', alpha=0.3, lw=2)\n",
    "    plt.show()\n",
    "    \n",
    "\n",
    "def draw_pdf(sample, grid, pdf=None):\n",
    "    ''' По сетке grid cтроит графики ядерной оценки плотности \n",
    "    и истинной плотности (если она задана) для всей выборки и для 1/10 ее части.\n",
    "    '''\n",
    "        \n",
    "    plt.figure(figsize=(16, 3))\n",
    "    for i, size in enumerate([len(sample) // 10, len(sample)]):\n",
    "        plt.subplot(1, 2, i + 1)\n",
    "        kernel_density = KDEUnivariate(sample[:size])\n",
    "        kernel_density.fit()\n",
    "        \n",
    "        plt.scatter(<Первые size точек из sample с нулевой y-координатой>, \n",
    "                    alpha=0.4, label='sample')\n",
    "        \n",
    "        if pdf is not None:\n",
    "            plt.plot(grid,\n",
    "                     <Значения плотности в точках grid>,\n",
    "                     color='green', alpha=0.3, lw=2, label='true pdf')\n",
    "        \n",
    "        plt.plot(grid,\n",
    "                 <Значение ядерной оценки плотности (по первым size точек из sample) \n",
    "                 в точках grid (используйте evaluate)>,\n",
    "                 color='red', label='kde')\n",
    "        \n",
    "        plt.legend()\n",
    "        plt.grid(ls=':')\n",
    "    plt.show()"
   ]
  },
  {
   "cell_type": "markdown",
   "metadata": {},
   "source": [
    "При использовании KDEUnivariate могут возникать разные проблемы. Можно попробовать их решить следующими способами:\n",
    "\n",
    "**1.** В режиме суперюзера в файле `/usr/local/lib/python3.5/dist-packages/statsmodels/nonparametric/kdetools.py` замените строку 20 на\n",
    "\n",
    "`y = X[:int(m/2+1)] + np.r_[0,X[int(m/2+1):],0]*1j`\n",
    "\n",
    "В файле `/usr/local/lib/python3.5/dist-packages/statsmodels/nonparametric/kde.py` замените строку 327 на\n",
    "\n",
    "`nobs = len(X) # after trim`\n",
    "\n",
    "**2.** Попробуйте скачать с гитхаба https://github.com/statsmodels/statsmodels/, установить руками. При этом должен быть установлен cython.\n",
    "\n",
    "Можно также воспользоваться другой реализацией http://scikit-learn.org/stable/modules/generated/sklearn.neighbors.KernelDensity.html#sklearn.neighbors.KernelDensity\n",
    "\n",
    "-------\n",
    "\n",
    "Теперь примените реализованные выше функции к выборкам размера 500 из распределений $U[0, 1]$, $\\mathcal{N}(0, 1)$ и $Exp(1)$. Графики (ф.р., плотностей) стройте на интервалах $(-0.2, 1.2)$, $(-3, 3)$ и $(-0.5, 5)$ соответственно."
   ]
  },
  {
   "cell_type": "markdown",
   "metadata": {},
   "source": [
    "**Вывод:**"
   ]
  },
  {
   "cell_type": "markdown",
   "metadata": {},
   "source": [
    "<...>"
   ]
  },
  {
   "cell_type": "markdown",
   "metadata": {},
   "source": [
    "**Задача 4.** Сгенерируйте выборку $X_1, ..., X_{10000}$ из стандартного нормального распределения. Для каждого $n \\leqslant 10000$ постройте эмпирическую функцию распределения $F^*_n$ и посчитайте **точное** значение статистики $$D_n = \\sup\\limits_{x \\in \\mathbb{R}} \\left| F_n^*(x) - F(x) \\right|.$$\n",
    "Постройте график зависимости статистики $D_n$ от $n$. Верно ли, что $D_n \\to 0$ и в каком смысле? Не забудьте сделать вывод."
   ]
  },
  {
   "cell_type": "markdown",
   "metadata": {},
   "source": [
    "**Задача 5.** Исследуйте вид ядерной оценки плотности в зависимости от вида ядра и его ширины.\n",
    "\n",
    "Для этого сгенерируйте выборку $X_1, ..., X_{200}$ из распределения $U[0, 1]$ и постройте серию графиков для различной ширины гауссовского ядра, а затем другую серию графиков для различных типов ядер при фиксированной ширине. На каждом графике на отрезке $[-0.2, 1.2]$ должны быть изображены истинная плотность (полупрозрачным цветом) и ее ядерная оценка, а так же с нулевой $y$-координатой должны быть нанесены точки выборки. Для экономии места стройте графики в два столбца.\n",
    "\n",
    " Не забудьте сделать вывод."
   ]
  },
  {
   "cell_type": "markdown",
   "metadata": {},
   "source": [
    "**Задача 6.** В файле `countries.csv` дан список стран и территорий с указанием их площади. Нанести значения площади на график и постройте эмпирическую функцию распределения и ядерную оценку плотности. Поскольку некоторые страны слишком большие, ограничьте график по оси икс.  Не забудьте сделать вывод."
   ]
  },
  {
   "cell_type": "markdown",
   "metadata": {
    "collapsed": true
   },
   "source": [
    "**Задача 7.** Проведите небольшое исследование. Выберите случайных $n$ человек в социальной сети. Вы можете выбирать их случайно из всех зарегистрированных в этой социальной сети, либо по какому-то *одному* критерию (укажите его). Составьте выборку $X_1, ..., X_n$, где $X_i$ --- количество друзей у $i$-го человека. Постройте по этой выборке эмпирическую функцию распределения. Можете ли вы сказать, какому закону подчиняется распределение количества друзей?\n",
    "\n",
    "Выборка должна быть из не менее 30 человек, ограничений сверху нет. Вы можете также написать программу, которая будет автоматически собирать данные.  Не забудьте сделать вывод."
   ]
  }
 ],
 "metadata": {
  "kernelspec": {
   "display_name": "Python 3.5",
   "language": "python",
   "name": "python3"
  },
  "language_info": {
   "codemirror_mode": {
    "name": "ipython",
    "version": 3
   },
   "file_extension": ".py",
   "mimetype": "text/x-python",
   "name": "python",
   "nbconvert_exporter": "python",
   "pygments_lexer": "ipython3",
   "version": "3.5.2"
  }
 },
 "nbformat": 4,
 "nbformat_minor": 0
}
